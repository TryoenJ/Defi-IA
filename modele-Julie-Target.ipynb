{
 "cells": [
  {
   "cell_type": "markdown",
   "id": "aa85bb98",
   "metadata": {
    "id": "aa85bb98"
   },
   "source": [
    "# MODELE XGBOOST TARGET CALIBRE + SOUMISSION"
   ]
  },
  {
   "cell_type": "markdown",
   "id": "m1GFU_KJXOfx",
   "metadata": {
    "id": "m1GFU_KJXOfx"
   },
   "source": [
    "## PREPROCESSING"
   ]
  },
  {
   "cell_type": "code",
   "execution_count": null,
   "id": "9d6f07a7",
   "metadata": {
    "executionInfo": {
     "elapsed": 1922,
     "status": "ok",
     "timestamp": 1668343031631,
     "user": {
      "displayName": "Julie TRYOEN",
      "userId": "13040382308974497377"
     },
     "user_tz": -60
    },
    "id": "9d6f07a7"
   },
   "outputs": [],
   "source": [
    "import pandas as pd\n",
    "import numpy as np\n",
    "import panel as pn\n",
    "\n",
    "data = pd.read_csv('result_requetes.csv')\n",
    "#data.head()"
   ]
  },
  {
   "cell_type": "code",
   "execution_count": null,
   "id": "e3f710e4",
   "metadata": {
    "executionInfo": {
     "elapsed": 6,
     "status": "ok",
     "timestamp": 1668343032351,
     "user": {
      "displayName": "Julie TRYOEN",
      "userId": "13040382308974497377"
     },
     "user_tz": -60
    },
    "id": "e3f710e4"
   },
   "outputs": [],
   "source": [
    "#On affecte le bon type aux variables qualitatives\n",
    "data[\"city\"]=pd.Categorical(data[\"city\"],ordered=False)\n",
    "data[\"language\"]=pd.Categorical(data[\"language\"],ordered=False)\n",
    "data[\"group\"]=pd.Categorical(data[\"group\"],ordered=False)\n",
    "data[\"brand\"]=pd.Categorical(data[\"brand\"],ordered=False)\n",
    "\n",
    "data[\"mobile\"]=pd.Categorical(data[\"mobile\"],ordered=False)\n",
    "data[\"parking\"]=pd.Categorical(data[\"parking\"],ordered=False)\n",
    "data[\"pool\"]=pd.Categorical(data[\"pool\"],ordered=False)\n",
    "data[\"children_policy\"]=pd.Categorical(data[\"children_policy\"],ordered=False)\n",
    "\n",
    "data[\"hotel_id\"]=pd.Categorical(data[\"hotel_id\"],ordered=False)\n",
    "data[\"avatar_id\"]=pd.Categorical(data[\"avatar_id\"],ordered=False)\n",
    "\n",
    "data[\"price\"]=pd.DataFrame(data[\"price\"], dtype=float)\n",
    "\n",
    "#data.dtypes\n",
    "#data.head()"
   ]
  },
  {
   "cell_type": "code",
   "execution_count": null,
   "id": "cb6eae32",
   "metadata": {},
   "outputs": [],
   "source": []
  },
  {
   "cell_type": "markdown",
   "id": "q-3DfiDQW1ZW",
   "metadata": {
    "id": "q-3DfiDQW1ZW"
   },
   "source": [
    "## APPRENTISSAGE DE MODELE"
   ]
  },
  {
   "cell_type": "markdown",
   "id": "EeWdi2sXlt4H",
   "metadata": {
    "id": "EeWdi2sXlt4H"
   },
   "source": [
    "Avec TargetEncoder / MEstimateEncoder"
   ]
  },
  {
   "cell_type": "code",
   "execution_count": null,
   "id": "x434zvc64-OM",
   "metadata": {
    "executionInfo": {
     "elapsed": 13579,
     "status": "ok",
     "timestamp": 1668340352810,
     "user": {
      "displayName": "Julie TRYOEN",
      "userId": "13040382308974497377"
     },
     "user_tz": -60
    },
    "id": "x434zvc64-OM"
   },
   "outputs": [],
   "source": [
    "#!pip install category_encoders > /dev/null 2>&1   EN LOCAL ?!"
   ]
  },
  {
   "cell_type": "code",
   "execution_count": null,
   "id": "Toq0q1jX1SM9",
   "metadata": {
    "executionInfo": {
     "elapsed": 1761,
     "status": "ok",
     "timestamp": 1668343041591,
     "user": {
      "displayName": "Julie TRYOEN",
      "userId": "13040382308974497377"
     },
     "user_tz": -60
    },
    "id": "Toq0q1jX1SM9"
   },
   "outputs": [],
   "source": [
    "from category_encoders import TargetEncoder\n",
    "#from category_encoders import MEstimateEncoder"
   ]
  },
  {
   "cell_type": "code",
   "execution_count": null,
   "id": "0011b838",
   "metadata": {},
   "outputs": [],
   "source": [
    "X = data[[\"nb_requete\",\"date\",\"stock\",\"city\",\"language\",\"mobile\",\"hotel_id\",\"group\",\"brand\",\"parking\",\"pool\",\"children_policy\"]]"
   ]
  },
  {
   "cell_type": "code",
   "execution_count": null,
   "id": "cNblnWmfBXAZ",
   "metadata": {
    "executionInfo": {
     "elapsed": 294,
     "status": "ok",
     "timestamp": 1668343047056,
     "user": {
      "displayName": "Julie TRYOEN",
      "userId": "13040382308974497377"
     },
     "user_tz": -60
    },
    "id": "cNblnWmfBXAZ"
   },
   "outputs": [],
   "source": [
    "Y = data[[\"price\"]]"
   ]
  },
  {
   "cell_type": "code",
   "execution_count": null,
   "id": "a89f9c07",
   "metadata": {},
   "outputs": [],
   "source": []
  },
  {
   "cell_type": "markdown",
   "id": "6a892c23",
   "metadata": {},
   "source": [
    "NE PAS EXECUTER LES 2 CELLULES SUIVANTES"
   ]
  },
  {
   "cell_type": "code",
   "execution_count": null,
   "id": "BOHzdNv0_JZ0",
   "metadata": {
    "colab": {
     "base_uri": "https://localhost:8080/"
    },
    "executionInfo": {
     "elapsed": 12369,
     "status": "ok",
     "timestamp": 1668343061199,
     "user": {
      "displayName": "Julie TRYOEN",
      "userId": "13040382308974497377"
     },
     "user_tz": -60
    },
    "id": "BOHzdNv0_JZ0",
    "outputId": "593d3134-e58e-418c-fd2a-71fe871316f1"
   },
   "outputs": [],
   "source": [
    "#X=data[[\"city\",\"language\",\"mobile\",\"hotel_id\",\"group\",\"brand\",\"parking\",\"pool\",\"children_policy\"]]\n",
    "#enc = TargetEncoder()\n",
    "#Xenc = enc.fit_transform(X,Y)\n",
    "#dataDum=pd.DataFrame(Xenc)\n",
    "#dataDum"
   ]
  },
  {
   "cell_type": "code",
   "execution_count": null,
   "id": "shqwl4HZ4-bn",
   "metadata": {
    "executionInfo": {
     "elapsed": 31,
     "status": "ok",
     "timestamp": 1668343061200,
     "user": {
      "displayName": "Julie TRYOEN",
      "userId": "13040382308974497377"
     },
     "user_tz": -60
    },
    "id": "shqwl4HZ4-bn"
   },
   "outputs": [],
   "source": [
    "#dataQuant = data[[\"nb_requete\",\"date\",\"stock\"]]\n",
    "#dfC = pd.concat([dataQuant,dataDum],axis=1)\n",
    "#dfC"
   ]
  },
  {
   "cell_type": "code",
   "execution_count": null,
   "id": "pJl6PNB_4-qY",
   "metadata": {
    "id": "pJl6PNB_4-qY"
   },
   "outputs": [],
   "source": []
  },
  {
   "cell_type": "code",
   "execution_count": null,
   "id": "3d09ae48",
   "metadata": {
    "executionInfo": {
     "elapsed": 404,
     "status": "ok",
     "timestamp": 1668343061579,
     "user": {
      "displayName": "Julie TRYOEN",
      "userId": "13040382308974497377"
     },
     "user_tz": -60
    },
    "id": "3d09ae48"
   },
   "outputs": [],
   "source": [
    "from sklearn.model_selection import train_test_split\n",
    "\n",
    "#X_train, X_test, y_train, y_test = train_test_split(dfC, Y, test_size=0.1, random_state=0)\n",
    "X_train, X_test, y_train, y_test = train_test_split(X, Y, test_size=0.1, random_state=0)"
   ]
  },
  {
   "cell_type": "code",
   "execution_count": null,
   "id": "GjscCl7J9sCq",
   "metadata": {
    "executionInfo": {
     "elapsed": 9,
     "status": "ok",
     "timestamp": 1668343061580,
     "user": {
      "displayName": "Julie TRYOEN",
      "userId": "13040382308974497377"
     },
     "user_tz": -60
    },
    "id": "GjscCl7J9sCq"
   },
   "outputs": [],
   "source": [
    "y_train = np.ravel(y_train)"
   ]
  },
  {
   "cell_type": "code",
   "execution_count": null,
   "id": "exGW0iUnpiq-",
   "metadata": {
    "executionInfo": {
     "elapsed": 8,
     "status": "ok",
     "timestamp": 1668343061581,
     "user": {
      "displayName": "Julie TRYOEN",
      "userId": "13040382308974497377"
     },
     "user_tz": -60
    },
    "id": "exGW0iUnpiq-"
   },
   "outputs": [],
   "source": [
    "from sklearn.pipeline import make_pipeline\n",
    "from sklearn.preprocessing import QuantileTransformer, StandardScaler\n",
    "from sklearn.ensemble import RandomForestRegressor\n",
    "from sklearn.ensemble import GradientBoostingRegressor\n",
    "from sklearn.model_selection import GridSearchCV\n",
    "\n",
    "#n_estimators + grand? 100 par défaut\n",
    "#max_features?\n",
    "#max_depth? 3 par défaut\n",
    "xgb = make_pipeline(\n",
    "    ('Target',TargetEncoder()),\n",
    "    ('Scale',StandardScaler()),\n",
    "    #('XGB',GradientBoostingRegressor(n_estimators=300,max_depth=10)),\n",
    "    ('GridSearch',GridSearchCV(GradientBoostingRegressor(),[{\"n_estimators\":[100,300,500],\"max_features\":[1.,0.5,0.2],\"max_depth\":[3,7,10]}],cv=5,n_jobs=-1)),\n",
    "    #('GridSearch',GridSearchCV(GradientBoostingRegressor(),[{\"max_features\":[1.,0.5,0.2]}],cv=5,n_jobs=-1)),\n",
    ")\n",
    "\n",
    "# RandomizedSearchCV ???"
   ]
  },
  {
   "cell_type": "code",
   "execution_count": null,
   "id": "X3slgddBKvel",
   "metadata": {
    "colab": {
     "base_uri": "https://localhost:8080/"
    },
    "executionInfo": {
     "elapsed": 305111,
     "status": "ok",
     "timestamp": 1668343468660,
     "user": {
      "displayName": "Julie TRYOEN",
      "userId": "13040382308974497377"
     },
     "user_tz": -60
    },
    "id": "X3slgddBKvel",
    "outputId": "a5f841ee-08db-4e2a-cf8c-a5c8306031ca"
   },
   "outputs": [],
   "source": [
    "xgb.fit(X_train, y_train)"
   ]
  },
  {
   "cell_type": "code",
   "execution_count": null,
   "id": "e1b83445",
   "metadata": {},
   "outputs": [],
   "source": [
    "# POUR ENREGISTRER/CHARGER LE MODELE\n",
    "from joblib import dump, load\n",
    "dump(xgb, 'XGB_model_saved.joblib')\n",
    "#xgb_loaded = load('XGB_model_saved.joblib')"
   ]
  },
  {
   "cell_type": "code",
   "execution_count": null,
   "id": "5a32b8a1",
   "metadata": {},
   "outputs": [],
   "source": [
    "xgb.named_steps['GridSearch'].best_score_"
   ]
  },
  {
   "cell_type": "code",
   "execution_count": null,
   "id": "ca2d6d16",
   "metadata": {},
   "outputs": [],
   "source": [
    "xgb.named_steps['GridSearch'].best_params_"
   ]
  },
  {
   "cell_type": "code",
   "execution_count": null,
   "id": "P2C79Jqe_wAH",
   "metadata": {
    "colab": {
     "base_uri": "https://localhost:8080/"
    },
    "executionInfo": {
     "elapsed": 43,
     "status": "ok",
     "timestamp": 1668343468666,
     "user": {
      "displayName": "Julie TRYOEN",
      "userId": "13040382308974497377"
     },
     "user_tz": -60
    },
    "id": "P2C79Jqe_wAH",
    "outputId": "f77c4c2d-3cd1-4a3e-99fc-ce2df3e9efc3"
   },
   "outputs": [],
   "source": [
    "print(f\"XGB score: {xgb.score(X_test, y_test):.2f}\")"
   ]
  },
  {
   "cell_type": "code",
   "execution_count": null,
   "id": "a3fc9c1d",
   "metadata": {},
   "outputs": [],
   "source": []
  },
  {
   "cell_type": "markdown",
   "id": "fsPaf-YeNkiT",
   "metadata": {
    "id": "fsPaf-YeNkiT"
   },
   "source": [
    "## TEST DU MODELE SUR LE FICHIER DEFI"
   ]
  },
  {
   "cell_type": "code",
   "execution_count": null,
   "id": "bJVuPKHDIe8J",
   "metadata": {
    "colab": {
     "base_uri": "https://localhost:8080/",
     "height": 336
    },
    "executionInfo": {
     "elapsed": 16,
     "status": "ok",
     "timestamp": 1668343469848,
     "user": {
      "displayName": "Julie TRYOEN",
      "userId": "13040382308974497377"
     },
     "user_tz": -60
    },
    "id": "bJVuPKHDIe8J",
    "outputId": "60bb6166-55f2-4737-e45b-f3bb08f37a96"
   },
   "outputs": [],
   "source": [
    "test = pd.read_csv('./defi-ia-2023/test_set3.csv')\n",
    "test.head()"
   ]
  },
  {
   "cell_type": "code",
   "execution_count": null,
   "id": "u_lbvCNUIfj-",
   "metadata": {
    "executionInfo": {
     "elapsed": 12,
     "status": "ok",
     "timestamp": 1668343469850,
     "user": {
      "displayName": "Julie TRYOEN",
      "userId": "13040382308974497377"
     },
     "user_tz": -60
    },
    "id": "u_lbvCNUIfj-"
   },
   "outputs": [],
   "source": [
    "#On affecte le bon type aux variables qualitatives\n",
    "test[\"city\"]=pd.Categorical(test[\"city\"],ordered=False)\n",
    "test[\"language\"]=pd.Categorical(test[\"language\"],ordered=False)\n",
    "test[\"group\"]=pd.Categorical(test[\"group\"],ordered=False)\n",
    "test[\"brand\"]=pd.Categorical(test[\"brand\"],ordered=False)\n",
    "\n",
    "test[\"mobile\"]=pd.Categorical(test[\"mobile\"],ordered=False)\n",
    "test[\"parking\"]=pd.Categorical(test[\"parking\"],ordered=False)\n",
    "test[\"pool\"]=pd.Categorical(test[\"pool\"],ordered=False)\n",
    "test[\"children_policy\"]=pd.Categorical(test[\"children_policy\"],ordered=False)\n",
    "\n",
    "test[\"hotel_id\"]=pd.Categorical(test[\"hotel_id\"],ordered=False)\n",
    "test[\"avatar_id\"]=pd.Categorical(test[\"avatar_id\"],ordered=False)\n",
    "\n",
    "#test.dtypes\n",
    "#test.head()"
   ]
  },
  {
   "cell_type": "code",
   "execution_count": null,
   "id": "_J0SnH0c4HRu",
   "metadata": {
    "id": "_J0SnH0c4HRu"
   },
   "outputs": [],
   "source": []
  },
  {
   "cell_type": "markdown",
   "id": "0445b722",
   "metadata": {},
   "source": [
    "NE PAS EXECUTER LES 3 CELLULES SUIVANTES"
   ]
  },
  {
   "cell_type": "code",
   "execution_count": null,
   "id": "QrY1vHh1JCb8",
   "metadata": {
    "executionInfo": {
     "elapsed": 519,
     "status": "ok",
     "timestamp": 1668343494035,
     "user": {
      "displayName": "Julie TRYOEN",
      "userId": "13040382308974497377"
     },
     "user_tz": -60
    },
    "id": "QrY1vHh1JCb8"
   },
   "outputs": [],
   "source": [
    "#T=test[[\"city\",\"language\",\"mobile\",\"hotel_id\",\"group\",\"brand\",\"parking\",\"pool\",\"children_policy\"]]\n",
    "#Tenc=enc.transform(T)"
   ]
  },
  {
   "cell_type": "code",
   "execution_count": null,
   "id": "8HZr8r2JJJIY",
   "metadata": {
    "colab": {
     "base_uri": "https://localhost:8080/",
     "height": 419
    },
    "executionInfo": {
     "elapsed": 290,
     "status": "ok",
     "timestamp": 1668343508200,
     "user": {
      "displayName": "Julie TRYOEN",
      "userId": "13040382308974497377"
     },
     "user_tz": -60
    },
    "id": "8HZr8r2JJJIY",
    "outputId": "a83abcbc-486f-4e61-ef36-6bd809eb904a"
   },
   "outputs": [],
   "source": [
    "#testDum=pd.DataFrame(Tenc)\n",
    "#testDum"
   ]
  },
  {
   "cell_type": "code",
   "execution_count": null,
   "id": "yQJHvDZJJJWY",
   "metadata": {
    "colab": {
     "base_uri": "https://localhost:8080/",
     "height": 204
    },
    "executionInfo": {
     "elapsed": 483,
     "status": "ok",
     "timestamp": 1668343515828,
     "user": {
      "displayName": "Julie TRYOEN",
      "userId": "13040382308974497377"
     },
     "user_tz": -60
    },
    "id": "yQJHvDZJJJWY",
    "outputId": "f427bebe-c2c1-49a1-da29-da51de6b9259"
   },
   "outputs": [],
   "source": [
    "#testQuant = test[[\"nb_requete\",\"date\",\"stock\"]]\n",
    "#Xtest = pd.concat([testQuant,testDum],axis=1)\n",
    "#Xtest.head()"
   ]
  },
  {
   "cell_type": "code",
   "execution_count": null,
   "id": "NO4msarD4Xjq",
   "metadata": {
    "id": "NO4msarD4Xjq"
   },
   "outputs": [],
   "source": []
  },
  {
   "cell_type": "code",
   "execution_count": null,
   "id": "2000f8e8",
   "metadata": {},
   "outputs": [],
   "source": [
    "T = test[[\"nb_requete\",\"date\",\"stock\",\"city\",\"language\",\"mobile\",\"hotel_id\",\"group\",\"brand\",\"parking\",\"pool\",\"children_policy\"]]"
   ]
  },
  {
   "cell_type": "code",
   "execution_count": null,
   "id": "7WdAPYILJ59o",
   "metadata": {
    "executionInfo": {
     "elapsed": 1251,
     "status": "ok",
     "timestamp": 1668343526710,
     "user": {
      "displayName": "Julie TRYOEN",
      "userId": "13040382308974497377"
     },
     "user_tz": -60
    },
    "id": "7WdAPYILJ59o"
   },
   "outputs": [],
   "source": [
    "#Yprev=xgb.predict(Xtest)\n",
    "Yprev=xgb.predict(T)"
   ]
  },
  {
   "cell_type": "code",
   "execution_count": null,
   "id": "xOvdMj_VXrg8",
   "metadata": {
    "executionInfo": {
     "elapsed": 6,
     "status": "ok",
     "timestamp": 1668343526711,
     "user": {
      "displayName": "Julie TRYOEN",
      "userId": "13040382308974497377"
     },
     "user_tz": -60
    },
    "id": "xOvdMj_VXrg8"
   },
   "outputs": [],
   "source": [
    "Yprev0=np.around(Yprev, decimals=1)"
   ]
  },
  {
   "cell_type": "code",
   "execution_count": null,
   "id": "8oIwTFahXrus",
   "metadata": {
    "executionInfo": {
     "elapsed": 6,
     "status": "ok",
     "timestamp": 1668343526712,
     "user": {
      "displayName": "Julie TRYOEN",
      "userId": "13040382308974497377"
     },
     "user_tz": -60
    },
    "id": "8oIwTFahXrus"
   },
   "outputs": [],
   "source": [
    "Yindice = pd.DataFrame(np.arange(0,len(Yprev0)),columns = ['index'])"
   ]
  },
  {
   "cell_type": "code",
   "execution_count": null,
   "id": "rvZ6W-HjYExY",
   "metadata": {
    "executionInfo": {
     "elapsed": 26,
     "status": "aborted",
     "timestamp": 1668343471569,
     "user": {
      "displayName": "Julie TRYOEN",
      "userId": "13040382308974497377"
     },
     "user_tz": -60
    },
    "id": "rvZ6W-HjYExY"
   },
   "outputs": [],
   "source": [
    "Yprice=pd.DataFrame(Yprev0,columns = ['price'])\n",
    "Ysub=Yindice.join(Yprice, on=None, how='right', lsuffix='', rsuffix='', sort=False)\n",
    "Ysub.to_csv('./submission/sample_submissionXGB.csv', index= False)"
   ]
  },
  {
   "cell_type": "code",
   "execution_count": null,
   "id": "w2_7Z4zNYE-y",
   "metadata": {
    "id": "w2_7Z4zNYE-y"
   },
   "outputs": [],
   "source": []
  }
 ],
 "metadata": {
  "colab": {
   "collapsed_sections": [
    "5de15d79",
    "GRNavcJGUW_a",
    "CWhaP_5dUjhq"
   ],
   "provenance": []
  },
  "gpuClass": "standard",
  "kernelspec": {
   "display_name": "Python 3 (ipykernel)",
   "language": "python",
   "name": "python3"
  },
  "language_info": {
   "codemirror_mode": {
    "name": "ipython",
    "version": 3
   },
   "file_extension": ".py",
   "mimetype": "text/x-python",
   "name": "python",
   "nbconvert_exporter": "python",
   "pygments_lexer": "ipython3",
   "version": "3.9.7"
  },
  "widgets": {
   "application/vnd.jupyter.widget-state+json": {
    "0fca0ffd28264f4aa67a05aa7acbd350": {
     "model_module": "@jupyter-widgets/base",
     "model_module_version": "1.2.0",
     "model_name": "LayoutModel",
     "state": {
      "_model_module": "@jupyter-widgets/base",
      "_model_module_version": "1.2.0",
      "_model_name": "LayoutModel",
      "_view_count": null,
      "_view_module": "@jupyter-widgets/base",
      "_view_module_version": "1.2.0",
      "_view_name": "LayoutView",
      "align_content": null,
      "align_items": null,
      "align_self": null,
      "border": null,
      "bottom": null,
      "display": null,
      "flex": null,
      "flex_flow": null,
      "grid_area": null,
      "grid_auto_columns": null,
      "grid_auto_flow": null,
      "grid_auto_rows": null,
      "grid_column": null,
      "grid_gap": null,
      "grid_row": null,
      "grid_template_areas": null,
      "grid_template_columns": null,
      "grid_template_rows": null,
      "height": null,
      "justify_content": null,
      "justify_items": null,
      "left": null,
      "margin": null,
      "max_height": null,
      "max_width": null,
      "min_height": null,
      "min_width": null,
      "object_fit": null,
      "object_position": null,
      "order": null,
      "overflow": null,
      "overflow_x": null,
      "overflow_y": null,
      "padding": null,
      "right": null,
      "top": null,
      "visibility": null,
      "width": null
     }
    },
    "10b4151525f84ef7aa73e610e541a8fb": {
     "model_module": "@jupyter-widgets/controls",
     "model_module_version": "1.5.0",
     "model_name": "HTMLModel",
     "state": {
      "_dom_classes": [],
      "_model_module": "@jupyter-widgets/controls",
      "_model_module_version": "1.5.0",
      "_model_name": "HTMLModel",
      "_view_count": null,
      "_view_module": "@jupyter-widgets/controls",
      "_view_module_version": "1.5.0",
      "_view_name": "HTMLView",
      "description": "",
      "description_tooltip": null,
      "layout": "IPY_MODEL_e2c528df8b3e4bfcac136563fabaabdf",
      "placeholder": "​",
      "style": "IPY_MODEL_894209b28e044f4a9c226ea8aeeb8358",
      "value": " 1/1 [00:01&lt;00:00,  1.03s/it]"
     }
    },
    "11e91f81d3f749a8be50848c39b70fd8": {
     "model_module": "@jupyter-widgets/controls",
     "model_module_version": "1.5.0",
     "model_name": "HBoxModel",
     "state": {
      "_dom_classes": [],
      "_model_module": "@jupyter-widgets/controls",
      "_model_module_version": "1.5.0",
      "_model_name": "HBoxModel",
      "_view_count": null,
      "_view_module": "@jupyter-widgets/controls",
      "_view_module_version": "1.5.0",
      "_view_name": "HBoxView",
      "box_style": "",
      "children": [
       "IPY_MODEL_4ec4d36967c44cf6a71b69c386df448a",
       "IPY_MODEL_ca2f5f90fcf34d4ea03328491cfaebbf",
       "IPY_MODEL_35856da6575748a7a7526624e96e28f3"
      ],
      "layout": "IPY_MODEL_ef5511c4fccd4a318c9f5753930cbb90"
     }
    },
    "12b732eeeae0457cab3d0f9326693bdd": {
     "model_module": "@jupyter-widgets/base",
     "model_module_version": "1.2.0",
     "model_name": "LayoutModel",
     "state": {
      "_model_module": "@jupyter-widgets/base",
      "_model_module_version": "1.2.0",
      "_model_name": "LayoutModel",
      "_view_count": null,
      "_view_module": "@jupyter-widgets/base",
      "_view_module_version": "1.2.0",
      "_view_name": "LayoutView",
      "align_content": null,
      "align_items": null,
      "align_self": null,
      "border": null,
      "bottom": null,
      "display": null,
      "flex": null,
      "flex_flow": null,
      "grid_area": null,
      "grid_auto_columns": null,
      "grid_auto_flow": null,
      "grid_auto_rows": null,
      "grid_column": null,
      "grid_gap": null,
      "grid_row": null,
      "grid_template_areas": null,
      "grid_template_columns": null,
      "grid_template_rows": null,
      "height": null,
      "justify_content": null,
      "justify_items": null,
      "left": null,
      "margin": null,
      "max_height": null,
      "max_width": null,
      "min_height": null,
      "min_width": null,
      "object_fit": null,
      "object_position": null,
      "order": null,
      "overflow": null,
      "overflow_x": null,
      "overflow_y": null,
      "padding": null,
      "right": null,
      "top": null,
      "visibility": null,
      "width": null
     }
    },
    "161675d52c7241ffacd500c59c6530fa": {
     "model_module": "@jupyter-widgets/controls",
     "model_module_version": "1.5.0",
     "model_name": "ProgressStyleModel",
     "state": {
      "_model_module": "@jupyter-widgets/controls",
      "_model_module_version": "1.5.0",
      "_model_name": "ProgressStyleModel",
      "_view_count": null,
      "_view_module": "@jupyter-widgets/base",
      "_view_module_version": "1.2.0",
      "_view_name": "StyleView",
      "bar_color": null,
      "description_width": ""
     }
    },
    "1738e2edc0a24af0aa63b3e23368f6fc": {
     "model_module": "@jupyter-widgets/controls",
     "model_module_version": "1.5.0",
     "model_name": "FloatProgressModel",
     "state": {
      "_dom_classes": [],
      "_model_module": "@jupyter-widgets/controls",
      "_model_module_version": "1.5.0",
      "_model_name": "FloatProgressModel",
      "_view_count": null,
      "_view_module": "@jupyter-widgets/controls",
      "_view_module_version": "1.5.0",
      "_view_name": "ProgressView",
      "bar_style": "",
      "description": "",
      "description_tooltip": null,
      "layout": "IPY_MODEL_6f0dee4453834a0cba18282f5768c1da",
      "max": 20,
      "min": 0,
      "orientation": "horizontal",
      "style": "IPY_MODEL_aa7b215976ae46429dca9ff178b6618d",
      "value": 0
     }
    },
    "2808e647e3e642de8f8565117860d8a3": {
     "model_module": "@jupyter-widgets/controls",
     "model_module_version": "1.5.0",
     "model_name": "DescriptionStyleModel",
     "state": {
      "_model_module": "@jupyter-widgets/controls",
      "_model_module_version": "1.5.0",
      "_model_name": "DescriptionStyleModel",
      "_view_count": null,
      "_view_module": "@jupyter-widgets/base",
      "_view_module_version": "1.2.0",
      "_view_name": "StyleView",
      "description_width": ""
     }
    },
    "35856da6575748a7a7526624e96e28f3": {
     "model_module": "@jupyter-widgets/controls",
     "model_module_version": "1.5.0",
     "model_name": "HTMLModel",
     "state": {
      "_dom_classes": [],
      "_model_module": "@jupyter-widgets/controls",
      "_model_module_version": "1.5.0",
      "_model_name": "HTMLModel",
      "_view_count": null,
      "_view_module": "@jupyter-widgets/controls",
      "_view_module_version": "1.5.0",
      "_view_name": "HTMLView",
      "description": "",
      "description_tooltip": null,
      "layout": "IPY_MODEL_8b1c9d2b1e4041b2bfd3018febc8e2a1",
      "placeholder": "​",
      "style": "IPY_MODEL_a79c52b48d6a41e4ba611fbcf8a873ab",
      "value": " 1/1 [00:04&lt;00:00,  4.53s/it]"
     }
    },
    "3741878607b44aa1b907220be302c63a": {
     "model_module": "@jupyter-widgets/base",
     "model_module_version": "1.2.0",
     "model_name": "LayoutModel",
     "state": {
      "_model_module": "@jupyter-widgets/base",
      "_model_module_version": "1.2.0",
      "_model_name": "LayoutModel",
      "_view_count": null,
      "_view_module": "@jupyter-widgets/base",
      "_view_module_version": "1.2.0",
      "_view_name": "LayoutView",
      "align_content": null,
      "align_items": null,
      "align_self": null,
      "border": null,
      "bottom": null,
      "display": null,
      "flex": null,
      "flex_flow": null,
      "grid_area": null,
      "grid_auto_columns": null,
      "grid_auto_flow": null,
      "grid_auto_rows": null,
      "grid_column": null,
      "grid_gap": null,
      "grid_row": null,
      "grid_template_areas": null,
      "grid_template_columns": null,
      "grid_template_rows": null,
      "height": null,
      "justify_content": null,
      "justify_items": null,
      "left": null,
      "margin": null,
      "max_height": null,
      "max_width": null,
      "min_height": null,
      "min_width": null,
      "object_fit": null,
      "object_position": null,
      "order": null,
      "overflow": null,
      "overflow_x": null,
      "overflow_y": null,
      "padding": null,
      "right": null,
      "top": null,
      "visibility": null,
      "width": null
     }
    },
    "3b27d685edf34e4a832d5db67ce37c2a": {
     "model_module": "@jupyter-widgets/controls",
     "model_module_version": "1.5.0",
     "model_name": "HTMLModel",
     "state": {
      "_dom_classes": [],
      "_model_module": "@jupyter-widgets/controls",
      "_model_module_version": "1.5.0",
      "_model_name": "HTMLModel",
      "_view_count": null,
      "_view_module": "@jupyter-widgets/controls",
      "_view_module_version": "1.5.0",
      "_view_name": "HTMLView",
      "description": "",
      "description_tooltip": null,
      "layout": "IPY_MODEL_8bc4b9ccab744e7f9dea18075a214850",
      "placeholder": "​",
      "style": "IPY_MODEL_8caded8030874af794064232bbcf5c4a",
      "value": " 27/27 [00:17&lt;00:00,  1.22it/s, Completed]"
     }
    },
    "450331e7ad81468a8a7c72bbc2e5a316": {
     "model_module": "@jupyter-widgets/base",
     "model_module_version": "1.2.0",
     "model_name": "LayoutModel",
     "state": {
      "_model_module": "@jupyter-widgets/base",
      "_model_module_version": "1.2.0",
      "_model_name": "LayoutModel",
      "_view_count": null,
      "_view_module": "@jupyter-widgets/base",
      "_view_module_version": "1.2.0",
      "_view_name": "LayoutView",
      "align_content": null,
      "align_items": null,
      "align_self": null,
      "border": null,
      "bottom": null,
      "display": null,
      "flex": null,
      "flex_flow": null,
      "grid_area": null,
      "grid_auto_columns": null,
      "grid_auto_flow": null,
      "grid_auto_rows": null,
      "grid_column": null,
      "grid_gap": null,
      "grid_row": null,
      "grid_template_areas": null,
      "grid_template_columns": null,
      "grid_template_rows": null,
      "height": null,
      "justify_content": null,
      "justify_items": null,
      "left": null,
      "margin": null,
      "max_height": null,
      "max_width": null,
      "min_height": null,
      "min_width": null,
      "object_fit": null,
      "object_position": null,
      "order": null,
      "overflow": null,
      "overflow_x": null,
      "overflow_y": null,
      "padding": null,
      "right": null,
      "top": null,
      "visibility": null,
      "width": null
     }
    },
    "49b2417ba8c940bb853f0357c88d0bdb": {
     "model_module": "@jupyter-widgets/base",
     "model_module_version": "1.2.0",
     "model_name": "LayoutModel",
     "state": {
      "_model_module": "@jupyter-widgets/base",
      "_model_module_version": "1.2.0",
      "_model_name": "LayoutModel",
      "_view_count": null,
      "_view_module": "@jupyter-widgets/base",
      "_view_module_version": "1.2.0",
      "_view_name": "LayoutView",
      "align_content": null,
      "align_items": null,
      "align_self": null,
      "border": null,
      "bottom": null,
      "display": null,
      "flex": null,
      "flex_flow": null,
      "grid_area": null,
      "grid_auto_columns": null,
      "grid_auto_flow": null,
      "grid_auto_rows": null,
      "grid_column": null,
      "grid_gap": null,
      "grid_row": null,
      "grid_template_areas": null,
      "grid_template_columns": null,
      "grid_template_rows": null,
      "height": null,
      "justify_content": null,
      "justify_items": null,
      "left": null,
      "margin": null,
      "max_height": null,
      "max_width": null,
      "min_height": null,
      "min_width": null,
      "object_fit": null,
      "object_position": null,
      "order": null,
      "overflow": null,
      "overflow_x": null,
      "overflow_y": null,
      "padding": null,
      "right": null,
      "top": null,
      "visibility": null,
      "width": null
     }
    },
    "4c349ea1ab4c4a7b9fea64317710fb1c": {
     "model_module": "@jupyter-widgets/controls",
     "model_module_version": "1.5.0",
     "model_name": "DescriptionStyleModel",
     "state": {
      "_model_module": "@jupyter-widgets/controls",
      "_model_module_version": "1.5.0",
      "_model_name": "DescriptionStyleModel",
      "_view_count": null,
      "_view_module": "@jupyter-widgets/base",
      "_view_module_version": "1.2.0",
      "_view_name": "StyleView",
      "description_width": ""
     }
    },
    "4ec4d36967c44cf6a71b69c386df448a": {
     "model_module": "@jupyter-widgets/controls",
     "model_module_version": "1.5.0",
     "model_name": "HTMLModel",
     "state": {
      "_dom_classes": [],
      "_model_module": "@jupyter-widgets/controls",
      "_model_module_version": "1.5.0",
      "_model_name": "HTMLModel",
      "_view_count": null,
      "_view_module": "@jupyter-widgets/controls",
      "_view_module_version": "1.5.0",
      "_view_name": "HTMLView",
      "description": "",
      "description_tooltip": null,
      "layout": "IPY_MODEL_dfee315a3d414e8097b59902329ec353",
      "placeholder": "​",
      "style": "IPY_MODEL_e6ee273410ae472899112062c483182c",
      "value": "Generate report structure: 100%"
     }
    },
    "52edd93936f64947aa6a56fe5df4562a": {
     "model_module": "@jupyter-widgets/controls",
     "model_module_version": "1.5.0",
     "model_name": "HBoxModel",
     "state": {
      "_dom_classes": [],
      "_model_module": "@jupyter-widgets/controls",
      "_model_module_version": "1.5.0",
      "_model_name": "HBoxModel",
      "_view_count": null,
      "_view_module": "@jupyter-widgets/controls",
      "_view_module_version": "1.5.0",
      "_view_name": "HBoxView",
      "box_style": "",
      "children": [
       "IPY_MODEL_af64f716a88343a0bcadfc2c1e760383",
       "IPY_MODEL_1738e2edc0a24af0aa63b3e23368f6fc",
       "IPY_MODEL_be628619b6334449ac996b33ebfdf17d"
      ],
      "layout": "IPY_MODEL_12b732eeeae0457cab3d0f9326693bdd"
     }
    },
    "5d6404bc0853416ca57aaa656da39917": {
     "model_module": "@jupyter-widgets/base",
     "model_module_version": "1.2.0",
     "model_name": "LayoutModel",
     "state": {
      "_model_module": "@jupyter-widgets/base",
      "_model_module_version": "1.2.0",
      "_model_name": "LayoutModel",
      "_view_count": null,
      "_view_module": "@jupyter-widgets/base",
      "_view_module_version": "1.2.0",
      "_view_name": "LayoutView",
      "align_content": null,
      "align_items": null,
      "align_self": null,
      "border": null,
      "bottom": null,
      "display": null,
      "flex": null,
      "flex_flow": null,
      "grid_area": null,
      "grid_auto_columns": null,
      "grid_auto_flow": null,
      "grid_auto_rows": null,
      "grid_column": null,
      "grid_gap": null,
      "grid_row": null,
      "grid_template_areas": null,
      "grid_template_columns": null,
      "grid_template_rows": null,
      "height": null,
      "justify_content": null,
      "justify_items": null,
      "left": null,
      "margin": null,
      "max_height": null,
      "max_width": null,
      "min_height": null,
      "min_width": null,
      "object_fit": null,
      "object_position": null,
      "order": null,
      "overflow": null,
      "overflow_x": null,
      "overflow_y": null,
      "padding": null,
      "right": null,
      "top": null,
      "visibility": null,
      "width": null
     }
    },
    "6d10274eab08438f8b3eadb44ee300bf": {
     "model_module": "@jupyter-widgets/base",
     "model_module_version": "1.2.0",
     "model_name": "LayoutModel",
     "state": {
      "_model_module": "@jupyter-widgets/base",
      "_model_module_version": "1.2.0",
      "_model_name": "LayoutModel",
      "_view_count": null,
      "_view_module": "@jupyter-widgets/base",
      "_view_module_version": "1.2.0",
      "_view_name": "LayoutView",
      "align_content": null,
      "align_items": null,
      "align_self": null,
      "border": null,
      "bottom": null,
      "display": null,
      "flex": null,
      "flex_flow": null,
      "grid_area": null,
      "grid_auto_columns": null,
      "grid_auto_flow": null,
      "grid_auto_rows": null,
      "grid_column": null,
      "grid_gap": null,
      "grid_row": null,
      "grid_template_areas": null,
      "grid_template_columns": null,
      "grid_template_rows": null,
      "height": null,
      "justify_content": null,
      "justify_items": null,
      "left": null,
      "margin": null,
      "max_height": null,
      "max_width": null,
      "min_height": null,
      "min_width": null,
      "object_fit": null,
      "object_position": null,
      "order": null,
      "overflow": null,
      "overflow_x": null,
      "overflow_y": null,
      "padding": null,
      "right": null,
      "top": null,
      "visibility": null,
      "width": null
     }
    },
    "6f0dee4453834a0cba18282f5768c1da": {
     "model_module": "@jupyter-widgets/base",
     "model_module_version": "1.2.0",
     "model_name": "LayoutModel",
     "state": {
      "_model_module": "@jupyter-widgets/base",
      "_model_module_version": "1.2.0",
      "_model_name": "LayoutModel",
      "_view_count": null,
      "_view_module": "@jupyter-widgets/base",
      "_view_module_version": "1.2.0",
      "_view_name": "LayoutView",
      "align_content": null,
      "align_items": null,
      "align_self": null,
      "border": null,
      "bottom": null,
      "display": null,
      "flex": null,
      "flex_flow": null,
      "grid_area": null,
      "grid_auto_columns": null,
      "grid_auto_flow": null,
      "grid_auto_rows": null,
      "grid_column": null,
      "grid_gap": null,
      "grid_row": null,
      "grid_template_areas": null,
      "grid_template_columns": null,
      "grid_template_rows": null,
      "height": null,
      "justify_content": null,
      "justify_items": null,
      "left": null,
      "margin": null,
      "max_height": null,
      "max_width": null,
      "min_height": null,
      "min_width": null,
      "object_fit": null,
      "object_position": null,
      "order": null,
      "overflow": null,
      "overflow_x": null,
      "overflow_y": null,
      "padding": null,
      "right": null,
      "top": null,
      "visibility": null,
      "width": null
     }
    },
    "74c7f697a22241138a26cd55fcd3b85a": {
     "model_module": "@jupyter-widgets/controls",
     "model_module_version": "1.5.0",
     "model_name": "DescriptionStyleModel",
     "state": {
      "_model_module": "@jupyter-widgets/controls",
      "_model_module_version": "1.5.0",
      "_model_name": "DescriptionStyleModel",
      "_view_count": null,
      "_view_module": "@jupyter-widgets/base",
      "_view_module_version": "1.2.0",
      "_view_name": "StyleView",
      "description_width": ""
     }
    },
    "894209b28e044f4a9c226ea8aeeb8358": {
     "model_module": "@jupyter-widgets/controls",
     "model_module_version": "1.5.0",
     "model_name": "DescriptionStyleModel",
     "state": {
      "_model_module": "@jupyter-widgets/controls",
      "_model_module_version": "1.5.0",
      "_model_name": "DescriptionStyleModel",
      "_view_count": null,
      "_view_module": "@jupyter-widgets/base",
      "_view_module_version": "1.2.0",
      "_view_name": "StyleView",
      "description_width": ""
     }
    },
    "8b1c9d2b1e4041b2bfd3018febc8e2a1": {
     "model_module": "@jupyter-widgets/base",
     "model_module_version": "1.2.0",
     "model_name": "LayoutModel",
     "state": {
      "_model_module": "@jupyter-widgets/base",
      "_model_module_version": "1.2.0",
      "_model_name": "LayoutModel",
      "_view_count": null,
      "_view_module": "@jupyter-widgets/base",
      "_view_module_version": "1.2.0",
      "_view_name": "LayoutView",
      "align_content": null,
      "align_items": null,
      "align_self": null,
      "border": null,
      "bottom": null,
      "display": null,
      "flex": null,
      "flex_flow": null,
      "grid_area": null,
      "grid_auto_columns": null,
      "grid_auto_flow": null,
      "grid_auto_rows": null,
      "grid_column": null,
      "grid_gap": null,
      "grid_row": null,
      "grid_template_areas": null,
      "grid_template_columns": null,
      "grid_template_rows": null,
      "height": null,
      "justify_content": null,
      "justify_items": null,
      "left": null,
      "margin": null,
      "max_height": null,
      "max_width": null,
      "min_height": null,
      "min_width": null,
      "object_fit": null,
      "object_position": null,
      "order": null,
      "overflow": null,
      "overflow_x": null,
      "overflow_y": null,
      "padding": null,
      "right": null,
      "top": null,
      "visibility": null,
      "width": null
     }
    },
    "8bc4b9ccab744e7f9dea18075a214850": {
     "model_module": "@jupyter-widgets/base",
     "model_module_version": "1.2.0",
     "model_name": "LayoutModel",
     "state": {
      "_model_module": "@jupyter-widgets/base",
      "_model_module_version": "1.2.0",
      "_model_name": "LayoutModel",
      "_view_count": null,
      "_view_module": "@jupyter-widgets/base",
      "_view_module_version": "1.2.0",
      "_view_name": "LayoutView",
      "align_content": null,
      "align_items": null,
      "align_self": null,
      "border": null,
      "bottom": null,
      "display": null,
      "flex": null,
      "flex_flow": null,
      "grid_area": null,
      "grid_auto_columns": null,
      "grid_auto_flow": null,
      "grid_auto_rows": null,
      "grid_column": null,
      "grid_gap": null,
      "grid_row": null,
      "grid_template_areas": null,
      "grid_template_columns": null,
      "grid_template_rows": null,
      "height": null,
      "justify_content": null,
      "justify_items": null,
      "left": null,
      "margin": null,
      "max_height": null,
      "max_width": null,
      "min_height": null,
      "min_width": null,
      "object_fit": null,
      "object_position": null,
      "order": null,
      "overflow": null,
      "overflow_x": null,
      "overflow_y": null,
      "padding": null,
      "right": null,
      "top": null,
      "visibility": null,
      "width": null
     }
    },
    "8caded8030874af794064232bbcf5c4a": {
     "model_module": "@jupyter-widgets/controls",
     "model_module_version": "1.5.0",
     "model_name": "DescriptionStyleModel",
     "state": {
      "_model_module": "@jupyter-widgets/controls",
      "_model_module_version": "1.5.0",
      "_model_name": "DescriptionStyleModel",
      "_view_count": null,
      "_view_module": "@jupyter-widgets/base",
      "_view_module_version": "1.2.0",
      "_view_name": "StyleView",
      "description_width": ""
     }
    },
    "a6683de3ed244bea85ee4f45e82c733b": {
     "model_module": "@jupyter-widgets/base",
     "model_module_version": "1.2.0",
     "model_name": "LayoutModel",
     "state": {
      "_model_module": "@jupyter-widgets/base",
      "_model_module_version": "1.2.0",
      "_model_name": "LayoutModel",
      "_view_count": null,
      "_view_module": "@jupyter-widgets/base",
      "_view_module_version": "1.2.0",
      "_view_name": "LayoutView",
      "align_content": null,
      "align_items": null,
      "align_self": null,
      "border": null,
      "bottom": null,
      "display": null,
      "flex": null,
      "flex_flow": null,
      "grid_area": null,
      "grid_auto_columns": null,
      "grid_auto_flow": null,
      "grid_auto_rows": null,
      "grid_column": null,
      "grid_gap": null,
      "grid_row": null,
      "grid_template_areas": null,
      "grid_template_columns": null,
      "grid_template_rows": null,
      "height": null,
      "justify_content": null,
      "justify_items": null,
      "left": null,
      "margin": null,
      "max_height": null,
      "max_width": null,
      "min_height": null,
      "min_width": null,
      "object_fit": null,
      "object_position": null,
      "order": null,
      "overflow": null,
      "overflow_x": null,
      "overflow_y": null,
      "padding": null,
      "right": null,
      "top": null,
      "visibility": null,
      "width": null
     }
    },
    "a79c52b48d6a41e4ba611fbcf8a873ab": {
     "model_module": "@jupyter-widgets/controls",
     "model_module_version": "1.5.0",
     "model_name": "DescriptionStyleModel",
     "state": {
      "_model_module": "@jupyter-widgets/controls",
      "_model_module_version": "1.5.0",
      "_model_name": "DescriptionStyleModel",
      "_view_count": null,
      "_view_module": "@jupyter-widgets/base",
      "_view_module_version": "1.2.0",
      "_view_name": "StyleView",
      "description_width": ""
     }
    },
    "a9576bad61a943f7bae7028705263591": {
     "model_module": "@jupyter-widgets/controls",
     "model_module_version": "1.5.0",
     "model_name": "HTMLModel",
     "state": {
      "_dom_classes": [],
      "_model_module": "@jupyter-widgets/controls",
      "_model_module_version": "1.5.0",
      "_model_name": "HTMLModel",
      "_view_count": null,
      "_view_module": "@jupyter-widgets/controls",
      "_view_module_version": "1.5.0",
      "_view_name": "HTMLView",
      "description": "",
      "description_tooltip": null,
      "layout": "IPY_MODEL_3741878607b44aa1b907220be302c63a",
      "placeholder": "​",
      "style": "IPY_MODEL_74c7f697a22241138a26cd55fcd3b85a",
      "value": "Render HTML: 100%"
     }
    },
    "aa7b215976ae46429dca9ff178b6618d": {
     "model_module": "@jupyter-widgets/controls",
     "model_module_version": "1.5.0",
     "model_name": "ProgressStyleModel",
     "state": {
      "_model_module": "@jupyter-widgets/controls",
      "_model_module_version": "1.5.0",
      "_model_name": "ProgressStyleModel",
      "_view_count": null,
      "_view_module": "@jupyter-widgets/base",
      "_view_module_version": "1.2.0",
      "_view_name": "StyleView",
      "bar_color": null,
      "description_width": ""
     }
    },
    "af64f716a88343a0bcadfc2c1e760383": {
     "model_module": "@jupyter-widgets/controls",
     "model_module_version": "1.5.0",
     "model_name": "HTMLModel",
     "state": {
      "_dom_classes": [],
      "_model_module": "@jupyter-widgets/controls",
      "_model_module_version": "1.5.0",
      "_model_name": "HTMLModel",
      "_view_count": null,
      "_view_module": "@jupyter-widgets/controls",
      "_view_module_version": "1.5.0",
      "_view_name": "HTMLView",
      "description": "",
      "description_tooltip": null,
      "layout": "IPY_MODEL_f5da2defa7f84981a466f8a8a05cf4dc",
      "placeholder": "​",
      "style": "IPY_MODEL_2808e647e3e642de8f8565117860d8a3",
      "value": "  0%"
     }
    },
    "b00b3f7618074986aee99d69782b00ad": {
     "model_module": "@jupyter-widgets/controls",
     "model_module_version": "1.5.0",
     "model_name": "ProgressStyleModel",
     "state": {
      "_model_module": "@jupyter-widgets/controls",
      "_model_module_version": "1.5.0",
      "_model_name": "ProgressStyleModel",
      "_view_count": null,
      "_view_module": "@jupyter-widgets/base",
      "_view_module_version": "1.2.0",
      "_view_name": "StyleView",
      "bar_color": null,
      "description_width": ""
     }
    },
    "bd883c3e94a1407cb861f8e5a4c8f7be": {
     "model_module": "@jupyter-widgets/controls",
     "model_module_version": "1.5.0",
     "model_name": "HTMLModel",
     "state": {
      "_dom_classes": [],
      "_model_module": "@jupyter-widgets/controls",
      "_model_module_version": "1.5.0",
      "_model_name": "HTMLModel",
      "_view_count": null,
      "_view_module": "@jupyter-widgets/controls",
      "_view_module_version": "1.5.0",
      "_view_name": "HTMLView",
      "description": "",
      "description_tooltip": null,
      "layout": "IPY_MODEL_a6683de3ed244bea85ee4f45e82c733b",
      "placeholder": "​",
      "style": "IPY_MODEL_cd6197b8d09d4681ac259be14b67795a",
      "value": "Summarize dataset: 100%"
     }
    },
    "be628619b6334449ac996b33ebfdf17d": {
     "model_module": "@jupyter-widgets/controls",
     "model_module_version": "1.5.0",
     "model_name": "HTMLModel",
     "state": {
      "_dom_classes": [],
      "_model_module": "@jupyter-widgets/controls",
      "_model_module_version": "1.5.0",
      "_model_name": "HTMLModel",
      "_view_count": null,
      "_view_module": "@jupyter-widgets/controls",
      "_view_module_version": "1.5.0",
      "_view_name": "HTMLView",
      "description": "",
      "description_tooltip": null,
      "layout": "IPY_MODEL_0fca0ffd28264f4aa67a05aa7acbd350",
      "placeholder": "​",
      "style": "IPY_MODEL_4c349ea1ab4c4a7b9fea64317710fb1c",
      "value": " 0/20 [00:00&lt;?, ?it/s]"
     }
    },
    "c9abc32632714627b043f0ba53d8c2c3": {
     "model_module": "@jupyter-widgets/base",
     "model_module_version": "1.2.0",
     "model_name": "LayoutModel",
     "state": {
      "_model_module": "@jupyter-widgets/base",
      "_model_module_version": "1.2.0",
      "_model_name": "LayoutModel",
      "_view_count": null,
      "_view_module": "@jupyter-widgets/base",
      "_view_module_version": "1.2.0",
      "_view_name": "LayoutView",
      "align_content": null,
      "align_items": null,
      "align_self": null,
      "border": null,
      "bottom": null,
      "display": null,
      "flex": null,
      "flex_flow": null,
      "grid_area": null,
      "grid_auto_columns": null,
      "grid_auto_flow": null,
      "grid_auto_rows": null,
      "grid_column": null,
      "grid_gap": null,
      "grid_row": null,
      "grid_template_areas": null,
      "grid_template_columns": null,
      "grid_template_rows": null,
      "height": null,
      "justify_content": null,
      "justify_items": null,
      "left": null,
      "margin": null,
      "max_height": null,
      "max_width": null,
      "min_height": null,
      "min_width": null,
      "object_fit": null,
      "object_position": null,
      "order": null,
      "overflow": null,
      "overflow_x": null,
      "overflow_y": null,
      "padding": null,
      "right": null,
      "top": null,
      "visibility": null,
      "width": null
     }
    },
    "ca2f5f90fcf34d4ea03328491cfaebbf": {
     "model_module": "@jupyter-widgets/controls",
     "model_module_version": "1.5.0",
     "model_name": "FloatProgressModel",
     "state": {
      "_dom_classes": [],
      "_model_module": "@jupyter-widgets/controls",
      "_model_module_version": "1.5.0",
      "_model_name": "FloatProgressModel",
      "_view_count": null,
      "_view_module": "@jupyter-widgets/controls",
      "_view_module_version": "1.5.0",
      "_view_name": "ProgressView",
      "bar_style": "success",
      "description": "",
      "description_tooltip": null,
      "layout": "IPY_MODEL_6d10274eab08438f8b3eadb44ee300bf",
      "max": 1,
      "min": 0,
      "orientation": "horizontal",
      "style": "IPY_MODEL_cc177570ba8f43b2b8666deb5aee683d",
      "value": 1
     }
    },
    "cc177570ba8f43b2b8666deb5aee683d": {
     "model_module": "@jupyter-widgets/controls",
     "model_module_version": "1.5.0",
     "model_name": "ProgressStyleModel",
     "state": {
      "_model_module": "@jupyter-widgets/controls",
      "_model_module_version": "1.5.0",
      "_model_name": "ProgressStyleModel",
      "_view_count": null,
      "_view_module": "@jupyter-widgets/base",
      "_view_module_version": "1.2.0",
      "_view_name": "StyleView",
      "bar_color": null,
      "description_width": ""
     }
    },
    "cd6197b8d09d4681ac259be14b67795a": {
     "model_module": "@jupyter-widgets/controls",
     "model_module_version": "1.5.0",
     "model_name": "DescriptionStyleModel",
     "state": {
      "_model_module": "@jupyter-widgets/controls",
      "_model_module_version": "1.5.0",
      "_model_name": "DescriptionStyleModel",
      "_view_count": null,
      "_view_module": "@jupyter-widgets/base",
      "_view_module_version": "1.2.0",
      "_view_name": "StyleView",
      "description_width": ""
     }
    },
    "dfee315a3d414e8097b59902329ec353": {
     "model_module": "@jupyter-widgets/base",
     "model_module_version": "1.2.0",
     "model_name": "LayoutModel",
     "state": {
      "_model_module": "@jupyter-widgets/base",
      "_model_module_version": "1.2.0",
      "_model_name": "LayoutModel",
      "_view_count": null,
      "_view_module": "@jupyter-widgets/base",
      "_view_module_version": "1.2.0",
      "_view_name": "LayoutView",
      "align_content": null,
      "align_items": null,
      "align_self": null,
      "border": null,
      "bottom": null,
      "display": null,
      "flex": null,
      "flex_flow": null,
      "grid_area": null,
      "grid_auto_columns": null,
      "grid_auto_flow": null,
      "grid_auto_rows": null,
      "grid_column": null,
      "grid_gap": null,
      "grid_row": null,
      "grid_template_areas": null,
      "grid_template_columns": null,
      "grid_template_rows": null,
      "height": null,
      "justify_content": null,
      "justify_items": null,
      "left": null,
      "margin": null,
      "max_height": null,
      "max_width": null,
      "min_height": null,
      "min_width": null,
      "object_fit": null,
      "object_position": null,
      "order": null,
      "overflow": null,
      "overflow_x": null,
      "overflow_y": null,
      "padding": null,
      "right": null,
      "top": null,
      "visibility": null,
      "width": null
     }
    },
    "e18b1e8b149141c28f0028cd41c5f131": {
     "model_module": "@jupyter-widgets/controls",
     "model_module_version": "1.5.0",
     "model_name": "HBoxModel",
     "state": {
      "_dom_classes": [],
      "_model_module": "@jupyter-widgets/controls",
      "_model_module_version": "1.5.0",
      "_model_name": "HBoxModel",
      "_view_count": null,
      "_view_module": "@jupyter-widgets/controls",
      "_view_module_version": "1.5.0",
      "_view_name": "HBoxView",
      "box_style": "",
      "children": [
       "IPY_MODEL_a9576bad61a943f7bae7028705263591",
       "IPY_MODEL_ef3b22b514c546ba85d3879669667bee",
       "IPY_MODEL_10b4151525f84ef7aa73e610e541a8fb"
      ],
      "layout": "IPY_MODEL_450331e7ad81468a8a7c72bbc2e5a316"
     }
    },
    "e2c528df8b3e4bfcac136563fabaabdf": {
     "model_module": "@jupyter-widgets/base",
     "model_module_version": "1.2.0",
     "model_name": "LayoutModel",
     "state": {
      "_model_module": "@jupyter-widgets/base",
      "_model_module_version": "1.2.0",
      "_model_name": "LayoutModel",
      "_view_count": null,
      "_view_module": "@jupyter-widgets/base",
      "_view_module_version": "1.2.0",
      "_view_name": "LayoutView",
      "align_content": null,
      "align_items": null,
      "align_self": null,
      "border": null,
      "bottom": null,
      "display": null,
      "flex": null,
      "flex_flow": null,
      "grid_area": null,
      "grid_auto_columns": null,
      "grid_auto_flow": null,
      "grid_auto_rows": null,
      "grid_column": null,
      "grid_gap": null,
      "grid_row": null,
      "grid_template_areas": null,
      "grid_template_columns": null,
      "grid_template_rows": null,
      "height": null,
      "justify_content": null,
      "justify_items": null,
      "left": null,
      "margin": null,
      "max_height": null,
      "max_width": null,
      "min_height": null,
      "min_width": null,
      "object_fit": null,
      "object_position": null,
      "order": null,
      "overflow": null,
      "overflow_x": null,
      "overflow_y": null,
      "padding": null,
      "right": null,
      "top": null,
      "visibility": null,
      "width": null
     }
    },
    "e6445d0883264a18912f44b53a4315aa": {
     "model_module": "@jupyter-widgets/controls",
     "model_module_version": "1.5.0",
     "model_name": "HBoxModel",
     "state": {
      "_dom_classes": [],
      "_model_module": "@jupyter-widgets/controls",
      "_model_module_version": "1.5.0",
      "_model_name": "HBoxModel",
      "_view_count": null,
      "_view_module": "@jupyter-widgets/controls",
      "_view_module_version": "1.5.0",
      "_view_name": "HBoxView",
      "box_style": "",
      "children": [
       "IPY_MODEL_bd883c3e94a1407cb861f8e5a4c8f7be",
       "IPY_MODEL_fb60ff341b4c42b8b91aa60a777d0149",
       "IPY_MODEL_3b27d685edf34e4a832d5db67ce37c2a"
      ],
      "layout": "IPY_MODEL_5d6404bc0853416ca57aaa656da39917"
     }
    },
    "e6ee273410ae472899112062c483182c": {
     "model_module": "@jupyter-widgets/controls",
     "model_module_version": "1.5.0",
     "model_name": "DescriptionStyleModel",
     "state": {
      "_model_module": "@jupyter-widgets/controls",
      "_model_module_version": "1.5.0",
      "_model_name": "DescriptionStyleModel",
      "_view_count": null,
      "_view_module": "@jupyter-widgets/base",
      "_view_module_version": "1.2.0",
      "_view_name": "StyleView",
      "description_width": ""
     }
    },
    "ef3b22b514c546ba85d3879669667bee": {
     "model_module": "@jupyter-widgets/controls",
     "model_module_version": "1.5.0",
     "model_name": "FloatProgressModel",
     "state": {
      "_dom_classes": [],
      "_model_module": "@jupyter-widgets/controls",
      "_model_module_version": "1.5.0",
      "_model_name": "FloatProgressModel",
      "_view_count": null,
      "_view_module": "@jupyter-widgets/controls",
      "_view_module_version": "1.5.0",
      "_view_name": "ProgressView",
      "bar_style": "success",
      "description": "",
      "description_tooltip": null,
      "layout": "IPY_MODEL_49b2417ba8c940bb853f0357c88d0bdb",
      "max": 1,
      "min": 0,
      "orientation": "horizontal",
      "style": "IPY_MODEL_b00b3f7618074986aee99d69782b00ad",
      "value": 1
     }
    },
    "ef5511c4fccd4a318c9f5753930cbb90": {
     "model_module": "@jupyter-widgets/base",
     "model_module_version": "1.2.0",
     "model_name": "LayoutModel",
     "state": {
      "_model_module": "@jupyter-widgets/base",
      "_model_module_version": "1.2.0",
      "_model_name": "LayoutModel",
      "_view_count": null,
      "_view_module": "@jupyter-widgets/base",
      "_view_module_version": "1.2.0",
      "_view_name": "LayoutView",
      "align_content": null,
      "align_items": null,
      "align_self": null,
      "border": null,
      "bottom": null,
      "display": null,
      "flex": null,
      "flex_flow": null,
      "grid_area": null,
      "grid_auto_columns": null,
      "grid_auto_flow": null,
      "grid_auto_rows": null,
      "grid_column": null,
      "grid_gap": null,
      "grid_row": null,
      "grid_template_areas": null,
      "grid_template_columns": null,
      "grid_template_rows": null,
      "height": null,
      "justify_content": null,
      "justify_items": null,
      "left": null,
      "margin": null,
      "max_height": null,
      "max_width": null,
      "min_height": null,
      "min_width": null,
      "object_fit": null,
      "object_position": null,
      "order": null,
      "overflow": null,
      "overflow_x": null,
      "overflow_y": null,
      "padding": null,
      "right": null,
      "top": null,
      "visibility": null,
      "width": null
     }
    },
    "f5da2defa7f84981a466f8a8a05cf4dc": {
     "model_module": "@jupyter-widgets/base",
     "model_module_version": "1.2.0",
     "model_name": "LayoutModel",
     "state": {
      "_model_module": "@jupyter-widgets/base",
      "_model_module_version": "1.2.0",
      "_model_name": "LayoutModel",
      "_view_count": null,
      "_view_module": "@jupyter-widgets/base",
      "_view_module_version": "1.2.0",
      "_view_name": "LayoutView",
      "align_content": null,
      "align_items": null,
      "align_self": null,
      "border": null,
      "bottom": null,
      "display": null,
      "flex": null,
      "flex_flow": null,
      "grid_area": null,
      "grid_auto_columns": null,
      "grid_auto_flow": null,
      "grid_auto_rows": null,
      "grid_column": null,
      "grid_gap": null,
      "grid_row": null,
      "grid_template_areas": null,
      "grid_template_columns": null,
      "grid_template_rows": null,
      "height": null,
      "justify_content": null,
      "justify_items": null,
      "left": null,
      "margin": null,
      "max_height": null,
      "max_width": null,
      "min_height": null,
      "min_width": null,
      "object_fit": null,
      "object_position": null,
      "order": null,
      "overflow": null,
      "overflow_x": null,
      "overflow_y": null,
      "padding": null,
      "right": null,
      "top": null,
      "visibility": null,
      "width": null
     }
    },
    "fb60ff341b4c42b8b91aa60a777d0149": {
     "model_module": "@jupyter-widgets/controls",
     "model_module_version": "1.5.0",
     "model_name": "FloatProgressModel",
     "state": {
      "_dom_classes": [],
      "_model_module": "@jupyter-widgets/controls",
      "_model_module_version": "1.5.0",
      "_model_name": "FloatProgressModel",
      "_view_count": null,
      "_view_module": "@jupyter-widgets/controls",
      "_view_module_version": "1.5.0",
      "_view_name": "ProgressView",
      "bar_style": "success",
      "description": "",
      "description_tooltip": null,
      "layout": "IPY_MODEL_c9abc32632714627b043f0ba53d8c2c3",
      "max": 27,
      "min": 0,
      "orientation": "horizontal",
      "style": "IPY_MODEL_161675d52c7241ffacd500c59c6530fa",
      "value": 27
     }
    }
   }
  }
 },
 "nbformat": 4,
 "nbformat_minor": 5
}
