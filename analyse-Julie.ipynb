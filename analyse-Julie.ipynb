{
 "cells": [
  {
   "cell_type": "markdown",
   "id": "aa85bb98",
   "metadata": {},
   "source": [
    "# Analyse de données (fichiers requests & test)"
   ]
  },
  {
   "cell_type": "markdown",
   "id": "5f331442",
   "metadata": {},
   "source": [
    "## Analyse fichier requests"
   ]
  },
  {
   "cell_type": "code",
   "execution_count": 1,
   "id": "9d6f07a7",
   "metadata": {},
   "outputs": [],
   "source": [
    "import pandas as pd\n",
    "import numpy as np\n",
    "import panel as pn\n",
    "\n",
    "%matplotlib inline\n",
    "import matplotlib.pyplot as plt\n",
    "\n",
    "data = pd.read_csv('result_requetes.csv')\n",
    "#data.head()"
   ]
  },
  {
   "cell_type": "code",
   "execution_count": 2,
   "id": "e3f710e4",
   "metadata": {},
   "outputs": [],
   "source": [
    "#On affecte le bon type aux variables qualitatives\n",
    "data[\"city\"]=pd.Categorical(data[\"city\"],ordered=False)\n",
    "data[\"language\"]=pd.Categorical(data[\"language\"],ordered=False)\n",
    "data[\"group\"]=pd.Categorical(data[\"group\"],ordered=False)\n",
    "data[\"brand\"]=pd.Categorical(data[\"brand\"],ordered=False)\n",
    "\n",
    "data[\"mobile\"]=pd.Categorical(data[\"mobile\"],ordered=False)\n",
    "data[\"parking\"]=pd.Categorical(data[\"parking\"],ordered=False)\n",
    "data[\"pool\"]=pd.Categorical(data[\"pool\"],ordered=False)\n",
    "data[\"children_policy\"]=pd.Categorical(data[\"children_policy\"],ordered=False)\n",
    "\n",
    "data[\"hotel_id\"]=pd.Categorical(data[\"hotel_id\"],ordered=False)\n",
    "data[\"avatar_id\"]=pd.Categorical(data[\"avatar_id\"],ordered=False)\n",
    "\n",
    "data[\"price\"]=pd.DataFrame(data[\"price\"], dtype=float)\n",
    "\n",
    "#data.dtypes\n",
    "#data.head()"
   ]
  },
  {
   "cell_type": "code",
   "execution_count": 3,
   "id": "26b76508",
   "metadata": {},
   "outputs": [
    {
     "data": {
      "text/html": [
       "<div>\n",
       "<style scoped>\n",
       "    .dataframe tbody tr th:only-of-type {\n",
       "        vertical-align: middle;\n",
       "    }\n",
       "\n",
       "    .dataframe tbody tr th {\n",
       "        vertical-align: top;\n",
       "    }\n",
       "\n",
       "    .dataframe thead th {\n",
       "        text-align: right;\n",
       "    }\n",
       "</style>\n",
       "<table border=\"1\" class=\"dataframe\">\n",
       "  <thead>\n",
       "    <tr style=\"text-align: right;\">\n",
       "      <th></th>\n",
       "      <th>order_requests</th>\n",
       "      <th>nb_requete</th>\n",
       "      <th>price</th>\n",
       "      <th>stock</th>\n",
       "      <th>date</th>\n",
       "    </tr>\n",
       "  </thead>\n",
       "  <tbody>\n",
       "    <tr>\n",
       "      <th>count</th>\n",
       "      <td>106738.000000</td>\n",
       "      <td>106738.000000</td>\n",
       "      <td>106738.000000</td>\n",
       "      <td>106738.000000</td>\n",
       "      <td>106738.000000</td>\n",
       "    </tr>\n",
       "    <tr>\n",
       "      <th>mean</th>\n",
       "      <td>499.644813</td>\n",
       "      <td>1.613999</td>\n",
       "      <td>157.218001</td>\n",
       "      <td>33.061759</td>\n",
       "      <td>17.866570</td>\n",
       "    </tr>\n",
       "    <tr>\n",
       "      <th>std</th>\n",
       "      <td>289.600292</td>\n",
       "      <td>0.854605</td>\n",
       "      <td>81.572593</td>\n",
       "      <td>46.650718</td>\n",
       "      <td>12.599721</td>\n",
       "    </tr>\n",
       "    <tr>\n",
       "      <th>min</th>\n",
       "      <td>1.000000</td>\n",
       "      <td>1.000000</td>\n",
       "      <td>38.000000</td>\n",
       "      <td>0.000000</td>\n",
       "      <td>0.000000</td>\n",
       "    </tr>\n",
       "    <tr>\n",
       "      <th>25%</th>\n",
       "      <td>247.000000</td>\n",
       "      <td>1.000000</td>\n",
       "      <td>95.000000</td>\n",
       "      <td>2.000000</td>\n",
       "      <td>7.000000</td>\n",
       "    </tr>\n",
       "    <tr>\n",
       "      <th>50%</th>\n",
       "      <td>495.000000</td>\n",
       "      <td>1.000000</td>\n",
       "      <td>140.000000</td>\n",
       "      <td>14.000000</td>\n",
       "      <td>15.000000</td>\n",
       "    </tr>\n",
       "    <tr>\n",
       "      <th>75%</th>\n",
       "      <td>752.000000</td>\n",
       "      <td>2.000000</td>\n",
       "      <td>195.000000</td>\n",
       "      <td>44.000000</td>\n",
       "      <td>27.000000</td>\n",
       "    </tr>\n",
       "    <tr>\n",
       "      <th>max</th>\n",
       "      <td>1005.000000</td>\n",
       "      <td>7.000000</td>\n",
       "      <td>522.000000</td>\n",
       "      <td>284.000000</td>\n",
       "      <td>44.000000</td>\n",
       "    </tr>\n",
       "  </tbody>\n",
       "</table>\n",
       "</div>"
      ],
      "text/plain": [
       "       order_requests     nb_requete          price          stock  \\\n",
       "count   106738.000000  106738.000000  106738.000000  106738.000000   \n",
       "mean       499.644813       1.613999     157.218001      33.061759   \n",
       "std        289.600292       0.854605      81.572593      46.650718   \n",
       "min          1.000000       1.000000      38.000000       0.000000   \n",
       "25%        247.000000       1.000000      95.000000       2.000000   \n",
       "50%        495.000000       1.000000     140.000000      14.000000   \n",
       "75%        752.000000       2.000000     195.000000      44.000000   \n",
       "max       1005.000000       7.000000     522.000000     284.000000   \n",
       "\n",
       "                date  \n",
       "count  106738.000000  \n",
       "mean       17.866570  \n",
       "std        12.599721  \n",
       "min         0.000000  \n",
       "25%         7.000000  \n",
       "50%        15.000000  \n",
       "75%        27.000000  \n",
       "max        44.000000  "
      ]
     },
     "execution_count": 3,
     "metadata": {},
     "output_type": "execute_result"
    }
   ],
   "source": [
    "data.describe() #Indicateurs statistiques 1D pour les variables quantitatives"
   ]
  },
  {
   "cell_type": "markdown",
   "id": "5de15d79",
   "metadata": {},
   "source": [
    "## UTILISER LES FONCTIONS TP IA INTERPRETABILITE"
   ]
  },
  {
   "cell_type": "code",
   "execution_count": 6,
   "id": "7361c387",
   "metadata": {},
   "outputs": [
    {
     "name": "stdout",
     "output_type": "stream",
     "text": [
      "^C\r\n"
     ]
    }
   ],
   "source": [
    "!pip install pandas-profiling==2.8.0 > /dev/null 2>&1\n",
    "!pip install pandas==0.25 > /dev/null 2>&1"
   ]
  },
  {
   "cell_type": "code",
   "execution_count": 4,
   "id": "97becc89",
   "metadata": {},
   "outputs": [
    {
     "ename": "ModuleNotFoundError",
     "evalue": "No module named 'pandas_profiling'",
     "output_type": "error",
     "traceback": [
      "\u001b[0;31m---------------------------------------------------------------------------\u001b[0m",
      "\u001b[0;31mModuleNotFoundError\u001b[0m                       Traceback (most recent call last)",
      "\u001b[0;32m/var/folders/f5/9xlfx8bd77xcl2qjfmxtc8br0000gn/T/ipykernel_11913/1139978066.py\u001b[0m in \u001b[0;36m<module>\u001b[0;34m\u001b[0m\n\u001b[0;32m----> 1\u001b[0;31m \u001b[0;32mfrom\u001b[0m \u001b[0mpandas_profiling\u001b[0m \u001b[0;32mimport\u001b[0m \u001b[0mProfileReport\u001b[0m\u001b[0;34m\u001b[0m\u001b[0;34m\u001b[0m\u001b[0m\n\u001b[0m\u001b[1;32m      2\u001b[0m \u001b[0;34m\u001b[0m\u001b[0m\n\u001b[1;32m      3\u001b[0m \u001b[0mProfileReport\u001b[0m\u001b[0;34m(\u001b[0m\u001b[0mdata\u001b[0m\u001b[0;34m,\u001b[0m \u001b[0msort\u001b[0m\u001b[0;34m=\u001b[0m\u001b[0;34m\"None\"\u001b[0m\u001b[0;34m)\u001b[0m\u001b[0;34m\u001b[0m\u001b[0;34m\u001b[0m\u001b[0m\n",
      "\u001b[0;31mModuleNotFoundError\u001b[0m: No module named 'pandas_profiling'"
     ]
    }
   ],
   "source": [
    "from pandas_profiling import ProfileReport\n",
    "\n",
    "ProfileReport(data, sort=\"None\")"
   ]
  },
  {
   "cell_type": "code",
   "execution_count": null,
   "id": "3d09ae48",
   "metadata": {},
   "outputs": [],
   "source": []
  },
  {
   "cell_type": "markdown",
   "id": "19a1fa13",
   "metadata": {},
   "source": [
    "## Analyse fichier requests"
   ]
  },
  {
   "cell_type": "code",
   "execution_count": null,
   "id": "88b6b0a1",
   "metadata": {},
   "outputs": [],
   "source": [
    "import pandas as pd\n",
    "import numpy as np\n",
    "import panel as pn\n",
    "\n",
    "%matplotlib inline\n",
    "import matplotlib.pyplot as plt\n",
    "\n",
    "test = pd.read_csv('./defi-ia-2023/test_set3.csv')\n",
    "#test.head()"
   ]
  },
  {
   "cell_type": "code",
   "execution_count": null,
   "id": "87b47f5a",
   "metadata": {},
   "outputs": [],
   "source": [
    "#On affecte le bon type aux variables qualitatives\n",
    "test[\"city\"]=pd.Categorical(test[\"city\"],ordered=False)\n",
    "test[\"language\"]=pd.Categorical(test[\"language\"],ordered=False)\n",
    "test[\"group\"]=pd.Categorical(test[\"group\"],ordered=False)\n",
    "test[\"brand\"]=pd.Categorical(test[\"brand\"],ordered=False)\n",
    "\n",
    "test[\"mobile\"]=pd.Categorical(test[\"mobile\"],ordered=False)\n",
    "test[\"parking\"]=pd.Categorical(test[\"parking\"],ordered=False)\n",
    "test[\"pool\"]=pd.Categorical(test[\"pool\"],ordered=False)\n",
    "test[\"children_policy\"]=pd.Categorical(test[\"children_policy\"],ordered=False)\n",
    "\n",
    "test[\"hotel_id\"]=pd.Categorical(test[\"hotel_id\"],ordered=False)\n",
    "test[\"avatar_id\"]=pd.Categorical(test[\"avatar_id\"],ordered=False)\n",
    "\n",
    "#test[\"price\"]=pd.DataFrame(test[\"price\"], dtype=float)\n",
    "\n",
    "#test.dtypes\n",
    "#test.head()"
   ]
  },
  {
   "cell_type": "code",
   "execution_count": null,
   "id": "af0de7e5",
   "metadata": {},
   "outputs": [],
   "source": [
    "test.describe()"
   ]
  },
  {
   "cell_type": "code",
   "execution_count": null,
   "id": "bcbce52b",
   "metadata": {},
   "outputs": [],
   "source": []
  }
 ],
 "metadata": {
  "kernelspec": {
   "display_name": "Python 3 (ipykernel)",
   "language": "python",
   "name": "python3"
  },
  "language_info": {
   "codemirror_mode": {
    "name": "ipython",
    "version": 3
   },
   "file_extension": ".py",
   "mimetype": "text/x-python",
   "name": "python",
   "nbconvert_exporter": "python",
   "pygments_lexer": "ipython3",
   "version": "3.9.7"
  }
 },
 "nbformat": 4,
 "nbformat_minor": 5
}
