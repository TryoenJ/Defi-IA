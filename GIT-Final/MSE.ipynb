{
 "cells": [
  {
   "cell_type": "markdown",
   "id": "aa85bb98",
   "metadata": {
    "id": "aa85bb98"
   },
   "source": [
    "# MEAN-SQUARED ERROR AVEC UN MODELE XGBOOST A 7 INPUTS"
   ]
  },
  {
   "cell_type": "markdown",
   "id": "96zUo_7ZLMTq",
   "metadata": {
    "id": "96zUo_7ZLMTq"
   },
   "source": [
    "## CHARGEMENT DES LIBRAIRIES"
   ]
  },
  {
   "cell_type": "code",
   "execution_count": 1,
   "id": "14e9510a",
   "metadata": {
    "colab": {
     "base_uri": "https://localhost:8080/"
    },
    "executionInfo": {
     "elapsed": 130513,
     "status": "ok",
     "timestamp": 1673309340798,
     "user": {
      "displayName": "Julie TRYOEN",
      "userId": "13040382308974497377"
     },
     "user_tz": -60
    },
    "id": "14e9510a",
    "outputId": "4ceca5c2-d75d-4569-9c83-379e6f8c6ee4"
   },
   "outputs": [],
   "source": [
    "#from google.colab import drive\n",
    "#drive.mount('/content/gdrive')"
   ]
  },
  {
   "cell_type": "code",
   "execution_count": 2,
   "id": "98Vb-TrdK-Eu",
   "metadata": {
    "executionInfo": {
     "elapsed": 7126,
     "status": "ok",
     "timestamp": 1673309347872,
     "user": {
      "displayName": "Julie TRYOEN",
      "userId": "13040382308974497377"
     },
     "user_tz": -60
    },
    "id": "98Vb-TrdK-Eu"
   },
   "outputs": [],
   "source": [
    "#!pip install category_encoders > /dev/null 2>&1\n",
    "#!pip install xgboost > /dev/null 2>&1"
   ]
  },
  {
   "cell_type": "code",
   "execution_count": 3,
   "id": "5b1626e5",
   "metadata": {
    "executionInfo": {
     "elapsed": 3056,
     "status": "ok",
     "timestamp": 1673309350895,
     "user": {
      "displayName": "Julie TRYOEN",
      "userId": "13040382308974497377"
     },
     "user_tz": -60
    },
    "id": "5b1626e5"
   },
   "outputs": [
    {
     "name": "stderr",
     "output_type": "stream",
     "text": [
      "/usr/local/insa/anaconda/lib/python3.9/site-packages/xgboost/compat.py:36: FutureWarning: pandas.Int64Index is deprecated and will be removed from pandas in a future version. Use pandas.Index with the appropriate dtype instead.\n",
      "  from pandas import MultiIndex, Int64Index\n"
     ]
    }
   ],
   "source": [
    "import os\n",
    "\n",
    "import numpy as np\n",
    "import pandas as pd\n",
    "import panel as pn\n",
    "\n",
    "import matplotlib.pyplot as plt\n",
    "\n",
    "from sklearn.pipeline import Pipeline\n",
    "from sklearn.preprocessing import OneHotEncoder, StandardScaler\n",
    "from category_encoders import TargetEncoder\n",
    "from xgboost import XGBRegressor\n",
    "from sklearn.model_selection import train_test_split\n",
    "from sklearn.metrics import mean_squared_error\n",
    "from sklearn.metrics import r2_score\n",
    "from joblib import dump, load"
   ]
  },
  {
   "cell_type": "code",
   "execution_count": 4,
   "id": "d8b55db2",
   "metadata": {
    "executionInfo": {
     "elapsed": 17,
     "status": "ok",
     "timestamp": 1673309350897,
     "user": {
      "displayName": "Julie TRYOEN",
      "userId": "13040382308974497377"
     },
     "user_tz": -60
    },
    "id": "d8b55db2"
   },
   "outputs": [],
   "source": [
    "#create a new outputs directory\n",
    "if not(os.path.isdir('./results_store/')):\n",
    "    os.makedirs('./results_store/')"
   ]
  },
  {
   "cell_type": "markdown",
   "id": "YwcYfX5dLTkF",
   "metadata": {
    "id": "YwcYfX5dLTkF"
   },
   "source": [
    "## PREPROCESSING"
   ]
  },
  {
   "cell_type": "code",
   "execution_count": 5,
   "id": "ILFW872HLAA2",
   "metadata": {
    "executionInfo": {
     "elapsed": 1028,
     "status": "ok",
     "timestamp": 1673309351911,
     "user": {
      "displayName": "Julie TRYOEN",
      "userId": "13040382308974497377"
     },
     "user_tz": -60
    },
    "id": "ILFW872HLAA2"
   },
   "outputs": [],
   "source": [
    "#data = pd.read_csv('/content/gdrive/My Drive/Defi-IA/new_result_requetes.csv')\n",
    "data = pd.read_csv('./data/new_result_requetes.csv')"
   ]
  },
  {
   "cell_type": "code",
   "execution_count": 6,
   "id": "e3f710e4",
   "metadata": {
    "executionInfo": {
     "elapsed": 321,
     "status": "ok",
     "timestamp": 1673309352224,
     "user": {
      "displayName": "Julie TRYOEN",
      "userId": "13040382308974497377"
     },
     "user_tz": -60
    },
    "id": "e3f710e4"
   },
   "outputs": [],
   "source": [
    "#On affecte le bon type aux variables qualitatives\n",
    "data[\"avatar_id\"]=pd.Categorical(data[\"avatar_id\"],ordered=False)\n",
    "data[\"city\"]=pd.Categorical(data[\"city\"],ordered=False)\n",
    "data[\"language\"]=pd.Categorical(data[\"language\"],ordered=False)\n",
    "data[\"mobile\"]=pd.Categorical(data[\"mobile\"],ordered=False)\n",
    "data[\"hotel_id\"]=pd.Categorical(data[\"hotel_id\"],ordered=False)\n",
    "data[\"group\"]=pd.Categorical(data[\"group\"],ordered=False)\n",
    "data[\"brand\"]=pd.Categorical(data[\"brand\"],ordered=False)\n",
    "data[\"parking\"]=pd.Categorical(data[\"parking\"],ordered=False)\n",
    "data[\"pool\"]=pd.Categorical(data[\"pool\"],ordered=False)\n",
    "data[\"children_policy\"]=pd.Categorical(data[\"children_policy\"],ordered=False)\n",
    "\n",
    "data[\"price\"]=pd.DataFrame(data[\"price\"], dtype=float)"
   ]
  },
  {
   "cell_type": "code",
   "execution_count": 7,
   "id": "G8_N5_PuSl93",
   "metadata": {
    "executionInfo": {
     "elapsed": 28,
     "status": "ok",
     "timestamp": 1673309352226,
     "user": {
      "displayName": "Julie TRYOEN",
      "userId": "13040382308974497377"
     },
     "user_tz": -60
    },
    "id": "G8_N5_PuSl93"
   },
   "outputs": [],
   "source": [
    "#X = data[[\"nb_requete\",\"date\",\"stock\",\"city\",\"language\",\"mobile\",\"hotel_id\",\"group\",\"brand\",\"parking\",\"pool\",\"children_policy\"]]\n",
    "#X = data[[\"date\",\"stock\",\"city\",\"language\",\"mobile\",\"hotel_id\",\"group\",\"brand\",\"parking\",\"pool\",\"children_policy\"]]\n",
    "X = data[[\"date\",\"stock\",\"city\",\"language\",\"hotel_id\",\"group\",\"brand\"]]"
   ]
  },
  {
   "cell_type": "code",
   "execution_count": 8,
   "id": "bIgc2K_CSmif",
   "metadata": {
    "executionInfo": {
     "elapsed": 26,
     "status": "ok",
     "timestamp": 1673309352227,
     "user": {
      "displayName": "Julie TRYOEN",
      "userId": "13040382308974497377"
     },
     "user_tz": -60
    },
    "id": "bIgc2K_CSmif"
   },
   "outputs": [],
   "source": [
    "Y = data[[\"price\"]]"
   ]
  },
  {
   "cell_type": "markdown",
   "id": "q-3DfiDQW1ZW",
   "metadata": {
    "id": "q-3DfiDQW1ZW"
   },
   "source": [
    "## DEFINITION DU MODELE"
   ]
  },
  {
   "cell_type": "code",
   "execution_count": 9,
   "id": "84e5903a",
   "metadata": {
    "colab": {
     "base_uri": "https://localhost:8080/"
    },
    "executionInfo": {
     "elapsed": 48,
     "status": "ok",
     "timestamp": 1673309352572,
     "user": {
      "displayName": "Julie TRYOEN",
      "userId": "13040382308974497377"
     },
     "user_tz": -60
    },
    "id": "84e5903a",
    "outputId": "dd590517-0b6e-44d6-c501-7baffd479f7b"
   },
   "outputs": [
    {
     "name": "stderr",
     "output_type": "stream",
     "text": [
      "/home/tryoen/.local/lib/python3.9/site-packages/category_encoders/target_encoder.py:122: FutureWarning: Default parameter min_samples_leaf will change in version 2.6.See https://github.com/scikit-learn-contrib/category_encoders/issues/327\n",
      "  warnings.warn(\"Default parameter min_samples_leaf will change in version 2.6.\"\n",
      "/home/tryoen/.local/lib/python3.9/site-packages/category_encoders/target_encoder.py:127: FutureWarning: Default parameter smoothing will change in version 2.6.See https://github.com/scikit-learn-contrib/category_encoders/issues/327\n",
      "  warnings.warn(\"Default parameter smoothing will change in version 2.6.\"\n"
     ]
    }
   ],
   "source": [
    "pipT = Pipeline(steps=[\n",
    "                      (\"Cat_encoder\", TargetEncoder()),\n",
    "                      (\"Standard_scaler\", StandardScaler()),\n",
    "                      (\"Boosting\", XGBRegressor(n_estimators=3000,max_depth=10)),\n",
    "                      ]\n",
    "               )"
   ]
  },
  {
   "cell_type": "code",
   "execution_count": 10,
   "id": "b5df598c",
   "metadata": {
    "colab": {
     "base_uri": "https://localhost:8080/"
    },
    "executionInfo": {
     "elapsed": 30,
     "status": "ok",
     "timestamp": 1673309352574,
     "user": {
      "displayName": "Julie TRYOEN",
      "userId": "13040382308974497377"
     },
     "user_tz": -60
    },
    "id": "b5df598c",
    "outputId": "2dbbd90b-2258-44fd-eea0-6357bf8b75f7"
   },
   "outputs": [
    {
     "data": {
      "text/html": [
       "<style>#sk-container-id-1 {color: black;background-color: white;}#sk-container-id-1 pre{padding: 0;}#sk-container-id-1 div.sk-toggleable {background-color: white;}#sk-container-id-1 label.sk-toggleable__label {cursor: pointer;display: block;width: 100%;margin-bottom: 0;padding: 0.3em;box-sizing: border-box;text-align: center;}#sk-container-id-1 label.sk-toggleable__label-arrow:before {content: \"▸\";float: left;margin-right: 0.25em;color: #696969;}#sk-container-id-1 label.sk-toggleable__label-arrow:hover:before {color: black;}#sk-container-id-1 div.sk-estimator:hover label.sk-toggleable__label-arrow:before {color: black;}#sk-container-id-1 div.sk-toggleable__content {max-height: 0;max-width: 0;overflow: hidden;text-align: left;background-color: #f0f8ff;}#sk-container-id-1 div.sk-toggleable__content pre {margin: 0.2em;color: black;border-radius: 0.25em;background-color: #f0f8ff;}#sk-container-id-1 input.sk-toggleable__control:checked~div.sk-toggleable__content {max-height: 200px;max-width: 100%;overflow: auto;}#sk-container-id-1 input.sk-toggleable__control:checked~label.sk-toggleable__label-arrow:before {content: \"▾\";}#sk-container-id-1 div.sk-estimator input.sk-toggleable__control:checked~label.sk-toggleable__label {background-color: #d4ebff;}#sk-container-id-1 div.sk-label input.sk-toggleable__control:checked~label.sk-toggleable__label {background-color: #d4ebff;}#sk-container-id-1 input.sk-hidden--visually {border: 0;clip: rect(1px 1px 1px 1px);clip: rect(1px, 1px, 1px, 1px);height: 1px;margin: -1px;overflow: hidden;padding: 0;position: absolute;width: 1px;}#sk-container-id-1 div.sk-estimator {font-family: monospace;background-color: #f0f8ff;border: 1px dotted black;border-radius: 0.25em;box-sizing: border-box;margin-bottom: 0.5em;}#sk-container-id-1 div.sk-estimator:hover {background-color: #d4ebff;}#sk-container-id-1 div.sk-parallel-item::after {content: \"\";width: 100%;border-bottom: 1px solid gray;flex-grow: 1;}#sk-container-id-1 div.sk-label:hover label.sk-toggleable__label {background-color: #d4ebff;}#sk-container-id-1 div.sk-serial::before {content: \"\";position: absolute;border-left: 1px solid gray;box-sizing: border-box;top: 0;bottom: 0;left: 50%;z-index: 0;}#sk-container-id-1 div.sk-serial {display: flex;flex-direction: column;align-items: center;background-color: white;padding-right: 0.2em;padding-left: 0.2em;position: relative;}#sk-container-id-1 div.sk-item {position: relative;z-index: 1;}#sk-container-id-1 div.sk-parallel {display: flex;align-items: stretch;justify-content: center;background-color: white;position: relative;}#sk-container-id-1 div.sk-item::before, #sk-container-id-1 div.sk-parallel-item::before {content: \"\";position: absolute;border-left: 1px solid gray;box-sizing: border-box;top: 0;bottom: 0;left: 50%;z-index: -1;}#sk-container-id-1 div.sk-parallel-item {display: flex;flex-direction: column;z-index: 1;position: relative;background-color: white;}#sk-container-id-1 div.sk-parallel-item:first-child::after {align-self: flex-end;width: 50%;}#sk-container-id-1 div.sk-parallel-item:last-child::after {align-self: flex-start;width: 50%;}#sk-container-id-1 div.sk-parallel-item:only-child::after {width: 0;}#sk-container-id-1 div.sk-dashed-wrapped {border: 1px dashed gray;margin: 0 0.4em 0.5em 0.4em;box-sizing: border-box;padding-bottom: 0.4em;background-color: white;}#sk-container-id-1 div.sk-label label {font-family: monospace;font-weight: bold;display: inline-block;line-height: 1.2em;}#sk-container-id-1 div.sk-label-container {text-align: center;}#sk-container-id-1 div.sk-container {/* jupyter's `normalize.less` sets `[hidden] { display: none; }` but bootstrap.min.css set `[hidden] { display: none !important; }` so we also need the `!important` here to be able to override the default hidden behavior on the sphinx rendered scikit-learn.org. See: https://github.com/scikit-learn/scikit-learn/issues/21755 */display: inline-block !important;position: relative;}#sk-container-id-1 div.sk-text-repr-fallback {display: none;}</style><div id=\"sk-container-id-1\" class=\"sk-top-container\"><div class=\"sk-text-repr-fallback\"><pre>Pipeline(steps=[(&#x27;Cat_encoder&#x27;, TargetEncoder()),\n",
       "                (&#x27;Standard_scaler&#x27;, StandardScaler()),\n",
       "                (&#x27;Boosting&#x27;,\n",
       "                 XGBRegressor(base_score=None, booster=None,\n",
       "                              colsample_bylevel=None, colsample_bynode=None,\n",
       "                              colsample_bytree=None, enable_categorical=False,\n",
       "                              gamma=None, gpu_id=None, importance_type=None,\n",
       "                              interaction_constraints=None, learning_rate=None,\n",
       "                              max_delta_step=None, max_depth=10,\n",
       "                              min_child_weight=None, missing=nan,\n",
       "                              monotone_constraints=None, n_estimators=3000,\n",
       "                              n_jobs=None, num_parallel_tree=None,\n",
       "                              predictor=None, random_state=None, reg_alpha=None,\n",
       "                              reg_lambda=None, scale_pos_weight=None,\n",
       "                              subsample=None, tree_method=None,\n",
       "                              validate_parameters=None, verbosity=None))])</pre><b>In a Jupyter environment, please rerun this cell to show the HTML representation or trust the notebook. <br />On GitHub, the HTML representation is unable to render, please try loading this page with nbviewer.org.</b></div><div class=\"sk-container\" hidden><div class=\"sk-item sk-dashed-wrapped\"><div class=\"sk-label-container\"><div class=\"sk-label sk-toggleable\"><input class=\"sk-toggleable__control sk-hidden--visually\" id=\"sk-estimator-id-1\" type=\"checkbox\" ><label for=\"sk-estimator-id-1\" class=\"sk-toggleable__label sk-toggleable__label-arrow\">Pipeline</label><div class=\"sk-toggleable__content\"><pre>Pipeline(steps=[(&#x27;Cat_encoder&#x27;, TargetEncoder()),\n",
       "                (&#x27;Standard_scaler&#x27;, StandardScaler()),\n",
       "                (&#x27;Boosting&#x27;,\n",
       "                 XGBRegressor(base_score=None, booster=None,\n",
       "                              colsample_bylevel=None, colsample_bynode=None,\n",
       "                              colsample_bytree=None, enable_categorical=False,\n",
       "                              gamma=None, gpu_id=None, importance_type=None,\n",
       "                              interaction_constraints=None, learning_rate=None,\n",
       "                              max_delta_step=None, max_depth=10,\n",
       "                              min_child_weight=None, missing=nan,\n",
       "                              monotone_constraints=None, n_estimators=3000,\n",
       "                              n_jobs=None, num_parallel_tree=None,\n",
       "                              predictor=None, random_state=None, reg_alpha=None,\n",
       "                              reg_lambda=None, scale_pos_weight=None,\n",
       "                              subsample=None, tree_method=None,\n",
       "                              validate_parameters=None, verbosity=None))])</pre></div></div></div><div class=\"sk-serial\"><div class=\"sk-item\"><div class=\"sk-estimator sk-toggleable\"><input class=\"sk-toggleable__control sk-hidden--visually\" id=\"sk-estimator-id-2\" type=\"checkbox\" ><label for=\"sk-estimator-id-2\" class=\"sk-toggleable__label sk-toggleable__label-arrow\">TargetEncoder</label><div class=\"sk-toggleable__content\"><pre>TargetEncoder()</pre></div></div></div><div class=\"sk-item\"><div class=\"sk-estimator sk-toggleable\"><input class=\"sk-toggleable__control sk-hidden--visually\" id=\"sk-estimator-id-3\" type=\"checkbox\" ><label for=\"sk-estimator-id-3\" class=\"sk-toggleable__label sk-toggleable__label-arrow\">StandardScaler</label><div class=\"sk-toggleable__content\"><pre>StandardScaler()</pre></div></div></div><div class=\"sk-item\"><div class=\"sk-estimator sk-toggleable\"><input class=\"sk-toggleable__control sk-hidden--visually\" id=\"sk-estimator-id-4\" type=\"checkbox\" ><label for=\"sk-estimator-id-4\" class=\"sk-toggleable__label sk-toggleable__label-arrow\">XGBRegressor</label><div class=\"sk-toggleable__content\"><pre>XGBRegressor(base_score=None, booster=None, colsample_bylevel=None,\n",
       "             colsample_bynode=None, colsample_bytree=None,\n",
       "             enable_categorical=False, gamma=None, gpu_id=None,\n",
       "             importance_type=None, interaction_constraints=None,\n",
       "             learning_rate=None, max_delta_step=None, max_depth=10,\n",
       "             min_child_weight=None, missing=nan, monotone_constraints=None,\n",
       "             n_estimators=3000, n_jobs=None, num_parallel_tree=None,\n",
       "             predictor=None, random_state=None, reg_alpha=None, reg_lambda=None,\n",
       "             scale_pos_weight=None, subsample=None, tree_method=None,\n",
       "             validate_parameters=None, verbosity=None)</pre></div></div></div></div></div></div></div>"
      ],
      "text/plain": [
       "Pipeline(steps=[('Cat_encoder', TargetEncoder()),\n",
       "                ('Standard_scaler', StandardScaler()),\n",
       "                ('Boosting',\n",
       "                 XGBRegressor(base_score=None, booster=None,\n",
       "                              colsample_bylevel=None, colsample_bynode=None,\n",
       "                              colsample_bytree=None, enable_categorical=False,\n",
       "                              gamma=None, gpu_id=None, importance_type=None,\n",
       "                              interaction_constraints=None, learning_rate=None,\n",
       "                              max_delta_step=None, max_depth=10,\n",
       "                              min_child_weight=None, missing=nan,\n",
       "                              monotone_constraints=None, n_estimators=3000,\n",
       "                              n_jobs=None, num_parallel_tree=None,\n",
       "                              predictor=None, random_state=None, reg_alpha=None,\n",
       "                              reg_lambda=None, scale_pos_weight=None,\n",
       "                              subsample=None, tree_method=None,\n",
       "                              validate_parameters=None, verbosity=None))])"
      ]
     },
     "execution_count": 10,
     "metadata": {},
     "output_type": "execute_result"
    }
   ],
   "source": [
    "pipT"
   ]
  },
  {
   "cell_type": "code",
   "execution_count": 11,
   "id": "mHMyMNhnYOH-",
   "metadata": {
    "id": "mHMyMNhnYOH-"
   },
   "outputs": [],
   "source": [
    "#NOMBRE DE FOLDS\n",
    "B = 5"
   ]
  },
  {
   "cell_type": "markdown",
   "id": "c6792d28",
   "metadata": {
    "id": "c6792d28"
   },
   "source": [
    "## MSE en fonction de la date pour B folds"
   ]
  },
  {
   "cell_type": "code",
   "execution_count": 12,
   "id": "1f9c9b97",
   "metadata": {
    "executionInfo": {
     "elapsed": 19,
     "status": "ok",
     "timestamp": 1673309352575,
     "user": {
      "displayName": "Julie TRYOEN",
      "userId": "13040382308974497377"
     },
     "user_tz": -60
    },
    "id": "1f9c9b97"
   },
   "outputs": [],
   "source": [
    "date = np.linspace(0,44,45)"
   ]
  },
  {
   "cell_type": "code",
   "execution_count": 13,
   "id": "da7f436f",
   "metadata": {
    "colab": {
     "base_uri": "https://localhost:8080/"
    },
    "executionInfo": {
     "elapsed": 10867257,
     "status": "ok",
     "timestamp": 1673320294073,
     "user": {
      "displayName": "Julie TRYOEN",
      "userId": "13040382308974497377"
     },
     "user_tz": -60
    },
    "id": "da7f436f",
    "outputId": "35aaff4f-5018-46b5-a8a2-7d0c0b374abe"
   },
   "outputs": [],
   "source": [
    "Vect_erreur = np.zeros((B,len(date),2))\n",
    "\n",
    "for b in range(0,B):\n",
    "    X_train, X_test, y_train, y_test = train_test_split(X,Y,test_size=0.2)\n",
    "    y_train = np.ravel(y_train)\n",
    "    y_test = np.ravel(y_test)\n",
    "    pipT.fit(X_train, y_train)\n",
    "    pred = pipT.predict(X_test)\n",
    "\n",
    "    x = np.ravel(X_test[['date']])\n",
    "\n",
    "    for i in range(len(x)):\n",
    "        d = x[i]\n",
    "        yt = y_test[i]\n",
    "        p = pred[i]\n",
    "        erreur = (yt-p)**2\n",
    "        Vect_erreur[b,d,0] += erreur\n",
    "        Vect_erreur[b,d,1] += 1\n",
    "\n",
    "    for i in range(Vect_erreur.shape[1]):\n",
    "        Vect_erreur[b,i,0] = Vect_erreur[b,i,0]/Vect_erreur[b,i,1] "
   ]
  },
  {
   "cell_type": "code",
   "execution_count": 14,
   "id": "43c34e07",
   "metadata": {
    "executionInfo": {
     "elapsed": 220,
     "status": "ok",
     "timestamp": 1673320294123,
     "user": {
      "displayName": "Julie TRYOEN",
      "userId": "13040382308974497377"
     },
     "user_tz": -60
    },
    "id": "43c34e07"
   },
   "outputs": [],
   "source": [
    "arrayErreur = np.zeros((B,45))\n",
    "for b in range(B):\n",
    "    arrayErreur[b,:]=Vect_erreur[b,:,0]"
   ]
  },
  {
   "cell_type": "code",
   "execution_count": 15,
   "id": "c802b801",
   "metadata": {
    "colab": {
     "base_uri": "https://localhost:8080/"
    },
    "executionInfo": {
     "elapsed": 1205,
     "status": "ok",
     "timestamp": 1673320295246,
     "user": {
      "displayName": "Julie TRYOEN",
      "userId": "13040382308974497377"
     },
     "user_tz": -60
    },
    "id": "c802b801",
    "outputId": "e5fe0f8e-0a67-4d2a-df76-768abe275962"
   },
   "outputs": [
    {
     "data": {
      "image/png": "[encoded data removed]",
      "text/plain": [
       "<Figure size 1300x700 with 1 Axes>"
      ]
     },
     "metadata": {},
     "output_type": "display_data"
    }
   ],
   "source": [
    "dataframeErreur = pd.DataFrame(arrayErreur)\n",
    "plt.figure(figsize=(13,7))\n",
    "dataframeErreur.boxplot()\n",
    "plt.show()"
   ]
  },
  {
   "cell_type": "code",
   "execution_count": 16,
   "id": "07b5836c",
   "metadata": {
    "colab": {
     "base_uri": "https://localhost:8080/"
    },
    "executionInfo": {
     "elapsed": 238,
     "status": "ok",
     "timestamp": 1673320295252,
     "user": {
      "displayName": "Julie TRYOEN",
      "userId": "13040382308974497377"
     },
     "user_tz": -60
    },
    "id": "07b5836c",
    "outputId": "c7ab3ef5-9b00-4e3e-d653-7fd7499d5cc8"
   },
   "outputs": [
    {
     "data": {
      "text/plain": [
       "<Figure size 640x480 with 0 Axes>"
      ]
     },
     "metadata": {},
     "output_type": "display_data"
    }
   ],
   "source": [
    "plt.savefig('./results_store/MSE-BP-date.png')\n",
    "#plt.savefig('/content/gdrive/My Drive/Defi-IA/MSE-BP-date.png')"
   ]
  },
  {
   "cell_type": "markdown",
   "id": "7240e98a",
   "metadata": {
    "id": "7240e98a"
   },
   "source": [
    "## MSE en fonction de la ville pour B folds"
   ]
  },
  {
   "cell_type": "code",
   "execution_count": 17,
   "id": "be23237b",
   "metadata": {
    "executionInfo": {
     "elapsed": 232,
     "status": "ok",
     "timestamp": 1673320295256,
     "user": {
      "displayName": "Julie TRYOEN",
      "userId": "13040382308974497377"
     },
     "user_tz": -60
    },
    "id": "be23237b"
   },
   "outputs": [],
   "source": [
    "listCity = {'amsterdam':0, 'copenhagen':1, 'madrid':2, 'paris':3, 'rome':4, 'sofia':5, 'valletta':6, 'vienna':7, 'vilnius':8}"
   ]
  },
  {
   "cell_type": "code",
   "execution_count": 18,
   "id": "15291a00",
   "metadata": {
    "colab": {
     "base_uri": "https://localhost:8080/"
    },
    "executionInfo": {
     "elapsed": 11457243,
     "status": "ok",
     "timestamp": 1673331752276,
     "user": {
      "displayName": "Julie TRYOEN",
      "userId": "13040382308974497377"
     },
     "user_tz": -60
    },
    "id": "15291a00",
    "outputId": "216f2c08-555f-4e3f-9656-c35097825c6c"
   },
   "outputs": [],
   "source": [
    "Vect_erreur = np.zeros((B,len(listCity),2))\n",
    "\n",
    "for b in range(0,B):\n",
    "    X_train, X_test, y_train, y_test = train_test_split(X,Y,test_size=0.2)\n",
    "    y_train = np.ravel(y_train)\n",
    "    y_test = np.ravel(y_test)\n",
    "    pipT.fit(X_train, y_train)\n",
    "    pred = pipT.predict(X_test)\n",
    "\n",
    "    x = np.ravel(X_test[['city']])\n",
    "    \n",
    "    for i in range(len(x)):\n",
    "        c = x[i]\n",
    "        yt = y_test[i]\n",
    "        p = pred[i]\n",
    "        erreur = (yt-p)**2\n",
    "        Vect_erreur[b,listCity[c],0] += erreur\n",
    "        Vect_erreur[b,listCity[c],1] += 1\n",
    "\n",
    "    for i in range(Vect_erreur.shape[1]):\n",
    "        Vect_erreur[b,i,0] = Vect_erreur[b,i,0]/Vect_erreur[b,i,1] "
   ]
  },
  {
   "cell_type": "code",
   "execution_count": 19,
   "id": "7e186040",
   "metadata": {
    "executionInfo": {
     "elapsed": 122,
     "status": "ok",
     "timestamp": 1673331752285,
     "user": {
      "displayName": "Julie TRYOEN",
      "userId": "13040382308974497377"
     },
     "user_tz": -60
    },
    "id": "7e186040"
   },
   "outputs": [],
   "source": [
    "arrayErreur = np.zeros((B,len(listCity)))\n",
    "for b in range(B):\n",
    "    arrayErreur[b,:]=Vect_erreur[b,:,0]"
   ]
  },
  {
   "cell_type": "code",
   "execution_count": 20,
   "id": "daa2b0f8",
   "metadata": {
    "colab": {
     "base_uri": "https://localhost:8080/",
     "height": 428
    },
    "executionInfo": {
     "elapsed": 105,
     "status": "ok",
     "timestamp": 1673331752291,
     "user": {
      "displayName": "Julie TRYOEN",
      "userId": "13040382308974497377"
     },
     "user_tz": -60
    },
    "id": "daa2b0f8",
    "outputId": "470a2acf-7885-4e7d-fa94-3d9f58e6a69e"
   },
   "outputs": [
    {
     "data": {
      "image/png": "[encoded data removed]",
      "text/plain": [
       "<Figure size 1300x700 with 1 Axes>"
      ]
     },
     "metadata": {},
     "output_type": "display_data"
    }
   ],
   "source": [
    "dataframeErreur = pd.DataFrame(arrayErreur,columns=['amsterdam', 'copenhagen', 'madrid', 'paris', 'rome', 'sofia', 'valletta', 'vienna', 'vilnius'])\n",
    "plt.figure(figsize=(13,7))\n",
    "dataframeErreur[['amsterdam', 'copenhagen', 'madrid', 'paris', 'rome', 'sofia', 'valletta', 'vienna', 'vilnius']].boxplot(return_type='dict')\n",
    "plt.show()"
   ]
  },
  {
   "cell_type": "code",
   "execution_count": 21,
   "id": "65e037d8",
   "metadata": {
    "colab": {
     "base_uri": "https://localhost:8080/",
     "height": 34
    },
    "executionInfo": {
     "elapsed": 76,
     "status": "ok",
     "timestamp": 1673331752294,
     "user": {
      "displayName": "Julie TRYOEN",
      "userId": "13040382308974497377"
     },
     "user_tz": -60
    },
    "id": "65e037d8",
    "outputId": "f5e06763-adbd-4d6e-ddd1-e678b5e75086"
   },
   "outputs": [
    {
     "data": {
      "text/plain": [
       "<Figure size 640x480 with 0 Axes>"
      ]
     },
     "metadata": {},
     "output_type": "display_data"
    }
   ],
   "source": [
    "plt.savefig('./results_store/MSE-BP-city.png')\n",
    "#plt.savefig('/content/gdrive/My Drive/Defi-IA/MSE-BP-city.png')"
   ]
  },
  {
   "cell_type": "markdown",
   "id": "9acf3daa",
   "metadata": {
    "id": "9acf3daa"
   },
   "source": [
    "## MSE en fonction du langage pour B folds"
   ]
  },
  {
   "cell_type": "code",
   "execution_count": 22,
   "id": "1d16a066",
   "metadata": {
    "executionInfo": {
     "elapsed": 72,
     "status": "ok",
     "timestamp": 1673331752299,
     "user": {
      "displayName": "Julie TRYOEN",
      "userId": "13040382308974497377"
     },
     "user_tz": -60
    },
    "id": "1d16a066"
   },
   "outputs": [],
   "source": [
    "listLang = {'austrian':0, 'belgian':1, 'bulgarian':2, 'croatian':3, 'cypriot':4, 'czech':5, 'danish':6, 'dutch':7, 'estonian':8, 'finnish':9,\n",
    "            'french':10, 'german':11, 'greek':12, 'hungarian':13, 'irish':14, 'italian':15, 'latvian':16, 'lithuanian':17, 'luxembourgish':18, \n",
    "           'maltese':19, 'polish':20, 'portuguese':21, 'romanian':22, 'slovakian':23, 'slovene':24, 'spanish':25,'swedish':26}"
   ]
  },
  {
   "cell_type": "code",
   "execution_count": 23,
   "id": "44b9cf74",
   "metadata": {
    "colab": {
     "base_uri": "https://localhost:8080/",
     "height": 446
    },
    "executionInfo": {
     "elapsed": 4943194,
     "status": "error",
     "timestamp": 1673336695424,
     "user": {
      "displayName": "Julie TRYOEN",
      "userId": "13040382308974497377"
     },
     "user_tz": -60
    },
    "id": "44b9cf74",
    "outputId": "ec46f271-c6ee-40f2-d89f-34fa2afc0d60"
   },
   "outputs": [],
   "source": [
    "Vect_erreur = np.zeros((B,len(listLang),2))\n",
    "\n",
    "for b in range(0,B):\n",
    "    X_train, X_test, y_train, y_test = train_test_split(X,Y,test_size=0.2)\n",
    "    y_train = np.ravel(y_train)\n",
    "    y_test = np.ravel(y_test)\n",
    "    pipT.fit(X_train, y_train)\n",
    "    pred = pipT.predict(X_test)\n",
    "\n",
    "    x = np.ravel(X_test[['language']])\n",
    "    \n",
    "    for i in range(len(x)):\n",
    "        c = x[i]\n",
    "        yt = y_test[i]\n",
    "        p = pred[i]\n",
    "        erreur = (yt-p)**2\n",
    "        Vect_erreur[b,listLang[c],0] += erreur\n",
    "        Vect_erreur[b,listLang[c],1] += 1\n",
    "\n",
    "    for i in range(Vect_erreur.shape[1]):\n",
    "        Vect_erreur[b,i,0] = Vect_erreur[b,i,0]/Vect_erreur[b,i,1] "
   ]
  },
  {
   "cell_type": "code",
   "execution_count": 24,
   "id": "e91110b1",
   "metadata": {
    "executionInfo": {
     "elapsed": 292,
     "status": "aborted",
     "timestamp": 1673336695437,
     "user": {
      "displayName": "Julie TRYOEN",
      "userId": "13040382308974497377"
     },
     "user_tz": -60
    },
    "id": "e91110b1"
   },
   "outputs": [],
   "source": [
    "arrayErreur = np.zeros((B,len(listLang)))\n",
    "for b in range(B):\n",
    "    arrayErreur[b,:]=Vect_erreur[b,:,0]"
   ]
  },
  {
   "cell_type": "code",
   "execution_count": 25,
   "id": "3cf40f92",
   "metadata": {
    "executionInfo": {
     "elapsed": 287,
     "status": "aborted",
     "timestamp": 1673336695442,
     "user": {
      "displayName": "Julie TRYOEN",
      "userId": "13040382308974497377"
     },
     "user_tz": -60
    },
    "id": "3cf40f92"
   },
   "outputs": [
    {
     "data": {
      "image/png": "[encoded data removed]",
      "text/plain": [
       "<Figure size 1300x700 with 1 Axes>"
      ]
     },
     "metadata": {},
     "output_type": "display_data"
    }
   ],
   "source": [
    "dataframeErreur = pd.DataFrame(arrayErreur,columns=['austrian', 'belgian', 'bulgarian', 'croatian', 'cypriot', 'czech', 'danish', 'dutch', 'estonian', 'finnish',\n",
    "            'french', 'german', 'greek', 'hungarian', 'irish', 'italian', 'latvian', 'lithuanian', 'luxembourgish', \n",
    "            'maltese', 'polish', 'portuguese', 'romanian', 'slovakian', 'slovene', 'spanish','swedish'])\n",
    "plt.figure(figsize=(13,7))\n",
    "dataframeErreur[['austrian', 'belgian', 'bulgarian', 'croatian', 'cypriot', 'czech', 'danish', 'dutch', 'estonian', 'finnish',\n",
    "            'french', 'german', 'greek', 'hungarian', 'irish', 'italian', 'latvian', 'lithuanian', 'luxembourgish', \n",
    "            'maltese', 'polish', 'portuguese', 'romanian', 'slovakian', 'slovene', 'spanish','swedish']].boxplot(return_type='dict')\n",
    "plt.show()"
   ]
  },
  {
   "cell_type": "code",
   "execution_count": 26,
   "id": "b9a20bf7",
   "metadata": {
    "executionInfo": {
     "elapsed": 286,
     "status": "aborted",
     "timestamp": 1673336695445,
     "user": {
      "displayName": "Julie TRYOEN",
      "userId": "13040382308974497377"
     },
     "user_tz": -60
    },
    "id": "b9a20bf7"
   },
   "outputs": [
    {
     "data": {
      "text/plain": [
       "<Figure size 640x480 with 0 Axes>"
      ]
     },
     "metadata": {},
     "output_type": "display_data"
    }
   ],
   "source": [
    "plt.savefig('./results_store/MSE-BP-langage.png')\n",
    "#plt.savefig('/content/gdrive/My Drive/Defi-IA/MSE-BP-langage.png')"
   ]
  },
  {
   "cell_type": "code",
   "execution_count": null,
   "id": "_TJHHS8hBGtk",
   "metadata": {
    "id": "_TJHHS8hBGtk"
   },
   "outputs": [],
   "source": []
  }
 ],
 "metadata": {
  "colab": {
   "provenance": []
  },
  "gpuClass": "standard",
  "kernelspec": {
   "display_name": "Python 3 (ipykernel)",
   "language": "python",
   "name": "python3"
  },
  "language_info": {
   "codemirror_mode": {
    "name": "ipython",
    "version": 3
   },
   "file_extension": ".py",
   "mimetype": "text/x-python",
   "name": "python",
   "nbconvert_exporter": "python",
   "pygments_lexer": "ipython3",
   "version": "3.9.12"
  }
 },
 "nbformat": 4,
 "nbformat_minor": 5
}
