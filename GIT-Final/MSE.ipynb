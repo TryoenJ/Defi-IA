{
 "cells": [
  {
   "cell_type": "markdown",
   "id": "aa85bb98",
   "metadata": {
    "id": "aa85bb98"
   },
   "source": [
    "# MEAN-SQUARED ERROR AVEC UN MODELE XGBOOST"
   ]
  },
  {
   "cell_type": "markdown",
   "id": "96zUo_7ZLMTq",
   "metadata": {
    "id": "96zUo_7ZLMTq"
   },
   "source": [
    "## CHARGEMENT DES LIBRAIRIES"
   ]
  },
  {
   "cell_type": "code",
   "execution_count": null,
   "id": "14e9510a",
   "metadata": {
    "colab": {
     "base_uri": "https://localhost:8080/"
    },
    "executionInfo": {
     "elapsed": 21594,
     "status": "ok",
     "timestamp": 1670760337640,
     "user": {
      "displayName": "Julie TRYOEN",
      "userId": "13040382308974497377"
     },
     "user_tz": -60
    },
    "id": "14e9510a",
    "outputId": "f1987fa1-8031-48ac-be94-64b4a83b3cf7"
   },
   "outputs": [],
   "source": [
    "#from google.colab import drive\n",
    "#drive.mount('/content/gdrive')"
   ]
  },
  {
   "cell_type": "code",
   "execution_count": null,
   "id": "98Vb-TrdK-Eu",
   "metadata": {
    "executionInfo": {
     "elapsed": 9291,
     "status": "ok",
     "timestamp": 1670760346923,
     "user": {
      "displayName": "Julie TRYOEN",
      "userId": "13040382308974497377"
     },
     "user_tz": -60
    },
    "id": "98Vb-TrdK-Eu"
   },
   "outputs": [],
   "source": [
    "#!pip install category_encoders > /dev/null 2>&1\n",
    "#!pip install xgboost > /dev/null 2>&1"
   ]
  },
  {
   "cell_type": "code",
   "execution_count": null,
   "id": "5b1626e5",
   "metadata": {},
   "outputs": [],
   "source": [
    "import numpy as np\n",
    "import pandas as pd\n",
    "import panel as pn\n",
    "\n",
    "import matplotlib.pyplot as plt\n",
    "\n",
    "from sklearn.pipeline import Pipeline\n",
    "from sklearn.preprocessing import OneHotEncoder, StandardScaler\n",
    "from category_encoders import TargetEncoder\n",
    "from xgboost import XGBRegressor\n",
    "from sklearn.model_selection import train_test_split\n",
    "from sklearn.metrics import mean_squared_error\n",
    "from sklearn.metrics import r2_score\n",
    "from joblib import dump, load"
   ]
  },
  {
   "cell_type": "code",
   "execution_count": null,
   "id": "d8b55db2",
   "metadata": {},
   "outputs": [],
   "source": [
    "# create a new outputs directory\n",
    "if not(os.path.isdir('./results_store/')):\n",
    "    os.makedirs('./results_store/')"
   ]
  },
  {
   "cell_type": "markdown",
   "id": "YwcYfX5dLTkF",
   "metadata": {
    "id": "YwcYfX5dLTkF"
   },
   "source": [
    "## PREPROCESSING"
   ]
  },
  {
   "cell_type": "code",
   "execution_count": null,
   "id": "ILFW872HLAA2",
   "metadata": {
    "executionInfo": {
     "elapsed": 1376,
     "status": "ok",
     "timestamp": 1670760390249,
     "user": {
      "displayName": "Julie TRYOEN",
      "userId": "13040382308974497377"
     },
     "user_tz": -60
    },
    "id": "ILFW872HLAA2"
   },
   "outputs": [],
   "source": [
    "#data = pd.read_csv('/content/gdrive/My Drive/Defi-IA/new_result_requetes.csv')\n",
    "data = pd.read_csv('new_result_requetes.csv')"
   ]
  },
  {
   "cell_type": "code",
   "execution_count": null,
   "id": "e3f710e4",
   "metadata": {
    "executionInfo": {
     "elapsed": 291,
     "status": "ok",
     "timestamp": 1670760390534,
     "user": {
      "displayName": "Julie TRYOEN",
      "userId": "13040382308974497377"
     },
     "user_tz": -60
    },
    "id": "e3f710e4"
   },
   "outputs": [],
   "source": [
    "#On affecte le bon type aux variables qualitatives\n",
    "data[\"avatar_id\"]=pd.Categorical(data[\"avatar_id\"],ordered=False)\n",
    "data[\"city\"]=pd.Categorical(data[\"city\"],ordered=False)\n",
    "data[\"language\"]=pd.Categorical(data[\"language\"],ordered=False)\n",
    "data[\"mobile\"]=pd.Categorical(data[\"mobile\"],ordered=False)\n",
    "data[\"hotel_id\"]=pd.Categorical(data[\"hotel_id\"],ordered=False)\n",
    "data[\"group\"]=pd.Categorical(data[\"group\"],ordered=False)\n",
    "data[\"brand\"]=pd.Categorical(data[\"brand\"],ordered=False)\n",
    "data[\"parking\"]=pd.Categorical(data[\"parking\"],ordered=False)\n",
    "data[\"pool\"]=pd.Categorical(data[\"pool\"],ordered=False)\n",
    "data[\"children_policy\"]=pd.Categorical(data[\"children_policy\"],ordered=False)\n",
    "\n",
    "data[\"price\"]=pd.DataFrame(data[\"price\"], dtype=float)"
   ]
  },
  {
   "cell_type": "markdown",
   "id": "2394a03b",
   "metadata": {},
   "source": [
    "Analysis for the model with all the inputs except nb_requete"
   ]
  },
  {
   "cell_type": "code",
   "execution_count": null,
   "id": "G8_N5_PuSl93",
   "metadata": {
    "executionInfo": {
     "elapsed": 7,
     "status": "ok",
     "timestamp": 1670760390536,
     "user": {
      "displayName": "Julie TRYOEN",
      "userId": "13040382308974497377"
     },
     "user_tz": -60
    },
    "id": "G8_N5_PuSl93"
   },
   "outputs": [],
   "source": [
    "#X = data[[\"nb_requete\",\"date\",\"stock\",\"city\",\"language\",\"mobile\",\"hotel_id\",\"group\",\"brand\",\"parking\",\"pool\",\"children_policy\"]]\n",
    "X = data[[\"date\",\"stock\",\"city\",\"language\",\"mobile\",\"hotel_id\",\"group\",\"brand\",\"parking\",\"pool\",\"children_policy\"]]\n",
    "#X = data[[\"date\",\"stock\",\"city\",\"language\",\"hotel_id\",\"group\",\"brand\"]]"
   ]
  },
  {
   "cell_type": "code",
   "execution_count": null,
   "id": "bIgc2K_CSmif",
   "metadata": {
    "executionInfo": {
     "elapsed": 5,
     "status": "ok",
     "timestamp": 1670760390812,
     "user": {
      "displayName": "Julie TRYOEN",
      "userId": "13040382308974497377"
     },
     "user_tz": -60
    },
    "id": "bIgc2K_CSmif"
   },
   "outputs": [],
   "source": [
    "Y = data[[\"price\"]]"
   ]
  },
  {
   "cell_type": "markdown",
   "id": "q-3DfiDQW1ZW",
   "metadata": {
    "id": "q-3DfiDQW1ZW"
   },
   "source": [
    "## DEFINITION DES MODELES"
   ]
  },
  {
   "cell_type": "code",
   "execution_count": null,
   "id": "3d09ae48",
   "metadata": {
    "executionInfo": {
     "elapsed": 365,
     "status": "ok",
     "timestamp": 1670760444309,
     "user": {
      "displayName": "Julie TRYOEN",
      "userId": "13040382308974497377"
     },
     "user_tz": -60
    },
    "id": "3d09ae48"
   },
   "outputs": [],
   "source": [
    "pipO = Pipeline(steps=[\n",
    "                      (\"Cat_encoder\", OneHotEncoder()),\n",
    "                      (\"Standard_scaler\", StandardScaler()),\n",
    "                      (\"Boosting\", XGBRegressor(n_estimators=3000,max_depth=10)),\n",
    "                      ]\n",
    "               )"
   ]
  },
  {
   "cell_type": "code",
   "execution_count": null,
   "id": "w2HZuEjKQkrR",
   "metadata": {
    "colab": {
     "base_uri": "https://localhost:8080/"
    },
    "executionInfo": {
     "elapsed": 7,
     "status": "ok",
     "timestamp": 1670760444310,
     "user": {
      "displayName": "Julie TRYOEN",
      "userId": "13040382308974497377"
     },
     "user_tz": -60
    },
    "id": "w2HZuEjKQkrR",
    "outputId": "04bdb5dd-61aa-46ba-d34f-e1a86bc0d0c1"
   },
   "outputs": [],
   "source": [
    "pipO"
   ]
  },
  {
   "cell_type": "code",
   "execution_count": null,
   "id": "84e5903a",
   "metadata": {},
   "outputs": [],
   "source": [
    "pipT = Pipeline(steps=[\n",
    "                      (\"Cat_encoder\", TargetEncoder()),\n",
    "                      (\"Standard_scaler\", StandardScaler()),\n",
    "                      (\"Boosting\", XGBRegressor(n_estimators=3000,max_depth=10)),\n",
    "                      ]\n",
    "               )"
   ]
  },
  {
   "cell_type": "code",
   "execution_count": null,
   "id": "b5df598c",
   "metadata": {},
   "outputs": [],
   "source": [
    "pipT"
   ]
  },
  {
   "cell_type": "markdown",
   "id": "c6792d28",
   "metadata": {},
   "source": [
    "## MSE en fonction de la date pour B folds"
   ]
  },
  {
   "cell_type": "code",
   "execution_count": null,
   "id": "1f9c9b97",
   "metadata": {},
   "outputs": [],
   "source": [
    "date = np.linspace(0,44,45)\n",
    "B = 10"
   ]
  },
  {
   "cell_type": "markdown",
   "id": "164e662c",
   "metadata": {},
   "source": [
    "### Modele OneHot + XGBoost"
   ]
  },
  {
   "cell_type": "code",
   "execution_count": null,
   "id": "ad18465a",
   "metadata": {},
   "outputs": [],
   "source": [
    "Vect_erreur = np.zeros((B,len(date),2))\n",
    "\n",
    "for b in range(0,B):\n",
    "    X_train, X_test, y_train, y_test = train_test_split(X,Y,test_size=0.2)\n",
    "    y_train = np.ravel(y_train)\n",
    "    y_test = np.ravel(y_test)\n",
    "    pipO.fit(X_train, y_train)\n",
    "    pred = pipO.predict(X_test)\n",
    "\n",
    "    x = np.ravel(X_test[['date']])\n",
    "\n",
    "    for i in range(len(x)):\n",
    "        d = x[i]\n",
    "        yt = y_test[i]\n",
    "        p = pred[i]\n",
    "        erreur = (yt-p)**2\n",
    "        Vect_erreur[b,d,0] += erreur\n",
    "        Vect_erreur[b,d,1] += 1\n",
    "\n",
    "    for i in range(Vect_erreur.shape[1]):\n",
    "        Vect_erreur[b,i,0] = Vect_erreur[b,i,0]/Vect_erreur[b,i,1] "
   ]
  },
  {
   "cell_type": "code",
   "execution_count": null,
   "id": "14b71bb1",
   "metadata": {},
   "outputs": [],
   "source": [
    "arrayErreur = np.zeros((B,45))\n",
    "for b in range(B):\n",
    "    arrayErreur[b,:]=Vect_erreur[b,:,0]"
   ]
  },
  {
   "cell_type": "code",
   "execution_count": null,
   "id": "5987a9c0",
   "metadata": {},
   "outputs": [],
   "source": [
    "dataframeErreur = pd.DataFrame(arrayErreur)\n",
    "plt.figure(figsize=(13,7))\n",
    "dataframeErreur.boxplot()\n",
    "plt.show()"
   ]
  },
  {
   "cell_type": "code",
   "execution_count": null,
   "id": "295e29a0",
   "metadata": {},
   "outputs": [],
   "source": [
    "plt.savefig('./results_store/MSE-BP-date-O.png')"
   ]
  },
  {
   "cell_type": "markdown",
   "id": "e710ff1e",
   "metadata": {},
   "source": [
    "### Modele Target + XGBoost"
   ]
  },
  {
   "cell_type": "code",
   "execution_count": null,
   "id": "da7f436f",
   "metadata": {},
   "outputs": [],
   "source": [
    "Vect_erreur = np.zeros((B,len(date),2))\n",
    "\n",
    "for b in range(0,B):\n",
    "    X_train, X_test, y_train, y_test = train_test_split(X,Y,test_size=0.2)\n",
    "    y_train = np.ravel(y_train)\n",
    "    y_test = np.ravel(y_test)\n",
    "    pip1.fit(X_train, y_train)\n",
    "    pred = pip1.predict(X_test)\n",
    "\n",
    "    x = np.ravel(X_test[['date']])\n",
    "\n",
    "    for i in range(len(x)):\n",
    "        d = x[i]\n",
    "        yt = y_test[i]\n",
    "        p = pred[i]\n",
    "        erreur = (yt-p)**2\n",
    "        Vect_erreur[b,d,0] += erreur\n",
    "        Vect_erreur[b,d,1] += 1\n",
    "\n",
    "    for i in range(Vect_erreur.shape[1]):\n",
    "        Vect_erreur[b,i,0] = Vect_erreur[b,i,0]/Vect_erreur[b,i,1] "
   ]
  },
  {
   "cell_type": "code",
   "execution_count": null,
   "id": "43c34e07",
   "metadata": {},
   "outputs": [],
   "source": [
    "arrayErreur = np.zeros((B,45))\n",
    "for b in range(B):\n",
    "    arrayErreur[b,:]=Vect_erreur[b,:,0]"
   ]
  },
  {
   "cell_type": "code",
   "execution_count": null,
   "id": "c802b801",
   "metadata": {},
   "outputs": [],
   "source": [
    "dataframeErreur = pd.DataFrame(arrayErreur)\n",
    "plt.figure(figsize=(13,7))\n",
    "dataframeErreur.boxplot()\n",
    "plt.show()"
   ]
  },
  {
   "cell_type": "code",
   "execution_count": null,
   "id": "07b5836c",
   "metadata": {},
   "outputs": [],
   "source": [
    "plt.savefig('./results_store/MSE-BP-date-T.png')"
   ]
  },
  {
   "cell_type": "markdown",
   "id": "7240e98a",
   "metadata": {},
   "source": [
    "## MSE en fonction de la ville pour B folds"
   ]
  },
  {
   "cell_type": "code",
   "execution_count": null,
   "id": "be23237b",
   "metadata": {},
   "outputs": [],
   "source": [
    "listCity = {'amsterdam':0, 'copenhagen':1, 'madrid':2, 'paris':3, 'rome':4, 'sofia':5, 'valletta':6, 'vienna':7, 'vilnius':8}\n",
    "B = 10"
   ]
  },
  {
   "cell_type": "markdown",
   "id": "93314ad8",
   "metadata": {},
   "source": [
    "### Modele OneHot + XGBoost"
   ]
  },
  {
   "cell_type": "code",
   "execution_count": null,
   "id": "a7c81d14",
   "metadata": {},
   "outputs": [],
   "source": [
    "Vect_erreur = np.zeros((B,len(listCity),2))\n",
    "\n",
    "for b in range(0,B):\n",
    "    X_train, X_test, y_train, y_test = train_test_split(X,Y,test_size=0.2)\n",
    "    y_train = np.ravel(y_train)\n",
    "    y_test = np.ravel(y_test)\n",
    "    pipO.fit(X_train, y_train)\n",
    "    pred = pipO.predict(X_test)\n",
    "\n",
    "    x = np.ravel(X_test[['city']])\n",
    "    \n",
    "    for i in range(len(x)):\n",
    "        c = x[i]\n",
    "        yt = y_test[i]\n",
    "        p = pred[i]\n",
    "        erreur = (yt-p)**2\n",
    "        Vect_erreur[b,listCity[c],0] += erreur\n",
    "        Vect_erreur[b,listCity[c],1] += 1\n",
    "\n",
    "    for i in range(Vect_erreur.shape[1]):\n",
    "        Vect_erreur[b,i,0] = Vect_erreur[b,i,0]/Vect_erreur[b,i,1] "
   ]
  },
  {
   "cell_type": "code",
   "execution_count": null,
   "id": "acbe0248",
   "metadata": {},
   "outputs": [],
   "source": [
    "arrayErreur = np.zeros((B,len(listCity)))\n",
    "for b in range(B):\n",
    "    arrayErreur[b,:]=Vect_erreur[b,:,0]"
   ]
  },
  {
   "cell_type": "code",
   "execution_count": null,
   "id": "8438cd8e",
   "metadata": {},
   "outputs": [],
   "source": [
    "dataframeErreur = pd.DataFrame(arrayErreur,columns=['amsterdam', 'copenhagen', 'madrid', 'paris', 'rome', 'sofia', 'valletta', 'vienna', 'vilnius'])\n",
    "plt.figure(figsize=(13,7))\n",
    "dataframeErreur[['amsterdam', 'copenhagen', 'madrid', 'paris', 'rome', 'sofia', 'valletta', 'vienna', 'vilnius']].boxplot(return_type='dict')\n",
    "plt.show()"
   ]
  },
  {
   "cell_type": "code",
   "execution_count": null,
   "id": "948f75de",
   "metadata": {},
   "outputs": [],
   "source": [
    "plt.savefig('./results_store/MSE-BP-city-O.png')"
   ]
  },
  {
   "cell_type": "markdown",
   "id": "d471104f",
   "metadata": {},
   "source": [
    "### Modele Target + XGBoost"
   ]
  },
  {
   "cell_type": "code",
   "execution_count": null,
   "id": "15291a00",
   "metadata": {},
   "outputs": [],
   "source": [
    "Vect_erreur = np.zeros((B,len(listCity),2))\n",
    "\n",
    "for b in range(0,B):\n",
    "    X_train, X_test, y_train, y_test = train_test_split(X,Y,test_size=0.2)\n",
    "    y_train = np.ravel(y_train)\n",
    "    y_test = np.ravel(y_test)\n",
    "    pipT.fit(X_train, y_train)\n",
    "    pred = pipT.predict(X_test)\n",
    "\n",
    "    x = np.ravel(X_test[['city']])\n",
    "    \n",
    "    for i in range(len(x)):\n",
    "        c = x[i]\n",
    "        yt = y_test[i]\n",
    "        p = pred[i]\n",
    "        erreur = (yt-p)**2\n",
    "        Vect_erreur[b,listCity[c],0] += erreur\n",
    "        Vect_erreur[b,listCity[c],1] += 1\n",
    "\n",
    "    for i in range(Vect_erreur.shape[1]):\n",
    "        Vect_erreur[b,i,0] = Vect_erreur[b,i,0]/Vect_erreur[b,i,1] "
   ]
  },
  {
   "cell_type": "code",
   "execution_count": null,
   "id": "7e186040",
   "metadata": {},
   "outputs": [],
   "source": [
    "arrayErreur = np.zeros((B,len(listCity)))\n",
    "for b in range(B):\n",
    "    arrayErreur[b,:]=Vect_erreur[b,:,0]"
   ]
  },
  {
   "cell_type": "code",
   "execution_count": null,
   "id": "daa2b0f8",
   "metadata": {},
   "outputs": [],
   "source": [
    "dataframeErreur = pd.DataFrame(arrayErreur,columns=['amsterdam', 'copenhagen', 'madrid', 'paris', 'rome', 'sofia', 'valletta', 'vienna', 'vilnius'])\n",
    "plt.figure(figsize=(13,7))\n",
    "dataframeErreur[['amsterdam', 'copenhagen', 'madrid', 'paris', 'rome', 'sofia', 'valletta', 'vienna', 'vilnius']].boxplot(return_type='dict')\n",
    "plt.show()"
   ]
  },
  {
   "cell_type": "code",
   "execution_count": null,
   "id": "65e037d8",
   "metadata": {},
   "outputs": [],
   "source": [
    "plt.savefig('./results_store/MSE-BP-city-T.png')"
   ]
  },
  {
   "cell_type": "markdown",
   "id": "9acf3daa",
   "metadata": {},
   "source": [
    "## MSE en fonction du langage pour B folds"
   ]
  },
  {
   "cell_type": "code",
   "execution_count": null,
   "id": "1d16a066",
   "metadata": {},
   "outputs": [],
   "source": [
    "listLang = {'austrian':0, 'belgian':1, 'bulgarian':2, 'croatian':3, 'cypriot':4, 'czech':5, 'danish':6, 'dutch':7, 'estonian':8, 'finnish':9,\n",
    "            'french':10, 'german':11, 'greek':12, 'hungarian':13, 'irish':14, 'italian':15, 'latvian':16, 'lithuanian':17, 'luxembourgish':18, \n",
    "            'maltese':19, 'polish':20, 'portuguese':21, 'romanian':22, 'slovakian':23, 'slovene':24, 'spanish':25,'swedish':26}\n",
    "B = 10"
   ]
  },
  {
   "cell_type": "markdown",
   "id": "b3fe9ade",
   "metadata": {},
   "source": [
    "### Modele OneHot + XGBoost"
   ]
  },
  {
   "cell_type": "code",
   "execution_count": null,
   "id": "66c60975",
   "metadata": {},
   "outputs": [],
   "source": [
    "Vect_erreur = np.zeros((B,len(listLang),2))\n",
    "\n",
    "for b in range(0,B):\n",
    "    X_train, X_test, y_train, y_test = train_test_split(X,Y,test_size=0.2)\n",
    "    y_train = np.ravel(y_train)\n",
    "    y_test = np.ravel(y_test)\n",
    "    pipO.fit(X_train, y_train)\n",
    "    pred = pipO.predict(X_test)\n",
    "\n",
    "    x = np.ravel(X_test[['language']])\n",
    "    \n",
    "    for i in range(len(x)):\n",
    "        c = x[i]\n",
    "        yt = y_test[i]\n",
    "        p = pred[i]\n",
    "        erreur = (yt-p)**2\n",
    "        Vect_erreur[b,listLang[c],0] += erreur\n",
    "        Vect_erreur[b,listLang[c],1] += 1\n",
    "\n",
    "    for i in range(Vect_erreur.shape[1]):\n",
    "        Vect_erreur[b,i,0] = Vect_erreur[b,i,0]/Vect_erreur[b,i,1] "
   ]
  },
  {
   "cell_type": "code",
   "execution_count": null,
   "id": "7f643ab5",
   "metadata": {},
   "outputs": [],
   "source": [
    "arrayErreur = np.zeros((B,len(listLang)))\n",
    "for b in range(B):\n",
    "    arrayErreur[b,:]=Vect_erreur[b,:,0]"
   ]
  },
  {
   "cell_type": "code",
   "execution_count": null,
   "id": "01f1a32f",
   "metadata": {},
   "outputs": [],
   "source": [
    "dataframeErreur = pd.DataFrame(arrayErreur,columns=['austrian', 'belgian', 'bulgarian', 'croatian', 'cypriot', 'czech', 'danish', 'dutch', 'estonian', 'finnish',\n",
    "            'french', 'german', 'greek', 'hungarian', 'irish', 'italian', 'latvian', 'lithuanian', 'luxembourgish', \n",
    "            'maltese', 'polish', 'portuguese', 'romanian', 'slovakian', 'slovene', 'spanish','swedish'])\n",
    "plt.figure(figsize=(13,7))\n",
    "dataframeErreur[['austrian', 'belgian', 'bulgarian', 'croatian', 'cypriot', 'czech', 'danish', 'dutch', 'estonian', 'finnish',\n",
    "            'french', 'german', 'greek', 'hungarian', 'irish', 'italian', 'latvian', 'lithuanian', 'luxembourgish', \n",
    "            'maltese', 'polish', 'portuguese', 'romanian', 'slovakian', 'slovene', 'spanish','swedish']].boxplot(return_type='dict')\n",
    "plt.show()"
   ]
  },
  {
   "cell_type": "code",
   "execution_count": null,
   "id": "5a5f14a5",
   "metadata": {},
   "outputs": [],
   "source": [
    "plt.savefig('./results_store/MSE-BP-langage-O.png')"
   ]
  },
  {
   "cell_type": "markdown",
   "id": "dfa51ff5",
   "metadata": {},
   "source": [
    "### Modele Target + XGBoost"
   ]
  },
  {
   "cell_type": "code",
   "execution_count": null,
   "id": "44b9cf74",
   "metadata": {},
   "outputs": [],
   "source": [
    "Vect_erreur = np.zeros((B,len(listLang),2))\n",
    "\n",
    "for b in range(0,B):\n",
    "    X_train, X_test, y_train, y_test = train_test_split(X,Y,test_size=0.2)\n",
    "    y_train = np.ravel(y_train)\n",
    "    y_test = np.ravel(y_test)\n",
    "    pipT.fit(X_train, y_train)\n",
    "    pred = pipT.predict(X_test)\n",
    "\n",
    "    x = np.ravel(X_test[['language']])\n",
    "    \n",
    "    for i in range(len(x)):\n",
    "        c = x[i]\n",
    "        yt = y_test[i]\n",
    "        p = pred[i]\n",
    "        erreur = (yt-p)**2\n",
    "        Vect_erreur[b,listLang[c],0] += erreur\n",
    "        Vect_erreur[b,listLang[c],1] += 1\n",
    "\n",
    "    for i in range(Vect_erreur.shape[1]):\n",
    "        Vect_erreur[b,i,0] = Vect_erreur[b,i,0]/Vect_erreur[b,i,1] "
   ]
  },
  {
   "cell_type": "code",
   "execution_count": null,
   "id": "e91110b1",
   "metadata": {},
   "outputs": [],
   "source": [
    "arrayErreur = np.zeros((B,len(listLang)))\n",
    "for b in range(B):\n",
    "    arrayErreur[b,:]=Vect_erreur[b,:,0]"
   ]
  },
  {
   "cell_type": "code",
   "execution_count": null,
   "id": "3cf40f92",
   "metadata": {},
   "outputs": [],
   "source": [
    "dataframeErreur = pd.DataFrame(arrayErreur,columns=['austrian', 'belgian', 'bulgarian', 'croatian', 'cypriot', 'czech', 'danish', 'dutch', 'estonian', 'finnish',\n",
    "            'french', 'german', 'greek', 'hungarian', 'irish', 'italian', 'latvian', 'lithuanian', 'luxembourgish', \n",
    "            'maltese', 'polish', 'portuguese', 'romanian', 'slovakian', 'slovene', 'spanish','swedish'])\n",
    "plt.figure(figsize=(13,7))\n",
    "dataframeErreur[['austrian', 'belgian', 'bulgarian', 'croatian', 'cypriot', 'czech', 'danish', 'dutch', 'estonian', 'finnish',\n",
    "            'french', 'german', 'greek', 'hungarian', 'irish', 'italian', 'latvian', 'lithuanian', 'luxembourgish', \n",
    "            'maltese', 'polish', 'portuguese', 'romanian', 'slovakian', 'slovene', 'spanish','swedish']].boxplot(return_type='dict')\n",
    "plt.show()"
   ]
  },
  {
   "cell_type": "code",
   "execution_count": null,
   "id": "b9a20bf7",
   "metadata": {},
   "outputs": [],
   "source": [
    "plt.savefig('./results_store/MSE-BP-langage-T.png')"
   ]
  }
 ],
 "metadata": {
  "colab": {
   "collapsed_sections": [
    "TBuv9h7Wx7QS",
    "10j6LZKhyK-s",
    "IrXsnTwnyuSz",
    "ZpKineJ5zP0S",
    "fsPaf-YeNkiT"
   ],
   "provenance": []
  },
  "gpuClass": "standard",
  "kernelspec": {
   "display_name": "Python 3 (ipykernel)",
   "language": "python",
   "name": "python3"
  },
  "language_info": {
   "codemirror_mode": {
    "name": "ipython",
    "version": 3
   },
   "file_extension": ".py",
   "mimetype": "text/x-python",
   "name": "python",
   "nbconvert_exporter": "python",
   "pygments_lexer": "ipython3",
   "version": "3.9.7"
  }
 },
 "nbformat": 4,
 "nbformat_minor": 5
}
