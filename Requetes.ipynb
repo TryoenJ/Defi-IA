{
 "cells": [
  {
   "cell_type": "markdown",
   "id": "b13a1c99",
   "metadata": {},
   "source": [
    "# Script du lancement des requêtes"
   ]
  },
  {
   "cell_type": "code",
   "execution_count": 1,
   "id": "d0b4b633",
   "metadata": {},
   "outputs": [],
   "source": [
    "import urllib.parse\n",
    "import numpy as np\n",
    "import requests\n",
    "import pandas as pd\n",
    "from csv import writer\n",
    "from csv import DictWriter\n",
    "import csv\n",
    "\n",
    "domain = \"51.91.251.0\"\n",
    "port = 3000\n",
    "host = f\"http://{domain}:{port}\"\n",
    "path = lambda x: urllib.parse.urljoin(host, x)\n",
    "\n",
    "user_id = '5db3e3d5-ee3d-4905-987d-27315733c1f6'"
   ]
  },
  {
   "cell_type": "code",
   "execution_count": 3,
   "id": "dbd86b20",
   "metadata": {},
   "outputs": [],
   "source": [
    "language = ['austrian', 'belgian', 'bulgarian', 'croatian', 'cypriot', 'czech', 'danish', 'dutch', 'estonian', 'finnish',\n",
    "            'french', 'german', 'greek', 'hungarian', 'irish', 'italian', 'latvian', 'lithuanian', 'luxembourgish', \n",
    "            'maltese', 'polish', 'portuguese', 'romanian', 'slovakian', 'slovene', 'spanish','swedish']\n",
    "city = ['amsterdam', 'copenhagen', 'madrid', 'paris', 'rome', 'sofia', 'valletta', 'vienna', 'vilnius']\n",
    "\n",
    "language =  ['hungarian','finnish','austrian','romanian','slovakian']\n",
    "city = ['amsterdam','paris','madrid','copenhagen','rome']\n",
    "\n",
    "mobile = ['0','1']\n",
    "date = np.arange(0,44,1)\n",
    "#date = np.arange(0,10,1)"
   ]
  },
  {
   "cell_type": "code",
   "execution_count": 4,
   "id": "416f49b9",
   "metadata": {},
   "outputs": [],
   "source": [
    "def creation_avatar(N_avatar):\n",
    "    L = np.random.choice(language)\n",
    "    C = np.random.choice(city)\n",
    "    A = 'AliBaba-'+str(N_avatar)\n",
    "    r = requests.post(path(f\"avatars/{user_id}/{A}\"))\n",
    "    N_avatar += 1\n",
    "    return [A,L,C,N_avatar]"
   ]
  },
  {
   "cell_type": "code",
   "execution_count": 5,
   "id": "5efd3eae",
   "metadata": {},
   "outputs": [],
   "source": [
    "def verif_avatar(random_avatar, random_date, tab_old_param):\n",
    "    good_avatar = True\n",
    "    for i in tab_old_param.index:\n",
    "        if (random_avatar==tab_old_param['avatar_name'][i]):\n",
    "            if (random_date>=tab_old_param['date'][i]): #MODIF\n",
    "                good_avatar = False\n",
    "        if good_avatar ==False : break\n",
    "    return good_avatar"
   ]
  },
  {
   "cell_type": "code",
   "execution_count": 6,
   "id": "d35edfde",
   "metadata": {},
   "outputs": [],
   "source": [
    "def unicite(new_params, tab_old_param):\n",
    "    unique = True\n",
    "    for i in tab_old_param.index:\n",
    "        if ((new_params['language']==tab_old_param['language'][i]) and \n",
    "            (new_params['city']==tab_old_param['city'][i]) and \n",
    "            (new_params['date']==tab_old_param['date'][i])):# and\n",
    "            #(new_params['mobile']==tab_old_params['mobile'][i])): #MODIF\n",
    "            unique = False\n",
    "        if unique == False : break\n",
    "    return unique"
   ]
  },
  {
   "cell_type": "code",
   "execution_count": 7,
   "id": "8cae106f",
   "metadata": {},
   "outputs": [
    {
     "ename": "KeyError",
     "evalue": "'prices'",
     "output_type": "error",
     "traceback": [
      "\u001b[1;31m---------------------------------------------------------------------------\u001b[0m",
      "\u001b[1;31mKeyError\u001b[0m                                  Traceback (most recent call last)",
      "\u001b[1;32m~\\AppData\\Local\\Temp\\ipykernel_12072\\1259685292.py\u001b[0m in \u001b[0;36m<module>\u001b[1;34m\u001b[0m\n\u001b[0;32m     50\u001b[0m         \u001b[1;31m#stockage des nouvelles requêtes effectuées\u001b[0m\u001b[1;33m\u001b[0m\u001b[1;33m\u001b[0m\u001b[0m\n\u001b[0;32m     51\u001b[0m         \u001b[0mpricing_requests\u001b[0m\u001b[1;33m=\u001b[0m\u001b[1;33m[\u001b[0m\u001b[1;33m]\u001b[0m\u001b[1;33m\u001b[0m\u001b[1;33m\u001b[0m\u001b[0m\n\u001b[1;32m---> 52\u001b[1;33m         \u001b[0mpricing_requests\u001b[0m\u001b[1;33m.\u001b[0m\u001b[0mappend\u001b[0m\u001b[1;33m(\u001b[0m\u001b[0mpd\u001b[0m\u001b[1;33m.\u001b[0m\u001b[0mDataFrame\u001b[0m\u001b[1;33m(\u001b[0m\u001b[0mrequete\u001b[0m\u001b[1;33m.\u001b[0m\u001b[0mjson\u001b[0m\u001b[1;33m(\u001b[0m\u001b[1;33m)\u001b[0m\u001b[1;33m[\u001b[0m\u001b[1;34m'prices'\u001b[0m\u001b[1;33m]\u001b[0m\u001b[1;33m)\u001b[0m\u001b[1;33m.\u001b[0m\u001b[0massign\u001b[0m\u001b[1;33m(\u001b[0m\u001b[1;33m**\u001b[0m\u001b[0mrequete\u001b[0m\u001b[1;33m.\u001b[0m\u001b[0mjson\u001b[0m\u001b[1;33m(\u001b[0m\u001b[1;33m)\u001b[0m\u001b[1;33m[\u001b[0m\u001b[1;34m'request'\u001b[0m\u001b[1;33m]\u001b[0m\u001b[1;33m)\u001b[0m\u001b[1;33m)\u001b[0m\u001b[1;33m\u001b[0m\u001b[1;33m\u001b[0m\u001b[0m\n\u001b[0m\u001b[0;32m     53\u001b[0m         \u001b[0mpricing_requests\u001b[0m\u001b[1;33m=\u001b[0m\u001b[0mpd\u001b[0m\u001b[1;33m.\u001b[0m\u001b[0mconcat\u001b[0m\u001b[1;33m(\u001b[0m\u001b[0mpricing_requests\u001b[0m\u001b[1;33m)\u001b[0m\u001b[1;33m\u001b[0m\u001b[1;33m\u001b[0m\u001b[0m\n\u001b[0;32m     54\u001b[0m \u001b[1;33m\u001b[0m\u001b[0m\n",
      "\u001b[1;31mKeyError\u001b[0m: 'prices'"
     ]
    }
   ],
   "source": [
    "order_requests = 5276 #UPDATE A CHAQUE FOIS dernier numero\n",
    "N_avatar = 6223 #UPDATE A CHAQUE FOIS numero suivant\n",
    "\n",
    "for i in range(200):\n",
    "\n",
    "    #Creation avatar\n",
    "    new_avatar = creation_avatar(N_avatar)\n",
    "    N_avatar = new_avatar[3]\n",
    "    nb_requete = 1\n",
    "    \n",
    "    #date = np.arange(1,5,1)\n",
    "    D = np.random.choice(date)\n",
    "    \n",
    "    UNI = True\n",
    "    #A COMMENTER SI UNE DATE FIXE\n",
    "    while (verif_avatar(new_avatar[0], D, tab_old_param = pd.read_csv('./tab_params_utilises.csv')) & (nb_requete<=2)):# & UNI):\n",
    "        #C = 'amsterdam'#'madrid'#'valletta'\n",
    "        #L = 'hungarian' #'swedish' #'finnish' \n",
    "\n",
    "        M = np.random.choice(mobile)\n",
    "            \n",
    "        new_params = {\n",
    "            \"avatar_name\": new_avatar[0],\n",
    "            \"language\": new_avatar[1],\n",
    "            \"city\": new_avatar[2],\n",
    "            \"date\": D,\n",
    "            \"mobile\": M,\n",
    "                }\n",
    "\n",
    "        #if unicite:\n",
    "        UNI = unicite(new_params, tab_old_param = pd.read_csv('./tab_params_utilises.csv'))\n",
    "        if UNI:\n",
    "\n",
    "            \n",
    "\n",
    "            requete = requests.get(path(f\"pricing/{user_id}\"), params=new_params)\n",
    "\n",
    "            #stockage des nouveaux paramètres utilisés\n",
    "            params_requests = []\n",
    "            params_requests.append(new_params)    \n",
    "            params_requests  = pd.DataFrame(params_requests)\n",
    "            old_param = pd.read_csv('./tab_params_utilises.csv')\n",
    "\n",
    "            new_param_file = pd.concat([old_param,params_requests])\n",
    "            new_param_file.to_csv(\"./tab_params_utilises.csv\", index = False)\n",
    "\n",
    "\n",
    "            #stockage des nouvelles requêtes effectuées\n",
    "            pricing_requests=[]\n",
    "            pricing_requests.append(pd.DataFrame(requete.json()['prices']).assign(**requete.json()['request']))\n",
    "            pricing_requests=pd.concat(pricing_requests)\n",
    "\n",
    "            #Ajout de la colonne nb_requete\n",
    "            vect2 = np.ones(len(pricing_requests), dtype=int)*nb_requete\n",
    "            vect2 = pd.DataFrame(vect2,columns = ['nb_requete'])\n",
    "            pricing_requests = vect2.join(pricing_requests, on=None, how='right', lsuffix='', rsuffix='', sort=False)\n",
    "\n",
    "            #Ajout de la colonne order_request\n",
    "            order_requests += 1\n",
    "            vect = np.ones(len(pricing_requests), dtype=int)*order_requests\n",
    "            vect = pd.DataFrame(vect,columns = ['order_requests'])\n",
    "            pricing_requests = vect.join(pricing_requests, on=None, how='right', lsuffix='', rsuffix='', sort=False)\n",
    "\n",
    "            hotels = pd.read_csv('./defi-ia-2023/features_hotels.csv', index_col=['hotel_id', 'city'])\n",
    "            pricing_requests = pricing_requests.join(hotels, on=['hotel_id', 'city'])\n",
    "\n",
    "            df = pd.read_csv('./new_result_requetes.csv')\n",
    "            df= pd.concat([df,pricing_requests],axis = 0)\n",
    "            df.to_csv('./new_result_requetes.csv', index= False)\n",
    "\n",
    "            nb_requete += 1\n",
    "\n",
    "            #A COMMENTER SI UNE DATE FIXE\n",
    "            D = np.random.choice(date)\n"
   ]
  }
 ],
 "metadata": {
  "kernelspec": {
   "display_name": "Python 3 (ipykernel)",
   "language": "python",
   "name": "python3"
  },
  "language_info": {
   "codemirror_mode": {
    "name": "ipython",
    "version": 3
   },
   "file_extension": ".py",
   "mimetype": "text/x-python",
   "name": "python",
   "nbconvert_exporter": "python",
   "pygments_lexer": "ipython3",
   "version": "3.9.13"
  }
 },
 "nbformat": 4,
 "nbformat_minor": 5
}
