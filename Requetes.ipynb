{
 "cells": [
  {
   "cell_type": "markdown",
   "id": "6dc88cc4",
   "metadata": {},
   "source": [
    "A un avatar, on associe la langue qui restera la même à chaque requête avec cet avatar. En revanche, la date, le mobile, la ville peuvent changer d'une requete à l'autre. "
   ]
  },
  {
   "cell_type": "markdown",
   "id": "b0438c36",
   "metadata": {},
   "source": [
    "La plupart du temps, la ville de recherche est liée à l'avatar, dans un premier, on la fixe carrément à l'avatar."
   ]
  },
  {
   "cell_type": "markdown",
   "id": "554f54da",
   "metadata": {},
   "source": [
    "- Rajouter une variable qui compte le nombre de fois ou un avatar effectue une requete"
   ]
  },
  {
   "cell_type": "code",
   "execution_count": 24,
   "id": "d0b4b633",
   "metadata": {},
   "outputs": [],
   "source": [
    "import urllib.parse\n",
    "import numpy as np\n",
    "import requests\n",
    "import pandas as pd\n",
    "from csv import writer\n",
    "from csv import DictWriter\n",
    "import csv\n",
    "\n",
    "domain = \"51.91.251.0\"\n",
    "port = 3000\n",
    "host = f\"http://{domain}:{port}\"\n",
    "path = lambda x: urllib.parse.urljoin(host, x)\n",
    "\n",
    "user_id = '5db3e3d5-ee3d-4905-987d-27315733c1f6'"
   ]
  },
  {
   "cell_type": "code",
   "execution_count": 25,
   "id": "dbd86b20",
   "metadata": {},
   "outputs": [],
   "source": [
    "language = ['austrian', 'belgian', 'bulgarian', 'croatian', 'cypriot', 'czech', 'danish', 'dutch', 'estonian', 'finnish',\n",
    "            'french', 'german', 'greek', 'hungarian', 'irish', 'italian', 'latvian', 'lithuanian', 'luxembourgish', \n",
    "            'maltese', 'polish', 'portuguese', 'romanian', 'slovakian', 'slovene', 'spanish','swedish']\n",
    "city = ['amsterdam', 'copenhagen', 'madrid', 'paris', 'rome', 'sofia', 'valletta', 'vienna', 'vilnius']\n",
    "mobile = ['0','1']\n",
    "date = np.arange(0,45,1)\n",
    "#date = np.arange(0,10,1)"
   ]
  },
  {
   "cell_type": "code",
   "execution_count": 26,
   "id": "416f49b9",
   "metadata": {},
   "outputs": [],
   "source": [
    "def creation_avatar(N_avatar):\n",
    "    L = np.random.choice(language)#replace ? ie avec ou sans remplacement\n",
    "    C = np.random.choice(city)\n",
    "    A = 'AliBaba-'+str(N_avatar)\n",
    "    r = requests.post(path(f\"avatars/{user_id}/{A}\"))\n",
    "    N_avatar += 1\n",
    "    return [A,L,C,N_avatar]"
   ]
  },
  {
   "cell_type": "code",
   "execution_count": 27,
   "id": "5efd3eae",
   "metadata": {},
   "outputs": [],
   "source": [
    "def verif_avatar(random_avatar, random_date, tab_old_param):\n",
    "    good_avatar = True\n",
    "    for i in tab_old_param.index:\n",
    "        if (random_avatar==tab_old_param['avatar_name'][i]):\n",
    "            if (random_date>=tab_old_param['date'][i]): #MODIF\n",
    "                good_avatar = False\n",
    "        if good_avatar ==False : break\n",
    "    return good_avatar"
   ]
  },
  {
   "cell_type": "code",
   "execution_count": 28,
   "id": "d35edfde",
   "metadata": {},
   "outputs": [],
   "source": [
    "def unicite(new_params, tab_old_param):\n",
    "    unique = True\n",
    "    for i in tab_old_param.index:\n",
    "        if ((new_params['language']==tab_old_param['language'][i]) and \n",
    "            (new_params['city']==tab_old_param['city'][i]) and \n",
    "            (new_params['date']==tab_old_param['date'][i])):# and\n",
    "            #(new_params['mobile']==tab_old_params['mobile'][i])): #MODIF\n",
    "            unique = False\n",
    "        if unique == False : break\n",
    "    return unique"
   ]
  },
  {
   "cell_type": "code",
   "execution_count": 35,
   "id": "8cae106f",
   "metadata": {},
   "outputs": [],
   "source": [
    "# A MODIFIER POUR QUE CE SOIT AUTOMATIQUE\n",
    "order_requests = 2790 #UPDATE A CHAQUE FOIS dernier numero\n",
    "N_avatar = 1909 #UPDATE A CHAQUE FOIS numero suivant\n",
    "\n",
    "for i in range(100):\n",
    "\n",
    "    #Creation avatar\n",
    "    new_avatar = creation_avatar(N_avatar)\n",
    "    N_avatar = new_avatar[3]\n",
    "    nb_requete = 0\n",
    "\n",
    "    #D = np.random.choice(date)\n",
    "    D = 10\n",
    "\n",
    "    #A COMMENTER SI UNE DATE FIXE\n",
    "   # while (verif_avatar(new_avatar[0], D, tab_old_param = pd.read_csv('./tab_params_utilises.csv')) & (nb_requete<2)):\n",
    "\n",
    "    M = np.random.choice(mobile)\n",
    "    new_params = {\n",
    "        \"avatar_name\": new_avatar[0],\n",
    "        \"language\": new_avatar[1],\n",
    "        \"city\": new_avatar[2],\n",
    "        \"date\": D,\n",
    "        \"mobile\": M,\n",
    "            }\n",
    "\n",
    "    #if unicite:\n",
    "    if(unicite(new_params, tab_old_param = pd.read_csv('./tab_params_utilises.csv'))):\n",
    "\n",
    "        nb_requete += 1\n",
    "\n",
    "        requete = requests.get(path(f\"pricing/{user_id}\"), params=new_params)\n",
    "\n",
    "        #stockage des nouveaux paramètres utilisés\n",
    "        params_requests = []\n",
    "        params_requests.append(new_params)    \n",
    "        params_requests  = pd.DataFrame(params_requests)\n",
    "        old_param = pd.read_csv('./tab_params_utilises.csv')\n",
    "\n",
    "        new_param_file = pd.concat([old_param,params_requests])\n",
    "        new_param_file.to_csv(\"./tab_params_utilises.csv\", index = False)\n",
    "\n",
    "\n",
    "        #stockage des nouvelles requêtes effectuées\n",
    "        pricing_requests=[]\n",
    "        pricing_requests.append(pd.DataFrame(requete.json()['prices']).assign(**requete.json()['request']))\n",
    "        pricing_requests=pd.concat(pricing_requests)\n",
    "\n",
    "        #Ajout de la colonne nb_requete\n",
    "        vect2 = np.ones(len(pricing_requests), dtype=int)*nb_requete\n",
    "        vect2 = pd.DataFrame(vect2,columns = ['nb_requete'])\n",
    "        pricing_requests = vect2.join(pricing_requests, on=None, how='right', lsuffix='', rsuffix='', sort=False)\n",
    "\n",
    "        #Ajout de la colonne order_request\n",
    "        order_requests += 1\n",
    "        vect = np.ones(len(pricing_requests), dtype=int)*order_requests\n",
    "        vect = pd.DataFrame(vect,columns = ['order_requests'])\n",
    "        pricing_requests = vect.join(pricing_requests, on=None, how='right', lsuffix='', rsuffix='', sort=False)\n",
    "\n",
    "        hotels = pd.read_csv('./defi-ia-2023/features_hotels.csv', index_col=['hotel_id', 'city'])\n",
    "        pricing_requests = pricing_requests.join(hotels, on=['hotel_id', 'city'])\n",
    "\n",
    "        df = pd.read_csv('./result_requetes.csv')\n",
    "        df= pd.concat([df,pricing_requests],axis = 0)\n",
    "        df.to_csv('./result_requetes.csv', index= False)\n",
    "\n",
    "        #A COMMENTER SI UNE DATE FIXE\n",
    "        #D = np.random.choice(date)\n",
    "              "
   ]
  },
  {
   "cell_type": "code",
   "execution_count": 33,
   "id": "5542affa",
   "metadata": {},
   "outputs": [
    {
     "data": {
      "text/plain": [
       "{'detail': 'A pricing request for this avatar already exists for a sooner date'}"
      ]
     },
     "execution_count": 33,
     "metadata": {},
     "output_type": "execute_result"
    }
   ],
   "source": [
    "requete.json()"
   ]
  },
  {
   "cell_type": "code",
   "execution_count": null,
   "id": "f26692aa",
   "metadata": {},
   "outputs": [],
   "source": []
  }
 ],
 "metadata": {
  "kernelspec": {
   "display_name": "Python 3 (ipykernel)",
   "language": "python",
   "name": "python3"
  },
  "language_info": {
   "codemirror_mode": {
    "name": "ipython",
    "version": 3
   },
   "file_extension": ".py",
   "mimetype": "text/x-python",
   "name": "python",
   "nbconvert_exporter": "python",
   "pygments_lexer": "ipython3",
   "version": "3.9.13"
  }
 },
 "nbformat": 4,
 "nbformat_minor": 5
}
