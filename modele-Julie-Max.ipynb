{
 "cells": [
  {
   "cell_type": "markdown",
   "id": "aa85bb98",
   "metadata": {
    "id": "aa85bb98"
   },
   "source": [
    "# MODELE XGBOOST CALIBRE + SOUMISSION"
   ]
  },
  {
   "cell_type": "markdown",
   "id": "96zUo_7ZLMTq",
   "metadata": {
    "id": "96zUo_7ZLMTq"
   },
   "source": [
    "## CHARGEMENT DES LIBRAIRIES"
   ]
  },
  {
   "cell_type": "code",
   "execution_count": null,
   "id": "14e9510a",
   "metadata": {
    "colab": {
     "base_uri": "https://localhost:8080/"
    },
    "id": "14e9510a",
    "outputId": "cb5b2f5e-e064-4635-b52f-81a97d86de3b"
   },
   "outputs": [],
   "source": [
    "#from google.colab import drive\n",
    "#drive.mount('/content/gdrive')"
   ]
  },
  {
   "cell_type": "code",
   "execution_count": null,
   "id": "98Vb-TrdK-Eu",
   "metadata": {
    "id": "98Vb-TrdK-Eu"
   },
   "outputs": [],
   "source": [
    "#!pip install category_encoders > /dev/null 2>&1\n",
    "#!pip install xgboost > /dev/null 2>&1"
   ]
  },
  {
   "cell_type": "code",
   "execution_count": 1,
   "id": "9d6f07a7",
   "metadata": {
    "id": "9d6f07a7"
   },
   "outputs": [],
   "source": [
    "import pandas as pd\n",
    "import numpy as np\n",
    "import panel as pn\n",
    "\n",
    "from sklearn.compose import make_column_selector as selector\n",
    "from sklearn.compose import ColumnTransformer\n",
    "from sklearn.pipeline import Pipeline\n",
    "from sklearn.preprocessing import OneHotEncoder, StandardScaler\n",
    "from category_encoders import TargetEncoder, MEstimateEncoder, CatBoostEncoder\n",
    "from sklearn.ensemble import GradientBoostingRegressor, HistGradientBoostingRegressor\n",
    "from xgboost import XGBRegressor\n",
    "from sklearn.model_selection import train_test_split\n",
    "from sklearn.model_selection import GridSearchCV"
   ]
  },
  {
   "cell_type": "code",
   "execution_count": null,
   "id": "w-N_LHESPewO",
   "metadata": {
    "id": "w-N_LHESPewO"
   },
   "outputs": [],
   "source": []
  },
  {
   "cell_type": "markdown",
   "id": "YwcYfX5dLTkF",
   "metadata": {
    "id": "YwcYfX5dLTkF"
   },
   "source": [
    "## PREPROCESSING"
   ]
  },
  {
   "cell_type": "code",
   "execution_count": 18,
   "id": "ILFW872HLAA2",
   "metadata": {
    "id": "ILFW872HLAA2"
   },
   "outputs": [],
   "source": [
    "#data = pd.read_csv('/content/gdrive/My Drive/Defi-IA/new_result_requetes.csv')\n",
    "data = pd.read_csv('new_result_requetes.csv')"
   ]
  },
  {
   "cell_type": "code",
   "execution_count": 19,
   "id": "e3f710e4",
   "metadata": {
    "id": "e3f710e4"
   },
   "outputs": [],
   "source": [
    "#On affecte le bon type aux variables qualitatives\n",
    "data[\"avatar_id\"]=pd.Categorical(data[\"avatar_id\"],ordered=False)\n",
    "data[\"city\"]=pd.Categorical(data[\"city\"],ordered=False)\n",
    "data[\"language\"]=pd.Categorical(data[\"language\"],ordered=False)\n",
    "data[\"mobile\"]=pd.Categorical(data[\"mobile\"],ordered=False)\n",
    "data[\"hotel_id\"]=pd.Categorical(data[\"hotel_id\"],ordered=False)\n",
    "data[\"group\"]=pd.Categorical(data[\"group\"],ordered=False)\n",
    "data[\"brand\"]=pd.Categorical(data[\"brand\"],ordered=False)\n",
    "data[\"parking\"]=pd.Categorical(data[\"parking\"],ordered=False)\n",
    "data[\"pool\"]=pd.Categorical(data[\"pool\"],ordered=False)\n",
    "data[\"children_policy\"]=pd.Categorical(data[\"children_policy\"],ordered=False)\n",
    "\n",
    "data[\"price\"]=pd.DataFrame(data[\"price\"], dtype=float)"
   ]
  },
  {
   "cell_type": "code",
   "execution_count": 20,
   "id": "aaaba95a",
   "metadata": {},
   "outputs": [],
   "source": [
    "#X = data[[\"nb_requete\",\"date\",\"stock\",\"city\",\"language\",\"mobile\",\"hotel_id\",\"group\",\"brand\",\"parking\",\"pool\",\"children_policy\"]]\n",
    "X = data[[\"date\",\"stock\",\"city\",\"language\",\"mobile\",\"hotel_id\",\"group\",\"brand\",\"parking\",\"pool\",\"children_policy\"]]\n",
    "#X = data[[\"date\",\"stock\",\"city\",\"language\",\"hotel_id\",\"group\",\"brand\"]]"
   ]
  },
  {
   "cell_type": "code",
   "execution_count": 21,
   "id": "e2d79b35",
   "metadata": {},
   "outputs": [],
   "source": [
    "Y = data[[\"price\"]]"
   ]
  },
  {
   "cell_type": "code",
   "execution_count": 22,
   "id": "3d2588b1",
   "metadata": {},
   "outputs": [],
   "source": [
    "X_train, X_test, y_train, y_test = train_test_split(X, Y, test_size=0.2, random_state=42)"
   ]
  },
  {
   "cell_type": "code",
   "execution_count": 23,
   "id": "e56afbeb",
   "metadata": {},
   "outputs": [],
   "source": [
    "#y_train = np.ravel(y_train)\n",
    "#y_test = np.ravel(y_test)"
   ]
  },
  {
   "cell_type": "code",
   "execution_count": null,
   "id": "16d5bb96",
   "metadata": {},
   "outputs": [],
   "source": []
  },
  {
   "cell_type": "markdown",
   "id": "9b90584e",
   "metadata": {},
   "source": [
    "## TARGET SMOOTHING"
   ]
  },
  {
   "cell_type": "code",
   "execution_count": 24,
   "id": "92f7c8c0",
   "metadata": {},
   "outputs": [],
   "source": [
    "def calc_smooth_mean(df, by, on, m):\n",
    "    # Compute the global mean\n",
    "    mean = df[on].mean()\n",
    "\n",
    "    # Compute the number of values and the mean of each group\n",
    "    agg = df.groupby(by)[on].agg(['count', 'mean'])\n",
    "    counts = agg['count']\n",
    "    means = agg['mean']\n",
    "\n",
    "    # Compute the \"smoothed\" means\n",
    "    smooth = (counts * means + m * mean) / (counts + m)\n",
    "\n",
    "    # Replace each value by the according smoothed mean\n",
    "    return df[by].map(smooth)"
   ]
  },
  {
   "cell_type": "code",
   "execution_count": 25,
   "id": "7024cea4",
   "metadata": {},
   "outputs": [
    {
     "data": {
      "text/html": [
       "<div>\n",
       "<style scoped>\n",
       "    .dataframe tbody tr th:only-of-type {\n",
       "        vertical-align: middle;\n",
       "    }\n",
       "\n",
       "    .dataframe tbody tr th {\n",
       "        vertical-align: top;\n",
       "    }\n",
       "\n",
       "    .dataframe thead th {\n",
       "        text-align: right;\n",
       "    }\n",
       "</style>\n",
       "<table border=\"1\" class=\"dataframe\">\n",
       "  <thead>\n",
       "    <tr style=\"text-align: right;\">\n",
       "      <th></th>\n",
       "      <th>date</th>\n",
       "      <th>stock</th>\n",
       "      <th>city</th>\n",
       "      <th>language</th>\n",
       "      <th>mobile</th>\n",
       "      <th>hotel_id</th>\n",
       "      <th>group</th>\n",
       "      <th>brand</th>\n",
       "      <th>parking</th>\n",
       "      <th>pool</th>\n",
       "      <th>children_policy</th>\n",
       "      <th>price</th>\n",
       "    </tr>\n",
       "  </thead>\n",
       "  <tbody>\n",
       "    <tr>\n",
       "      <th>180999</th>\n",
       "      <td>41</td>\n",
       "      <td>92</td>\n",
       "      <td>vilnius</td>\n",
       "      <td>luxembourgish</td>\n",
       "      <td>0</td>\n",
       "      <td>648</td>\n",
       "      <td>Independant</td>\n",
       "      <td>Independant</td>\n",
       "      <td>1</td>\n",
       "      <td>0</td>\n",
       "      <td>0</td>\n",
       "      <td>57.0</td>\n",
       "    </tr>\n",
       "    <tr>\n",
       "      <th>375785</th>\n",
       "      <td>10</td>\n",
       "      <td>4</td>\n",
       "      <td>rome</td>\n",
       "      <td>bulgarian</td>\n",
       "      <td>0</td>\n",
       "      <td>953</td>\n",
       "      <td>Boss Western</td>\n",
       "      <td>Boss Western</td>\n",
       "      <td>0</td>\n",
       "      <td>0</td>\n",
       "      <td>0</td>\n",
       "      <td>123.0</td>\n",
       "    </tr>\n",
       "    <tr>\n",
       "      <th>292699</th>\n",
       "      <td>14</td>\n",
       "      <td>15</td>\n",
       "      <td>vienna</td>\n",
       "      <td>finnish</td>\n",
       "      <td>0</td>\n",
       "      <td>26</td>\n",
       "      <td>Accar Hotels</td>\n",
       "      <td>Marcure</td>\n",
       "      <td>1</td>\n",
       "      <td>0</td>\n",
       "      <td>0</td>\n",
       "      <td>199.0</td>\n",
       "    </tr>\n",
       "    <tr>\n",
       "      <th>379417</th>\n",
       "      <td>5</td>\n",
       "      <td>5</td>\n",
       "      <td>madrid</td>\n",
       "      <td>italian</td>\n",
       "      <td>1</td>\n",
       "      <td>768</td>\n",
       "      <td>Accar Hotels</td>\n",
       "      <td>Safitel</td>\n",
       "      <td>0</td>\n",
       "      <td>1</td>\n",
       "      <td>0</td>\n",
       "      <td>364.0</td>\n",
       "    </tr>\n",
       "    <tr>\n",
       "      <th>14624</th>\n",
       "      <td>21</td>\n",
       "      <td>25</td>\n",
       "      <td>vilnius</td>\n",
       "      <td>polish</td>\n",
       "      <td>1</td>\n",
       "      <td>408</td>\n",
       "      <td>Morriott International</td>\n",
       "      <td>CourtYord</td>\n",
       "      <td>1</td>\n",
       "      <td>0</td>\n",
       "      <td>0</td>\n",
       "      <td>108.0</td>\n",
       "    </tr>\n",
       "    <tr>\n",
       "      <th>...</th>\n",
       "      <td>...</td>\n",
       "      <td>...</td>\n",
       "      <td>...</td>\n",
       "      <td>...</td>\n",
       "      <td>...</td>\n",
       "      <td>...</td>\n",
       "      <td>...</td>\n",
       "      <td>...</td>\n",
       "      <td>...</td>\n",
       "      <td>...</td>\n",
       "      <td>...</td>\n",
       "      <td>...</td>\n",
       "    </tr>\n",
       "    <tr>\n",
       "      <th>259178</th>\n",
       "      <td>0</td>\n",
       "      <td>0</td>\n",
       "      <td>copenhagen</td>\n",
       "      <td>slovakian</td>\n",
       "      <td>0</td>\n",
       "      <td>481</td>\n",
       "      <td>Independant</td>\n",
       "      <td>Independant</td>\n",
       "      <td>1</td>\n",
       "      <td>0</td>\n",
       "      <td>0</td>\n",
       "      <td>93.0</td>\n",
       "    </tr>\n",
       "    <tr>\n",
       "      <th>365838</th>\n",
       "      <td>31</td>\n",
       "      <td>78</td>\n",
       "      <td>vienna</td>\n",
       "      <td>irish</td>\n",
       "      <td>0</td>\n",
       "      <td>219</td>\n",
       "      <td>Morriott International</td>\n",
       "      <td>Morriot</td>\n",
       "      <td>0</td>\n",
       "      <td>1</td>\n",
       "      <td>0</td>\n",
       "      <td>171.0</td>\n",
       "    </tr>\n",
       "    <tr>\n",
       "      <th>131932</th>\n",
       "      <td>20</td>\n",
       "      <td>7</td>\n",
       "      <td>vienna</td>\n",
       "      <td>croatian</td>\n",
       "      <td>0</td>\n",
       "      <td>919</td>\n",
       "      <td>Yin Yang</td>\n",
       "      <td>8 Premium</td>\n",
       "      <td>0</td>\n",
       "      <td>0</td>\n",
       "      <td>0</td>\n",
       "      <td>76.0</td>\n",
       "    </tr>\n",
       "    <tr>\n",
       "      <th>146867</th>\n",
       "      <td>17</td>\n",
       "      <td>0</td>\n",
       "      <td>rome</td>\n",
       "      <td>swedish</td>\n",
       "      <td>0</td>\n",
       "      <td>636</td>\n",
       "      <td>Independant</td>\n",
       "      <td>Independant</td>\n",
       "      <td>0</td>\n",
       "      <td>0</td>\n",
       "      <td>0</td>\n",
       "      <td>102.0</td>\n",
       "    </tr>\n",
       "    <tr>\n",
       "      <th>121958</th>\n",
       "      <td>39</td>\n",
       "      <td>202</td>\n",
       "      <td>madrid</td>\n",
       "      <td>danish</td>\n",
       "      <td>1</td>\n",
       "      <td>154</td>\n",
       "      <td>Accar Hotels</td>\n",
       "      <td>Safitel</td>\n",
       "      <td>1</td>\n",
       "      <td>1</td>\n",
       "      <td>0</td>\n",
       "      <td>216.0</td>\n",
       "    </tr>\n",
       "  </tbody>\n",
       "</table>\n",
       "<p>371572 rows × 12 columns</p>\n",
       "</div>"
      ],
      "text/plain": [
       "        date  stock        city       language mobile hotel_id  \\\n",
       "180999    41     92     vilnius  luxembourgish      0      648   \n",
       "375785    10      4        rome      bulgarian      0      953   \n",
       "292699    14     15      vienna        finnish      0       26   \n",
       "379417     5      5      madrid        italian      1      768   \n",
       "14624     21     25     vilnius         polish      1      408   \n",
       "...      ...    ...         ...            ...    ...      ...   \n",
       "259178     0      0  copenhagen      slovakian      0      481   \n",
       "365838    31     78      vienna          irish      0      219   \n",
       "131932    20      7      vienna       croatian      0      919   \n",
       "146867    17      0        rome        swedish      0      636   \n",
       "121958    39    202      madrid         danish      1      154   \n",
       "\n",
       "                         group         brand parking pool children_policy  \\\n",
       "180999             Independant   Independant       1    0               0   \n",
       "375785            Boss Western  Boss Western       0    0               0   \n",
       "292699            Accar Hotels       Marcure       1    0               0   \n",
       "379417            Accar Hotels       Safitel       0    1               0   \n",
       "14624   Morriott International     CourtYord       1    0               0   \n",
       "...                        ...           ...     ...  ...             ...   \n",
       "259178             Independant   Independant       1    0               0   \n",
       "365838  Morriott International       Morriot       0    1               0   \n",
       "131932                Yin Yang     8 Premium       0    0               0   \n",
       "146867             Independant   Independant       0    0               0   \n",
       "121958            Accar Hotels       Safitel       1    1               0   \n",
       "\n",
       "        price  \n",
       "180999   57.0  \n",
       "375785  123.0  \n",
       "292699  199.0  \n",
       "379417  364.0  \n",
       "14624   108.0  \n",
       "...       ...  \n",
       "259178   93.0  \n",
       "365838  171.0  \n",
       "131932   76.0  \n",
       "146867  102.0  \n",
       "121958  216.0  \n",
       "\n",
       "[371572 rows x 12 columns]"
      ]
     },
     "execution_count": 25,
     "metadata": {},
     "output_type": "execute_result"
    }
   ],
   "source": [
    "dataT = X_train.join(y_train, on=None, how='right', lsuffix='', rsuffix='', sort=False)\n",
    "dataT"
   ]
  },
  {
   "cell_type": "code",
   "execution_count": null,
   "id": "9ea77bac",
   "metadata": {},
   "outputs": [],
   "source": []
  },
  {
   "cell_type": "code",
   "execution_count": 26,
   "id": "e954f9cc",
   "metadata": {},
   "outputs": [],
   "source": [
    "dataT['city'] = calc_smooth_mean(data, by='city', on='price', m=300)\n",
    "dataT['language'] = calc_smooth_mean(data, by='language', on='price', m=300)\n",
    "dataT['mobile'] = calc_smooth_mean(data, by='mobile', on='price', m=300)\n",
    "dataT['hotel_id'] = calc_smooth_mean(data, by='hotel_id', on='price', m=300)\n",
    "dataT['group'] = calc_smooth_mean(data, by='group', on='price', m=300)\n",
    "dataT['brand'] = calc_smooth_mean(data, by='brand', on='price', m=300)\n",
    "dataT['parking'] = calc_smooth_mean(data, by='parking', on='price', m=300)\n",
    "dataT['pool'] = calc_smooth_mean(data, by='pool', on='price', m=300)\n",
    "dataT['children_policy'] = calc_smooth_mean(data, by='children_policy', on='price', m=300)"
   ]
  },
  {
   "cell_type": "code",
   "execution_count": 27,
   "id": "4200297e",
   "metadata": {},
   "outputs": [
    {
     "data": {
      "text/html": [
       "<div>\n",
       "<style scoped>\n",
       "    .dataframe tbody tr th:only-of-type {\n",
       "        vertical-align: middle;\n",
       "    }\n",
       "\n",
       "    .dataframe tbody tr th {\n",
       "        vertical-align: top;\n",
       "    }\n",
       "\n",
       "    .dataframe thead th {\n",
       "        text-align: right;\n",
       "    }\n",
       "</style>\n",
       "<table border=\"1\" class=\"dataframe\">\n",
       "  <thead>\n",
       "    <tr style=\"text-align: right;\">\n",
       "      <th></th>\n",
       "      <th>date</th>\n",
       "      <th>stock</th>\n",
       "      <th>city</th>\n",
       "      <th>language</th>\n",
       "      <th>mobile</th>\n",
       "      <th>hotel_id</th>\n",
       "      <th>group</th>\n",
       "      <th>brand</th>\n",
       "      <th>parking</th>\n",
       "      <th>pool</th>\n",
       "      <th>children_policy</th>\n",
       "      <th>price</th>\n",
       "    </tr>\n",
       "  </thead>\n",
       "  <tbody>\n",
       "    <tr>\n",
       "      <th>180999</th>\n",
       "      <td>41</td>\n",
       "      <td>92</td>\n",
       "      <td>112.579633</td>\n",
       "      <td>156.952975</td>\n",
       "      <td>159.141817</td>\n",
       "      <td>103.567833</td>\n",
       "      <td>96.370483</td>\n",
       "      <td>96.370483</td>\n",
       "      <td>159.852509</td>\n",
       "      <td>141.311186</td>\n",
       "      <td>156.041313</td>\n",
       "      <td>57.0</td>\n",
       "    </tr>\n",
       "    <tr>\n",
       "      <th>375785</th>\n",
       "      <td>10</td>\n",
       "      <td>4</td>\n",
       "      <td>149.131076</td>\n",
       "      <td>154.134707</td>\n",
       "      <td>159.141817</td>\n",
       "      <td>137.684990</td>\n",
       "      <td>134.879991</td>\n",
       "      <td>123.672497</td>\n",
       "      <td>157.759659</td>\n",
       "      <td>141.311186</td>\n",
       "      <td>156.041313</td>\n",
       "      <td>123.0</td>\n",
       "    </tr>\n",
       "    <tr>\n",
       "      <th>292699</th>\n",
       "      <td>14</td>\n",
       "      <td>15</td>\n",
       "      <td>156.135104</td>\n",
       "      <td>164.186038</td>\n",
       "      <td>159.141817</td>\n",
       "      <td>168.085851</td>\n",
       "      <td>188.957295</td>\n",
       "      <td>199.226930</td>\n",
       "      <td>159.852509</td>\n",
       "      <td>141.311186</td>\n",
       "      <td>156.041313</td>\n",
       "      <td>199.0</td>\n",
       "    </tr>\n",
       "    <tr>\n",
       "      <th>379417</th>\n",
       "      <td>5</td>\n",
       "      <td>5</td>\n",
       "      <td>140.337542</td>\n",
       "      <td>161.028454</td>\n",
       "      <td>158.203332</td>\n",
       "      <td>240.184242</td>\n",
       "      <td>188.957295</td>\n",
       "      <td>294.467693</td>\n",
       "      <td>157.759659</td>\n",
       "      <td>243.636854</td>\n",
       "      <td>156.041313</td>\n",
       "      <td>364.0</td>\n",
       "    </tr>\n",
       "    <tr>\n",
       "      <th>14624</th>\n",
       "      <td>21</td>\n",
       "      <td>25</td>\n",
       "      <td>112.579633</td>\n",
       "      <td>158.753352</td>\n",
       "      <td>158.203332</td>\n",
       "      <td>138.954049</td>\n",
       "      <td>225.321703</td>\n",
       "      <td>158.995270</td>\n",
       "      <td>159.852509</td>\n",
       "      <td>141.311186</td>\n",
       "      <td>156.041313</td>\n",
       "      <td>108.0</td>\n",
       "    </tr>\n",
       "    <tr>\n",
       "      <th>...</th>\n",
       "      <td>...</td>\n",
       "      <td>...</td>\n",
       "      <td>...</td>\n",
       "      <td>...</td>\n",
       "      <td>...</td>\n",
       "      <td>...</td>\n",
       "      <td>...</td>\n",
       "      <td>...</td>\n",
       "      <td>...</td>\n",
       "      <td>...</td>\n",
       "      <td>...</td>\n",
       "      <td>...</td>\n",
       "    </tr>\n",
       "    <tr>\n",
       "      <th>259178</th>\n",
       "      <td>0</td>\n",
       "      <td>0</td>\n",
       "      <td>199.489805</td>\n",
       "      <td>155.773562</td>\n",
       "      <td>159.141817</td>\n",
       "      <td>123.115929</td>\n",
       "      <td>96.370483</td>\n",
       "      <td>96.370483</td>\n",
       "      <td>159.852509</td>\n",
       "      <td>141.311186</td>\n",
       "      <td>156.041313</td>\n",
       "      <td>93.0</td>\n",
       "    </tr>\n",
       "    <tr>\n",
       "      <th>365838</th>\n",
       "      <td>31</td>\n",
       "      <td>78</td>\n",
       "      <td>156.135104</td>\n",
       "      <td>161.089841</td>\n",
       "      <td>159.141817</td>\n",
       "      <td>189.519899</td>\n",
       "      <td>225.321703</td>\n",
       "      <td>198.033458</td>\n",
       "      <td>157.759659</td>\n",
       "      <td>243.636854</td>\n",
       "      <td>156.041313</td>\n",
       "      <td>171.0</td>\n",
       "    </tr>\n",
       "    <tr>\n",
       "      <th>131932</th>\n",
       "      <td>20</td>\n",
       "      <td>7</td>\n",
       "      <td>156.135104</td>\n",
       "      <td>161.539876</td>\n",
       "      <td>159.141817</td>\n",
       "      <td>106.595150</td>\n",
       "      <td>150.950896</td>\n",
       "      <td>77.522402</td>\n",
       "      <td>157.759659</td>\n",
       "      <td>141.311186</td>\n",
       "      <td>156.041313</td>\n",
       "      <td>76.0</td>\n",
       "    </tr>\n",
       "    <tr>\n",
       "      <th>146867</th>\n",
       "      <td>17</td>\n",
       "      <td>0</td>\n",
       "      <td>149.131076</td>\n",
       "      <td>162.023432</td>\n",
       "      <td>159.141817</td>\n",
       "      <td>120.657963</td>\n",
       "      <td>96.370483</td>\n",
       "      <td>96.370483</td>\n",
       "      <td>157.759659</td>\n",
       "      <td>141.311186</td>\n",
       "      <td>156.041313</td>\n",
       "      <td>102.0</td>\n",
       "    </tr>\n",
       "    <tr>\n",
       "      <th>121958</th>\n",
       "      <td>39</td>\n",
       "      <td>202</td>\n",
       "      <td>140.337542</td>\n",
       "      <td>168.087396</td>\n",
       "      <td>158.203332</td>\n",
       "      <td>231.509135</td>\n",
       "      <td>188.957295</td>\n",
       "      <td>294.467693</td>\n",
       "      <td>159.852509</td>\n",
       "      <td>243.636854</td>\n",
       "      <td>156.041313</td>\n",
       "      <td>216.0</td>\n",
       "    </tr>\n",
       "  </tbody>\n",
       "</table>\n",
       "<p>371572 rows × 12 columns</p>\n",
       "</div>"
      ],
      "text/plain": [
       "        date  stock        city    language      mobile    hotel_id  \\\n",
       "180999    41     92  112.579633  156.952975  159.141817  103.567833   \n",
       "375785    10      4  149.131076  154.134707  159.141817  137.684990   \n",
       "292699    14     15  156.135104  164.186038  159.141817  168.085851   \n",
       "379417     5      5  140.337542  161.028454  158.203332  240.184242   \n",
       "14624     21     25  112.579633  158.753352  158.203332  138.954049   \n",
       "...      ...    ...         ...         ...         ...         ...   \n",
       "259178     0      0  199.489805  155.773562  159.141817  123.115929   \n",
       "365838    31     78  156.135104  161.089841  159.141817  189.519899   \n",
       "131932    20      7  156.135104  161.539876  159.141817  106.595150   \n",
       "146867    17      0  149.131076  162.023432  159.141817  120.657963   \n",
       "121958    39    202  140.337542  168.087396  158.203332  231.509135   \n",
       "\n",
       "             group       brand     parking        pool children_policy  price  \n",
       "180999   96.370483   96.370483  159.852509  141.311186      156.041313   57.0  \n",
       "375785  134.879991  123.672497  157.759659  141.311186      156.041313  123.0  \n",
       "292699  188.957295  199.226930  159.852509  141.311186      156.041313  199.0  \n",
       "379417  188.957295  294.467693  157.759659  243.636854      156.041313  364.0  \n",
       "14624   225.321703  158.995270  159.852509  141.311186      156.041313  108.0  \n",
       "...            ...         ...         ...         ...             ...    ...  \n",
       "259178   96.370483   96.370483  159.852509  141.311186      156.041313   93.0  \n",
       "365838  225.321703  198.033458  157.759659  243.636854      156.041313  171.0  \n",
       "131932  150.950896   77.522402  157.759659  141.311186      156.041313   76.0  \n",
       "146867   96.370483   96.370483  157.759659  141.311186      156.041313  102.0  \n",
       "121958  188.957295  294.467693  159.852509  243.636854      156.041313  216.0  \n",
       "\n",
       "[371572 rows x 12 columns]"
      ]
     },
     "execution_count": 27,
     "metadata": {},
     "output_type": "execute_result"
    }
   ],
   "source": [
    "dataT"
   ]
  },
  {
   "cell_type": "code",
   "execution_count": 28,
   "id": "00afd900",
   "metadata": {},
   "outputs": [
    {
     "data": {
      "text/html": [
       "<div>\n",
       "<style scoped>\n",
       "    .dataframe tbody tr th:only-of-type {\n",
       "        vertical-align: middle;\n",
       "    }\n",
       "\n",
       "    .dataframe tbody tr th {\n",
       "        vertical-align: top;\n",
       "    }\n",
       "\n",
       "    .dataframe thead th {\n",
       "        text-align: right;\n",
       "    }\n",
       "</style>\n",
       "<table border=\"1\" class=\"dataframe\">\n",
       "  <thead>\n",
       "    <tr style=\"text-align: right;\">\n",
       "      <th></th>\n",
       "      <th>date</th>\n",
       "      <th>stock</th>\n",
       "      <th>city</th>\n",
       "      <th>language</th>\n",
       "      <th>mobile</th>\n",
       "      <th>hotel_id</th>\n",
       "      <th>group</th>\n",
       "      <th>brand</th>\n",
       "      <th>parking</th>\n",
       "      <th>pool</th>\n",
       "      <th>children_policy</th>\n",
       "    </tr>\n",
       "  </thead>\n",
       "  <tbody>\n",
       "    <tr>\n",
       "      <th>180999</th>\n",
       "      <td>41</td>\n",
       "      <td>92</td>\n",
       "      <td>112.579633</td>\n",
       "      <td>156.952975</td>\n",
       "      <td>159.141817</td>\n",
       "      <td>103.567833</td>\n",
       "      <td>96.370483</td>\n",
       "      <td>96.370483</td>\n",
       "      <td>159.852509</td>\n",
       "      <td>141.311186</td>\n",
       "      <td>156.041313</td>\n",
       "    </tr>\n",
       "    <tr>\n",
       "      <th>375785</th>\n",
       "      <td>10</td>\n",
       "      <td>4</td>\n",
       "      <td>149.131076</td>\n",
       "      <td>154.134707</td>\n",
       "      <td>159.141817</td>\n",
       "      <td>137.684990</td>\n",
       "      <td>134.879991</td>\n",
       "      <td>123.672497</td>\n",
       "      <td>157.759659</td>\n",
       "      <td>141.311186</td>\n",
       "      <td>156.041313</td>\n",
       "    </tr>\n",
       "    <tr>\n",
       "      <th>292699</th>\n",
       "      <td>14</td>\n",
       "      <td>15</td>\n",
       "      <td>156.135104</td>\n",
       "      <td>164.186038</td>\n",
       "      <td>159.141817</td>\n",
       "      <td>168.085851</td>\n",
       "      <td>188.957295</td>\n",
       "      <td>199.226930</td>\n",
       "      <td>159.852509</td>\n",
       "      <td>141.311186</td>\n",
       "      <td>156.041313</td>\n",
       "    </tr>\n",
       "    <tr>\n",
       "      <th>379417</th>\n",
       "      <td>5</td>\n",
       "      <td>5</td>\n",
       "      <td>140.337542</td>\n",
       "      <td>161.028454</td>\n",
       "      <td>158.203332</td>\n",
       "      <td>240.184242</td>\n",
       "      <td>188.957295</td>\n",
       "      <td>294.467693</td>\n",
       "      <td>157.759659</td>\n",
       "      <td>243.636854</td>\n",
       "      <td>156.041313</td>\n",
       "    </tr>\n",
       "    <tr>\n",
       "      <th>14624</th>\n",
       "      <td>21</td>\n",
       "      <td>25</td>\n",
       "      <td>112.579633</td>\n",
       "      <td>158.753352</td>\n",
       "      <td>158.203332</td>\n",
       "      <td>138.954049</td>\n",
       "      <td>225.321703</td>\n",
       "      <td>158.995270</td>\n",
       "      <td>159.852509</td>\n",
       "      <td>141.311186</td>\n",
       "      <td>156.041313</td>\n",
       "    </tr>\n",
       "    <tr>\n",
       "      <th>...</th>\n",
       "      <td>...</td>\n",
       "      <td>...</td>\n",
       "      <td>...</td>\n",
       "      <td>...</td>\n",
       "      <td>...</td>\n",
       "      <td>...</td>\n",
       "      <td>...</td>\n",
       "      <td>...</td>\n",
       "      <td>...</td>\n",
       "      <td>...</td>\n",
       "      <td>...</td>\n",
       "    </tr>\n",
       "    <tr>\n",
       "      <th>259178</th>\n",
       "      <td>0</td>\n",
       "      <td>0</td>\n",
       "      <td>199.489805</td>\n",
       "      <td>155.773562</td>\n",
       "      <td>159.141817</td>\n",
       "      <td>123.115929</td>\n",
       "      <td>96.370483</td>\n",
       "      <td>96.370483</td>\n",
       "      <td>159.852509</td>\n",
       "      <td>141.311186</td>\n",
       "      <td>156.041313</td>\n",
       "    </tr>\n",
       "    <tr>\n",
       "      <th>365838</th>\n",
       "      <td>31</td>\n",
       "      <td>78</td>\n",
       "      <td>156.135104</td>\n",
       "      <td>161.089841</td>\n",
       "      <td>159.141817</td>\n",
       "      <td>189.519899</td>\n",
       "      <td>225.321703</td>\n",
       "      <td>198.033458</td>\n",
       "      <td>157.759659</td>\n",
       "      <td>243.636854</td>\n",
       "      <td>156.041313</td>\n",
       "    </tr>\n",
       "    <tr>\n",
       "      <th>131932</th>\n",
       "      <td>20</td>\n",
       "      <td>7</td>\n",
       "      <td>156.135104</td>\n",
       "      <td>161.539876</td>\n",
       "      <td>159.141817</td>\n",
       "      <td>106.595150</td>\n",
       "      <td>150.950896</td>\n",
       "      <td>77.522402</td>\n",
       "      <td>157.759659</td>\n",
       "      <td>141.311186</td>\n",
       "      <td>156.041313</td>\n",
       "    </tr>\n",
       "    <tr>\n",
       "      <th>146867</th>\n",
       "      <td>17</td>\n",
       "      <td>0</td>\n",
       "      <td>149.131076</td>\n",
       "      <td>162.023432</td>\n",
       "      <td>159.141817</td>\n",
       "      <td>120.657963</td>\n",
       "      <td>96.370483</td>\n",
       "      <td>96.370483</td>\n",
       "      <td>157.759659</td>\n",
       "      <td>141.311186</td>\n",
       "      <td>156.041313</td>\n",
       "    </tr>\n",
       "    <tr>\n",
       "      <th>121958</th>\n",
       "      <td>39</td>\n",
       "      <td>202</td>\n",
       "      <td>140.337542</td>\n",
       "      <td>168.087396</td>\n",
       "      <td>158.203332</td>\n",
       "      <td>231.509135</td>\n",
       "      <td>188.957295</td>\n",
       "      <td>294.467693</td>\n",
       "      <td>159.852509</td>\n",
       "      <td>243.636854</td>\n",
       "      <td>156.041313</td>\n",
       "    </tr>\n",
       "  </tbody>\n",
       "</table>\n",
       "<p>371572 rows × 11 columns</p>\n",
       "</div>"
      ],
      "text/plain": [
       "        date  stock        city    language      mobile    hotel_id  \\\n",
       "180999    41     92  112.579633  156.952975  159.141817  103.567833   \n",
       "375785    10      4  149.131076  154.134707  159.141817  137.684990   \n",
       "292699    14     15  156.135104  164.186038  159.141817  168.085851   \n",
       "379417     5      5  140.337542  161.028454  158.203332  240.184242   \n",
       "14624     21     25  112.579633  158.753352  158.203332  138.954049   \n",
       "...      ...    ...         ...         ...         ...         ...   \n",
       "259178     0      0  199.489805  155.773562  159.141817  123.115929   \n",
       "365838    31     78  156.135104  161.089841  159.141817  189.519899   \n",
       "131932    20      7  156.135104  161.539876  159.141817  106.595150   \n",
       "146867    17      0  149.131076  162.023432  159.141817  120.657963   \n",
       "121958    39    202  140.337542  168.087396  158.203332  231.509135   \n",
       "\n",
       "             group       brand     parking        pool children_policy  \n",
       "180999   96.370483   96.370483  159.852509  141.311186      156.041313  \n",
       "375785  134.879991  123.672497  157.759659  141.311186      156.041313  \n",
       "292699  188.957295  199.226930  159.852509  141.311186      156.041313  \n",
       "379417  188.957295  294.467693  157.759659  243.636854      156.041313  \n",
       "14624   225.321703  158.995270  159.852509  141.311186      156.041313  \n",
       "...            ...         ...         ...         ...             ...  \n",
       "259178   96.370483   96.370483  159.852509  141.311186      156.041313  \n",
       "365838  225.321703  198.033458  157.759659  243.636854      156.041313  \n",
       "131932  150.950896   77.522402  157.759659  141.311186      156.041313  \n",
       "146867   96.370483   96.370483  157.759659  141.311186      156.041313  \n",
       "121958  188.957295  294.467693  159.852509  243.636854      156.041313  \n",
       "\n",
       "[371572 rows x 11 columns]"
      ]
     },
     "execution_count": 28,
     "metadata": {},
     "output_type": "execute_result"
    }
   ],
   "source": [
    "XT_train=dataT.drop(columns=[\"price\"])\n",
    "XT_train"
   ]
  },
  {
   "cell_type": "code",
   "execution_count": null,
   "id": "G8_N5_PuSl93",
   "metadata": {
    "id": "G8_N5_PuSl93"
   },
   "outputs": [],
   "source": []
  },
  {
   "cell_type": "code",
   "execution_count": 36,
   "id": "2eb87c00",
   "metadata": {},
   "outputs": [],
   "source": [
    "listlanguage = ['austrian', 'belgian', 'bulgarian', 'croatian', 'cypriot', 'czech', 'danish', 'dutch', 'estonian', 'finnish',\n",
    "            'french', 'german', 'greek', 'hungarian', 'irish', 'italian', 'latvian', 'lithuanian', 'luxembourgish', \n",
    "            'maltese', 'polish', 'portuguese', 'romanian', 'slovakian', 'slovene', 'spanish','swedish']\n",
    "listcity = ['amsterdam', 'copenhagen', 'madrid', 'paris', 'rome', 'sofia', 'valletta', 'vienna', 'vilnius']\n",
    "listmobile = ['0','1']\n",
    "\n",
    "listhotel_id = np.arange(0,999,1)\n",
    "listgroup = ['Independant','Accar Hotels','Yin Yang','Boss Western','Morriott International','Chillton Worldwide']\n",
    "listbrand = ['Independant','Boss Western','J.Halliday Inn','Royal Lotus','Safitel','Corlton','Ardisson','Marcure',\n",
    "         '8 Premium','Morriot','Tripletree','Quadrupletree','Ibas','Chill Garden Inn','Navatel','CourtYord']\n",
    "listparking = ['0','1']\n",
    "listpool = ['0','1']\n",
    "listchildren_policy = ['0','1','2']"
   ]
  },
  {
   "cell_type": "markdown",
   "id": "a0556ba9",
   "metadata": {},
   "source": [
    "#### IDEE :\n",
    "pour chq liste, créer un vecteur(dataframe?) de même taille dans lequel on va mettre la valeur de la moyenne qui correspond à la modalité et qui a été calculée par la fonction target.\n",
    "\n",
    "exemple : pour listlanguage on crée le tableau targetlangage. la 1re case sera la moyenne qui correspond à l'austrian. pour obtenir cette moyenne, il faut parcourir la colonne du X_train'language' et dès qu'on tombe sur 'austrian', on prend la valeur du XT_train'language' qui correspond : ce sera la même colonne et la même ligne car XT_train est une transformation du X_train. une fois qu'on est tombé sur un 'austrian', on récupère la moyenne et on arrête de parcourir la colonne. On refait pareil pour chq language.\n",
    "\n",
    "du coup une fois qu'on a ce vecteur(dataframe?), on a l'association des modalités et des moyennes. On peut alors prendre notre X_test, le copier en XT_test et remplacer les colonnes catégorielles par les moyennes en regardant dans le tableau des moyennes à quoi ça correspond.\n",
    "\n",
    "exemple : pour XT_test colonne language, si on tombe sur 'austrian', on regarde dans le tableau et on prend la moyenne qui correspond.\n",
    "\n",
    "Et il faudra aussi faire cette transformation pour le fichier test du Defi."
   ]
  },
  {
   "cell_type": "code",
   "execution_count": null,
   "id": "911c6bb5",
   "metadata": {},
   "outputs": [],
   "source": []
  },
  {
   "cell_type": "code",
   "execution_count": 37,
   "id": "b4120eee",
   "metadata": {},
   "outputs": [
    {
     "data": {
      "text/plain": [
       "array([0., 0., 0., 0., 0., 0., 0., 0., 0., 0., 0., 0., 0., 0., 0., 0., 0.,\n",
       "       0., 0., 0., 0., 0., 0., 0., 0., 0., 0.])"
      ]
     },
     "execution_count": 37,
     "metadata": {},
     "output_type": "execute_result"
    }
   ],
   "source": [
    "targetlanguage = np.zeros(len(listlanguage))\n",
    "targetlanguage"
   ]
  },
  {
   "cell_type": "code",
   "execution_count": null,
   "id": "b49bfbc2",
   "metadata": {},
   "outputs": [],
   "source": [
    "x = np.ravel(X_train[['city']])\n",
    "xT = np.ravel(XT_train[['city']])\n",
    "for i in range(len(x)):\n",
    "#???"
   ]
  },
  {
   "cell_type": "code",
   "execution_count": null,
   "id": "27d84a60",
   "metadata": {},
   "outputs": [],
   "source": []
  },
  {
   "cell_type": "code",
   "execution_count": null,
   "id": "1ca35444",
   "metadata": {},
   "outputs": [],
   "source": []
  },
  {
   "cell_type": "markdown",
   "id": "q-3DfiDQW1ZW",
   "metadata": {
    "id": "q-3DfiDQW1ZW"
   },
   "source": [
    "## APPRENTISSAGE DE MODELE"
   ]
  },
  {
   "cell_type": "code",
   "execution_count": null,
   "id": "14bbc234",
   "metadata": {},
   "outputs": [],
   "source": [
    "y_train = np.ravel(y_train)\n",
    "y_test = np.ravel(y_test)"
   ]
  },
  {
   "cell_type": "code",
   "execution_count": null,
   "id": "3d09ae48",
   "metadata": {
    "id": "3d09ae48"
   },
   "outputs": [],
   "source": [
    "pip = Pipeline(steps=[(\"Standard_scaler\", StandardScaler()),\n",
    "                      (\"Boosting\", XGBRegressor(n_estimators=3000,max_depth=10)),\n",
    "                      ]\n",
    "               )"
   ]
  },
  {
   "cell_type": "code",
   "execution_count": null,
   "id": "w2HZuEjKQkrR",
   "metadata": {
    "colab": {
     "base_uri": "https://localhost:8080/"
    },
    "id": "w2HZuEjKQkrR",
    "outputId": "3c235d8e-cbd8-4abe-b187-92f28cdf4472"
   },
   "outputs": [],
   "source": [
    "pip"
   ]
  },
  {
   "cell_type": "code",
   "execution_count": null,
   "id": "vJws6c9fMk28",
   "metadata": {
    "id": "vJws6c9fMk28"
   },
   "outputs": [],
   "source": []
  },
  {
   "cell_type": "markdown",
   "id": "TBuv9h7Wx7QS",
   "metadata": {
    "id": "TBuv9h7Wx7QS"
   },
   "source": [
    "### A EXECUTER SI PAS DE GRIDSEARCH"
   ]
  },
  {
   "cell_type": "code",
   "execution_count": null,
   "id": "X3slgddBKvel",
   "metadata": {
    "colab": {
     "base_uri": "https://localhost:8080/"
    },
    "id": "X3slgddBKvel",
    "outputId": "bfd0292a-95ac-499d-a6a5-cbb428f0034b"
   },
   "outputs": [],
   "source": [
    "pip.fit(X_train, y_train)"
   ]
  },
  {
   "cell_type": "code",
   "execution_count": null,
   "id": "T54i_pIRdnjd",
   "metadata": {
    "colab": {
     "base_uri": "https://localhost:8080/"
    },
    "id": "T54i_pIRdnjd",
    "outputId": "12f91c71-a339-4c53-f8eb-0c8ade830a1a"
   },
   "outputs": [],
   "source": [
    "print(f\"pip score: {pip.score(X_test, y_test):.2f}\")"
   ]
  },
  {
   "cell_type": "code",
   "execution_count": null,
   "id": "OOIzNvP3zqzM",
   "metadata": {
    "id": "OOIzNvP3zqzM"
   },
   "outputs": [],
   "source": [
    "### CROSS VAL SCORE?"
   ]
  },
  {
   "cell_type": "markdown",
   "id": "10j6LZKhyK-s",
   "metadata": {
    "id": "10j6LZKhyK-s"
   },
   "source": [
    "### A EXECUTER SI GRIDSEARCH"
   ]
  },
  {
   "cell_type": "code",
   "execution_count": null,
   "id": "QdmCBiMNIVHH",
   "metadata": {
    "id": "QdmCBiMNIVHH"
   },
   "outputs": [],
   "source": [
    "# param_grid pour le GradientBoosting\n",
    "\n",
    "# n_estimators + grand? 100 D\n",
    "# max_features?\n",
    "# max_depth? 3 D\n",
    "\n",
    "#Best params:\n",
    "#{'Boosting__n_estimators': ..., 'Boosting__max_depth': ...}\n",
    "\n",
    "#param_grid = {\n",
    "#    \"Boosting__n_estimators\":[100,300,500],\n",
    "#    #\"Boosting__max_features\":[1.,0.5,0.2],\n",
    "#    \"Boosting__max_depth\":[7,10,13],\n",
    "#}"
   ]
  },
  {
   "cell_type": "code",
   "execution_count": null,
   "id": "aKkD0T_mba8T",
   "metadata": {
    "id": "aKkD0T_mba8T"
   },
   "outputs": [],
   "source": [
    "# param_grid pour le HistGradientBoosting\n",
    "\n",
    "# learning_rate? 0.1 D\n",
    "# max_iter? 100 D\n",
    "# max_leaf_nodes? 31 D\n",
    "# max_depth? no D\n",
    "\n",
    "#Best params:\n",
    "#{'Boosting__max_depth': 10, 'Boosting__max_iter': 3000} ???\n",
    "#{'Boosting__max_depth': 13, 'Boosting__max_iter': 5000} ???\n",
    "\n",
    "param_grid = {\n",
    "#    #\"Boosting__learning_rate\": (0.01, 0.1, 1, 10),\n",
    "    \"Boosting__max_iter\":[1000, 3000, 5000],\n",
    "#    #\"Boosting__max_leaf_nodes\": [30, 50, 70],\n",
    "    \"Boosting__max_depth\": [7, 10, 13],\n",
    "    }"
   ]
  },
  {
   "cell_type": "code",
   "execution_count": null,
   "id": "7nRNN1UWc0g9",
   "metadata": {
    "colab": {
     "base_uri": "https://localhost:8080/"
    },
    "id": "7nRNN1UWc0g9",
    "outputId": "8c7f510f-2add-4578-ebcc-a2cd824e366f"
   },
   "outputs": [],
   "source": [
    "# cv? 5 D\n",
    "grid_search = GridSearchCV(pip, param_grid, cv=5, n_jobs=-1)\n",
    "grid_search"
   ]
  },
  {
   "cell_type": "code",
   "execution_count": null,
   "id": "3bDtug9lc_kP",
   "metadata": {
    "colab": {
     "base_uri": "https://localhost:8080/"
    },
    "id": "3bDtug9lc_kP",
    "outputId": "2c754db1-5ea8-4ef8-affd-249737624af5"
   },
   "outputs": [],
   "source": [
    "grid_search.fit(X_train, y_train)"
   ]
  },
  {
   "cell_type": "code",
   "execution_count": null,
   "id": "14XWTBC6dCDf",
   "metadata": {
    "colab": {
     "base_uri": "https://localhost:8080/"
    },
    "id": "14XWTBC6dCDf",
    "outputId": "9774b660-46a0-408a-8cb6-d185a0752f5c"
   },
   "outputs": [],
   "source": [
    "print(\"Best params:\")\n",
    "print(grid_search.best_params_)"
   ]
  },
  {
   "cell_type": "code",
   "execution_count": null,
   "id": "rQajMEZwdJBI",
   "metadata": {
    "colab": {
     "base_uri": "https://localhost:8080/"
    },
    "id": "rQajMEZwdJBI",
    "outputId": "3cb93070-40ff-46d1-d49a-f8a40be42599"
   },
   "outputs": [],
   "source": [
    "print(f\"Internal CV score: {grid_search.best_score_:.3f}\")"
   ]
  },
  {
   "cell_type": "code",
   "execution_count": null,
   "id": "SnRPQmocdckC",
   "metadata": {
    "colab": {
     "base_uri": "https://localhost:8080/"
    },
    "id": "SnRPQmocdckC",
    "outputId": "8cbbac62-24e9-407e-8a6c-7d179f10cee8"
   },
   "outputs": [],
   "source": [
    "print(f\"GridSearch score: {grid_search.score(X_test, y_test):.3f}\")"
   ]
  },
  {
   "cell_type": "code",
   "execution_count": null,
   "id": "P2C79Jqe_wAH",
   "metadata": {
    "id": "P2C79Jqe_wAH"
   },
   "outputs": [],
   "source": []
  },
  {
   "cell_type": "markdown",
   "id": "IrXsnTwnyuSz",
   "metadata": {
    "id": "IrXsnTwnyuSz"
   },
   "source": [
    "## PLOT + MSE (pip/grid_search à choisir)"
   ]
  },
  {
   "cell_type": "code",
   "execution_count": null,
   "id": "5cJHterXLoLa",
   "metadata": {
    "colab": {
     "base_uri": "https://localhost:8080/",
     "height": 280
    },
    "id": "5cJHterXLoLa",
    "outputId": "f2841185-633a-45f2-a822-4e63b4a5a24b"
   },
   "outputs": [],
   "source": [
    "import matplotlib.pyplot as plt\n",
    "y_hat = pip.predict(X_test)\n",
    "#y_hat = grid_search.predict(X_test)\n",
    "\n",
    "plt.plot(y_hat,y_test,\"o\")\n",
    "plt.xlabel(u\"prix prédit\")\n",
    "plt.ylabel(u\"prix observé\")\n",
    "plt.show()"
   ]
  },
  {
   "cell_type": "code",
   "execution_count": null,
   "id": "JiQl6MpxLuDt",
   "metadata": {
    "colab": {
     "base_uri": "https://localhost:8080/",
     "height": 280
    },
    "id": "JiQl6MpxLuDt",
    "outputId": "2882a5f3-58bf-44a2-a685-b888220489cd"
   },
   "outputs": [],
   "source": [
    "plt.plot(y_hat,y_test-y_hat,\"o\")\n",
    "plt.xlabel(u\"prix prédits\")\n",
    "plt.ylabel(u\"résidus\")\n",
    "plt.hlines(0,0,500)\n",
    "plt.show()"
   ]
  },
  {
   "cell_type": "code",
   "execution_count": null,
   "id": "qiYLVPw-L6f-",
   "metadata": {
    "colab": {
     "base_uri": "https://localhost:8080/"
    },
    "id": "qiYLVPw-L6f-",
    "outputId": "d77cb590-e493-4549-91bc-bfc679a31714"
   },
   "outputs": [],
   "source": [
    "from sklearn.metrics import mean_squared_error\n",
    "print(\"RMSE=\",mean_squared_error(y_test,y_hat, squared=False))\n",
    "#RMSE = 6.14 pour Cat-Hist 10/3000\n",
    "#RMSE = 6.05 pour Cat-Hist 15/5000\n",
    "#RMSE = 5.89 pour Cat-Hist 20/10000\n",
    "#RMSE = 6.01 pour Cat-GB 10/300\n",
    "#RMSE = 5.43 pour Cat-GB 10/1000\n",
    "#RMSE = 1.35 pour M-GB 10/1000\n",
    "#RMSE = 1.35 pour T-GB 10/1000\n",
    "#RMSE = 1.17 pour T-GB 10/2000\n",
    "#RMSE = 1.16 pour T-GB 10/3000\n",
    "\n",
    "#12/12\n",
    "#RMSE = 1.17 pour T-GB 10/2000\n",
    "#RMSE = 1.49 pour T-GB-7 10/2000      \n",
    "#RMSE = 15.26 pour T-GB-6 10/2000 !!!\n",
    "\n",
    "#RMSE = 1.15 pour T-XGB-11 10/2000\n",
    "#RMSE = 1.45 pour T-XGB-7 10/2000\n",
    "#RMSE = 14.98 pour T-XGB-6 10/2000 !!!\n",
    "\n",
    "#RMSE = 2.01 pour O-XGB-12 10/3000\n",
    "#RMSE = 3.15 pour O-XGB-11 10/2000\n",
    "#RMSE = 2.09 pour O-XGB-11 10/3000\n",
    "#RMSE = 1.47 pour O-XGB-11 10/5000\n",
    "#RMSE = 3.43 pour O-XGB-7 10/2000"
   ]
  },
  {
   "cell_type": "code",
   "execution_count": null,
   "id": "9M_rtbK0L__B",
   "metadata": {
    "colab": {
     "base_uri": "https://localhost:8080/"
    },
    "id": "9M_rtbK0L__B",
    "outputId": "a7d0a2f3-2a6c-4ab6-c23f-12d3a96ce90c"
   },
   "outputs": [],
   "source": [
    "from sklearn.metrics import r2_score\n",
    "print(\"R2=\",r2_score(y_test,y_hat))"
   ]
  },
  {
   "cell_type": "code",
   "execution_count": null,
   "id": "bFcn61-hUmHf",
   "metadata": {
    "id": "bFcn61-hUmHf"
   },
   "outputs": [],
   "source": []
  },
  {
   "cell_type": "markdown",
   "id": "ZpKineJ5zP0S",
   "metadata": {
    "id": "ZpKineJ5zP0S"
   },
   "source": [
    "### POUR ENREGISTRER LE MODELE (pip/grid_search à choisir)"
   ]
  },
  {
   "cell_type": "code",
   "execution_count": null,
   "id": "o0lszA_48Acj",
   "metadata": {
    "id": "o0lszA_48Acj"
   },
   "outputs": [],
   "source": [
    "#from joblib import dump, load\n",
    "#dump(pip, 'XGB_model_saved.joblib')\n",
    "#pip_loaded = load('XGB_model_saved.joblib')"
   ]
  },
  {
   "cell_type": "code",
   "execution_count": null,
   "id": "EVtWF1KOzfu8",
   "metadata": {
    "id": "EVtWF1KOzfu8"
   },
   "outputs": [],
   "source": []
  },
  {
   "cell_type": "markdown",
   "id": "fsPaf-YeNkiT",
   "metadata": {
    "id": "fsPaf-YeNkiT"
   },
   "source": [
    "## TEST DU MODELE SUR LE FICHIER DEFI"
   ]
  },
  {
   "cell_type": "code",
   "execution_count": null,
   "id": "bJVuPKHDIe8J",
   "metadata": {
    "id": "bJVuPKHDIe8J"
   },
   "outputs": [],
   "source": [
    "test = pd.read_csv('/content/gdrive/My Drive/Defi-IA/test_set3.csv')\n",
    "#test = pd.read_csv('./defi-ia-2023/test_set3.csv')"
   ]
  },
  {
   "cell_type": "code",
   "execution_count": null,
   "id": "u_lbvCNUIfj-",
   "metadata": {
    "id": "u_lbvCNUIfj-"
   },
   "outputs": [],
   "source": [
    "#On affecte le bon type aux variables qualitatives\n",
    "test[\"avatar_id\"]=pd.Categorical(test[\"avatar_id\"],ordered=False)\n",
    "test[\"city\"]=pd.Categorical(test[\"city\"],ordered=False)\n",
    "test[\"language\"]=pd.Categorical(test[\"language\"],ordered=False)\n",
    "test[\"mobile\"]=pd.Categorical(test[\"mobile\"],ordered=False)\n",
    "test[\"hotel_id\"]=pd.Categorical(test[\"hotel_id\"],ordered=False)\n",
    "test[\"group\"]=pd.Categorical(test[\"group\"],ordered=False)\n",
    "test[\"brand\"]=pd.Categorical(test[\"brand\"],ordered=False)\n",
    "test[\"parking\"]=pd.Categorical(test[\"parking\"],ordered=False)\n",
    "test[\"pool\"]=pd.Categorical(test[\"pool\"],ordered=False)\n",
    "test[\"children_policy\"]=pd.Categorical(test[\"children_policy\"],ordered=False)"
   ]
  },
  {
   "cell_type": "code",
   "execution_count": null,
   "id": "87972985",
   "metadata": {
    "id": "87972985"
   },
   "outputs": [],
   "source": [
    "T = test[[\"nb_requete\",\"date\",\"stock\",\"city\",\"language\",\"mobile\",\"hotel_id\",\"group\",\"brand\",\"parking\",\"pool\",\"children_policy\"]]\n",
    "#T = test[[\"date\",\"stock\",\"city\",\"language\",\"mobile\",\"hotel_id\",\"group\",\"brand\",\"parking\",\"pool\",\"children_policy\"]]\n",
    "#T = test[[\"date\",\"stock\",\"city\",\"language\",\"hotel_id\",\"group\",\"brand\"]]"
   ]
  },
  {
   "cell_type": "markdown",
   "id": "YD6e5heM1ipr",
   "metadata": {
    "id": "YD6e5heM1ipr"
   },
   "source": [
    "#### PREDICTION (pip/grid_search à choisir)"
   ]
  },
  {
   "cell_type": "code",
   "execution_count": null,
   "id": "7WdAPYILJ59o",
   "metadata": {
    "id": "7WdAPYILJ59o"
   },
   "outputs": [],
   "source": [
    "Yprev=pip.predict(T)\n",
    "#Yprev=grid_search.predict(T)"
   ]
  },
  {
   "cell_type": "code",
   "execution_count": null,
   "id": "xOvdMj_VXrg8",
   "metadata": {
    "id": "xOvdMj_VXrg8"
   },
   "outputs": [],
   "source": [
    "Yprev0=np.around(Yprev, decimals=1)"
   ]
  },
  {
   "cell_type": "code",
   "execution_count": null,
   "id": "8oIwTFahXrus",
   "metadata": {
    "id": "8oIwTFahXrus"
   },
   "outputs": [],
   "source": [
    "Yindice=pd.DataFrame(np.arange(0,len(Yprev)),columns = ['index'])"
   ]
  },
  {
   "cell_type": "code",
   "execution_count": null,
   "id": "rvZ6W-HjYExY",
   "metadata": {
    "id": "rvZ6W-HjYExY"
   },
   "outputs": [],
   "source": [
    "Yprice=pd.DataFrame(Yprev0,columns = ['price'])\n",
    "#Yprice=pd.DataFrame(Yprev,columns = ['price'])\n",
    "Ysub=Yindice.join(Yprice, on=None, how='right', lsuffix='', rsuffix='', sort=False)"
   ]
  },
  {
   "cell_type": "code",
   "execution_count": null,
   "id": "tfBLl207k-JG",
   "metadata": {
    "id": "tfBLl207k-JG"
   },
   "outputs": [],
   "source": [
    "Ysub.to_csv('/content/gdrive/My Drive/Defi-IA/sample_submission77-O-XGB11-10-3000.csv', index= False)\n",
    "#Ysub.to_csv('./submission/sample_submissionXGB.csv', index= False)"
   ]
  },
  {
   "cell_type": "code",
   "execution_count": null,
   "id": "eyYH-RETk-_I",
   "metadata": {
    "id": "eyYH-RETk-_I"
   },
   "outputs": [],
   "source": []
  },
  {
   "cell_type": "markdown",
   "id": "6wxBkbDSznsE",
   "metadata": {
    "id": "6wxBkbDSznsE"
   },
   "source": [
    "#INTERPRETABILITE\n",
    "#### pip/grid_search à choisir"
   ]
  },
  {
   "cell_type": "code",
   "execution_count": null,
   "id": "WmHKJJKE2kwT",
   "metadata": {
    "colab": {
     "base_uri": "https://localhost:8080/"
    },
    "id": "WmHKJJKE2kwT",
    "outputId": "1f8834d5-4c0c-4e43-860a-39dbcdc39de7"
   },
   "outputs": [],
   "source": [
    "feature_names = X_test.columns\n",
    "feature_names"
   ]
  },
  {
   "cell_type": "code",
   "execution_count": null,
   "id": "0J0vdT8b32Sp",
   "metadata": {
    "id": "0J0vdT8b32Sp"
   },
   "outputs": [],
   "source": [
    "model_name = 'Pip'\n",
    "model = pip\n",
    "#model_name = 'Grid Search'\n",
    "#model = grid_search"
   ]
  },
  {
   "cell_type": "markdown",
   "id": "dE8UIzpo2sKV",
   "metadata": {
    "id": "dE8UIzpo2sKV"
   },
   "source": [
    "## Permutation Importance"
   ]
  },
  {
   "cell_type": "code",
   "execution_count": null,
   "id": "jeELeZCyzxhZ",
   "metadata": {
    "id": "jeELeZCyzxhZ"
   },
   "outputs": [],
   "source": [
    "!pip install eli5 > /dev/null 2>&1"
   ]
  },
  {
   "cell_type": "code",
   "execution_count": null,
   "id": "VVTKoWgM1zp5",
   "metadata": {
    "colab": {
     "base_uri": "https://localhost:8080/",
     "height": 531
    },
    "id": "VVTKoWgM1zp5",
    "outputId": "a8a5d307-472b-4381-aa0d-956a1771e49f"
   },
   "outputs": [],
   "source": [
    "import eli5\n",
    "from eli5.sklearn import PermutationImportance\n",
    "import matplotlib.pyplot as plt\n",
    "import seaborn as sns\n",
    "\n",
    "plt.figure()\n",
    "permutation_impor = PermutationImportance(model, random_state=0).fit(X_test, y_test)"
   ]
  },
  {
   "cell_type": "code",
   "execution_count": null,
   "id": "iPWH2sI-16jV",
   "metadata": {
    "id": "iPWH2sI-16jV"
   },
   "outputs": [],
   "source": [
    "features_importance"
   ]
  },
  {
   "cell_type": "code",
   "execution_count": null,
   "id": "0M4-u9i_2IF2",
   "metadata": {
    "id": "0M4-u9i_2IF2"
   },
   "outputs": [],
   "source": [
    "plt.figure()\n",
    "ax = sns.barplot(x=\"Importance\", y=\"Feature_name\", data=features_importance)\n",
    "plt.title(model_name)"
   ]
  },
  {
   "cell_type": "code",
   "execution_count": null,
   "id": "hu4Eql-X3Shk",
   "metadata": {
    "id": "hu4Eql-X3Shk"
   },
   "outputs": [],
   "source": []
  },
  {
   "cell_type": "markdown",
   "id": "_PreXcTz3pAu",
   "metadata": {
    "id": "_PreXcTz3pAu"
   },
   "source": [
    "## SHAP"
   ]
  },
  {
   "cell_type": "code",
   "execution_count": null,
   "id": "y5-VE6Bn3tXo",
   "metadata": {
    "id": "y5-VE6Bn3tXo"
   },
   "outputs": [],
   "source": [
    "!pip install shap > /dev/null 2>&1"
   ]
  },
  {
   "cell_type": "code",
   "execution_count": null,
   "id": "L7xndrRY3waM",
   "metadata": {
    "colab": {
     "base_uri": "https://localhost:8080/",
     "height": 384
    },
    "id": "L7xndrRY3waM",
    "outputId": "d3a96df5-8b39-4053-8afa-6264116c13b6"
   },
   "outputs": [],
   "source": [
    "import shap\n",
    "shap.initjs() #needed to plot results directly on the notebook\n",
    "\n",
    "idx = 1 # index of the instance we want to explain\n",
    "\n",
    "explainer = shap.KernelExplainer(model.predict, X_test)"
   ]
  },
  {
   "cell_type": "code",
   "execution_count": null,
   "id": "8xQ0X45x3wlm",
   "metadata": {
    "id": "8xQ0X45x3wlm"
   },
   "outputs": [],
   "source": [
    "shap_values = explainer.shap_values(X_test.iloc[0,:])\n",
    "shap.force_plot(explainer.expected_value, shap_values, X_test.iloc[0,:])\n",
    "#shap_values = explainer.shap_values(X_test.iloc[0:10,:]) #To speed up we just compute the shap values for 100 exemples\n",
    "#shap.summary_plot(shap_values, X_test.iloc[0:10,:])"
   ]
  },
  {
   "cell_type": "code",
   "execution_count": null,
   "id": "6t9-HM2H4-aL",
   "metadata": {
    "id": "6t9-HM2H4-aL"
   },
   "outputs": [],
   "source": []
  }
 ],
 "metadata": {
  "colab": {
   "collapsed_sections": [
    "10j6LZKhyK-s"
   ],
   "provenance": []
  },
  "gpuClass": "standard",
  "kernelspec": {
   "display_name": "Python 3 (ipykernel)",
   "language": "python",
   "name": "python3"
  },
  "language_info": {
   "codemirror_mode": {
    "name": "ipython",
    "version": 3
   },
   "file_extension": ".py",
   "mimetype": "text/x-python",
   "name": "python",
   "nbconvert_exporter": "python",
   "pygments_lexer": "ipython3",
   "version": "3.9.7"
  }
 },
 "nbformat": 4,
 "nbformat_minor": 5
}
