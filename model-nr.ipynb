{
 "cells": [
  {
   "cell_type": "markdown",
   "id": "bdbca498",
   "metadata": {},
   "source": [
    "# Script de modélisation"
   ]
  },
  {
   "cell_type": "markdown",
   "id": "a8a2eed8",
   "metadata": {},
   "source": [
    "## Prise en compte des données"
   ]
  },
  {
   "cell_type": "code",
   "execution_count": 1,
   "id": "e0f51aca",
   "metadata": {},
   "outputs": [],
   "source": [
    "import pandas as pd\n",
    "import numpy as np\n",
    "import panel as pn\n",
    "\n",
    "%matplotlib inline\n",
    "import matplotlib.pyplot as plt\n",
    "\n",
    "data = pd.read_csv('result_requetes.csv')\n",
    "#data.head()"
   ]
  },
  {
   "cell_type": "code",
   "execution_count": null,
   "id": "eed1db77",
   "metadata": {},
   "outputs": [],
   "source": [
    "#len(data)"
   ]
  },
  {
   "cell_type": "code",
   "execution_count": null,
   "id": "900f227e",
   "metadata": {},
   "outputs": [],
   "source": [
    "#data.dtypes"
   ]
  },
  {
   "cell_type": "code",
   "execution_count": 2,
   "id": "688c61d0",
   "metadata": {},
   "outputs": [],
   "source": [
    "#On affecte le bon type aux variables qualitatives\n",
    "data[\"city\"]=pd.Categorical(data[\"city\"],ordered=False)\n",
    "data[\"language\"]=pd.Categorical(data[\"language\"],ordered=False)\n",
    "data[\"group\"]=pd.Categorical(data[\"group\"],ordered=False)\n",
    "data[\"brand\"]=pd.Categorical(data[\"brand\"],ordered=False)\n",
    "\n",
    "data[\"mobile\"]=pd.Categorical(data[\"mobile\"],ordered=False)\n",
    "data[\"parking\"]=pd.Categorical(data[\"parking\"],ordered=False)\n",
    "data[\"pool\"]=pd.Categorical(data[\"pool\"],ordered=False)\n",
    "data[\"children_policy\"]=pd.Categorical(data[\"children_policy\"],ordered=False)\n",
    "\n",
    "data[\"hotel_id\"]=pd.Categorical(data[\"hotel_id\"],ordered=False)\n",
    "data[\"avatar_id\"]=pd.Categorical(data[\"avatar_id\"],ordered=False)\n",
    "\n",
    "data[\"price\"]=pd.DataFrame(data[\"price\"], dtype=float)\n",
    "\n",
    "#data.dtypes\n",
    "#data.head()"
   ]
  },
  {
   "cell_type": "markdown",
   "id": "af6748df",
   "metadata": {},
   "source": [
    "## Analyse de données -> Fichier analyse"
   ]
  },
  {
   "cell_type": "code",
   "execution_count": null,
   "id": "fd49b91e",
   "metadata": {},
   "outputs": [],
   "source": []
  },
  {
   "cell_type": "markdown",
   "id": "caedee66",
   "metadata": {},
   "source": [
    "## Extraction des échantillons d'apprentissage et de validation"
   ]
  },
  {
   "cell_type": "code",
   "execution_count": null,
   "id": "7e8c0c1c",
   "metadata": {},
   "outputs": [],
   "source": [
    "#data.head()"
   ]
  },
  {
   "cell_type": "markdown",
   "id": "e647037d",
   "metadata": {},
   "source": [
    "### Xtrain avec conversion des variables catégorielles en dummy/indicator variables\n",
    "\n",
    "Utilisation de OneHotEncoder au lieu de pd.get_dummies"
   ]
  },
  {
   "cell_type": "code",
   "execution_count": null,
   "id": "ec3bcbe8",
   "metadata": {},
   "outputs": [],
   "source": [
    "#from sklearn.preprocessing import StandardScaler\n",
    "#scaler = StandardScaler()  \n",
    "#scaler.fit(X_train)  \n",
    "#Xr_train = scaler.transform(X_train)  \n",
    "# Meme transformation sur le test\n",
    "#Xr_val = scaler.transform(X_val)"
   ]
  },
  {
   "cell_type": "code",
   "execution_count": 3,
   "id": "82e750b9",
   "metadata": {},
   "outputs": [
    {
     "data": {
      "text/plain": [
       "OneHotEncoder()"
      ]
     },
     "execution_count": 3,
     "metadata": {},
     "output_type": "execute_result"
    }
   ],
   "source": [
    "from sklearn.preprocessing import OneHotEncoder\n",
    "#avec l'hotel_id\n",
    "X=data[[\"city\",\"language\",\"mobile\",\"hotel_id\",\"group\",\"brand\",\"parking\",\"pool\",\"children_policy\"]]\n",
    "#sans l'hotel_id\n",
    "#X=data[[\"city\",\"language\",\"mobile\",\"group\",\"brand\",\"parking\",\"pool\",\"children_policy\"]]\n",
    "enc = OneHotEncoder()\n",
    "enc.fit(X)\n",
    "#enc.categories_"
   ]
  },
  {
   "cell_type": "code",
   "execution_count": 4,
   "id": "48a95188",
   "metadata": {},
   "outputs": [],
   "source": [
    "Xenc=enc.transform(X).toarray()\n",
    "#Xenc"
   ]
  },
  {
   "cell_type": "code",
   "execution_count": 5,
   "id": "e55b2986",
   "metadata": {},
   "outputs": [],
   "source": [
    "dataDum=pd.DataFrame(Xenc)\n",
    "#dataDum"
   ]
  },
  {
   "cell_type": "code",
   "execution_count": 6,
   "id": "bafad9e4",
   "metadata": {},
   "outputs": [],
   "source": [
    "dataQuant = data[[\"stock\",\"date\",\"nb_requete\"]]\n",
    "#dataDum = pd.get_dummies(data[[\"city\",\"language\",\"mobile\",\"hotel_id\",\"group\",\"brand\",\"parking\",\"pool\",\"children_policy\"]])\n",
    "dfC = pd.concat([dataQuant,dataDum],axis=1)\n",
    "#dfC.head()"
   ]
  },
  {
   "cell_type": "code",
   "execution_count": 7,
   "id": "b681eecb",
   "metadata": {},
   "outputs": [],
   "source": [
    "Y = data[[\"price\"]]\n",
    "#Y.head()"
   ]
  },
  {
   "cell_type": "code",
   "execution_count": null,
   "id": "b952ab1e",
   "metadata": {},
   "outputs": [],
   "source": [
    "#len(Xtrain)\n",
    "#dfC.shape"
   ]
  },
  {
   "cell_type": "code",
   "execution_count": null,
   "id": "0a9eb64c",
   "metadata": {},
   "outputs": [],
   "source": [
    "#len(Y)"
   ]
  },
  {
   "cell_type": "code",
   "execution_count": 8,
   "id": "5a0ef491",
   "metadata": {},
   "outputs": [],
   "source": [
    "from sklearn.model_selection import train_test_split  \n",
    "#test_size = échantillon test de taille ... parmi les ... observations (20 %)\n",
    "#longueur = int(0.2*len(Y))\n",
    "X_train,X_val,Y_train,Y_val=train_test_split(dfC,Y,test_size=0.2,random_state=11)"
   ]
  },
  {
   "cell_type": "code",
   "execution_count": null,
   "id": "9a7886ae",
   "metadata": {},
   "outputs": [],
   "source": [
    "#print(X_train.shape,len(Y_train))"
   ]
  },
  {
   "cell_type": "code",
   "execution_count": null,
   "id": "822854e4",
   "metadata": {},
   "outputs": [],
   "source": [
    "#X_train"
   ]
  },
  {
   "cell_type": "code",
   "execution_count": 9,
   "id": "fa209607",
   "metadata": {},
   "outputs": [],
   "source": [
    "Ytrain = np.ravel(Y_train)\n",
    "#Ytrain"
   ]
  },
  {
   "cell_type": "markdown",
   "id": "a447c463",
   "metadata": {},
   "source": [
    "### Standardisation des données?\n",
    "Inutile pour RandomForest / utile pour XGBoost?\n",
    "\n",
    "Si oui à faire sur l'échantillon test du Defi"
   ]
  },
  {
   "cell_type": "code",
   "execution_count": 12,
   "id": "012727fe",
   "metadata": {},
   "outputs": [],
   "source": [
    "from sklearn.preprocessing import StandardScaler\n",
    "scaler = StandardScaler()  \n",
    "scaler.fit(X_train)  \n",
    "Xr_train = scaler.transform(X_train)  \n",
    "# Meme transformation sur le test\n",
    "Xr_val = scaler.transform(X_val)"
   ]
  },
  {
   "cell_type": "markdown",
   "id": "d530b771",
   "metadata": {},
   "source": [
    "## Modélisation avec une forêt aléatoire"
   ]
  },
  {
   "cell_type": "code",
   "execution_count": null,
   "id": "49d5eafc",
   "metadata": {},
   "outputs": [],
   "source": [
    "#help(RandomForestRegressor)\n",
    "#help(forest.fit)"
   ]
  },
  {
   "cell_type": "markdown",
   "id": "4e250e04",
   "metadata": {},
   "source": [
    "Premier modèle avec 100 arbres dans la forêt"
   ]
  },
  {
   "cell_type": "code",
   "execution_count": 13,
   "id": "e19a03e4",
   "metadata": {},
   "outputs": [
    {
     "data": {
      "text/plain": [
       "0.9996947188940887"
      ]
     },
     "execution_count": 13,
     "metadata": {},
     "output_type": "execute_result"
    }
   ],
   "source": [
    "from sklearn.ensemble import RandomForestRegressor\n",
    "# définition des paramètres\n",
    "forest = RandomForestRegressor(n_estimators=100, \n",
    "   #criterion='mse', max_depth=None,\n",
    "   #min_samples_split=2, min_samples_leaf=1, \n",
    "   #max_features='auto', max_leaf_nodes=None,\n",
    "   bootstrap=True, oob_score=True)\n",
    "# apprentissage\n",
    "rfFit = forest.fit(Xr_train,Ytrain)\n",
    "forest.score(Xr_train,Ytrain)"
   ]
  },
  {
   "cell_type": "code",
   "execution_count": 14,
   "id": "3ffb9d78",
   "metadata": {},
   "outputs": [
    {
     "data": {
      "text/plain": [
       "0.9979701105068837"
      ]
     },
     "execution_count": 14,
     "metadata": {},
     "output_type": "execute_result"
    }
   ],
   "source": [
    "forest.score(Xr_val,Y_val)"
   ]
  },
  {
   "cell_type": "markdown",
   "id": "2dd158aa",
   "metadata": {},
   "source": [
    "MSE et R2 score sur l'échantillon de validation :"
   ]
  },
  {
   "cell_type": "code",
   "execution_count": null,
   "id": "00c05e53",
   "metadata": {},
   "outputs": [],
   "source": [
    "#from sklearn.metrics import mean_squared_error\n",
    "#from sklearn.metrics import r2_score\n",
    "#prev=rfFit.predict(X_val)\n",
    "#print(\"MSE=\",mean_squared_error(Y_val,prev))\n",
    "#print(\"R2=\",r2_score(Y_val,prev))"
   ]
  },
  {
   "cell_type": "markdown",
   "id": "527624d8",
   "metadata": {},
   "source": [
    "Comparaison graphique entre prix prédit par le modèle et prix exact"
   ]
  },
  {
   "cell_type": "code",
   "execution_count": 15,
   "id": "b112ff02",
   "metadata": {},
   "outputs": [
    {
     "data": {
      "image/png": "[encoded data removed]",
      "text/plain": [
       "<Figure size 432x288 with 1 Axes>"
      ]
     },
     "metadata": {
      "needs_background": "light"
     },
     "output_type": "display_data"
    }
   ],
   "source": [
    "prev=rfFit.predict(Xr_val)\n",
    "plt.plot(prev,Y_val,\"o\")\n",
    "plt.xlabel(u\"prix prédit\")\n",
    "plt.ylabel(u\"prix exact\")\n",
    "plt.show()"
   ]
  },
  {
   "cell_type": "markdown",
   "id": "2b77cc31",
   "metadata": {},
   "source": [
    "Graphique des résidus entre prix prédit par le modèle et prix exact"
   ]
  },
  {
   "cell_type": "code",
   "execution_count": 16,
   "id": "8a36c9c6",
   "metadata": {},
   "outputs": [
    {
     "data": {
      "image/png": "[encoded data removed]",
      "text/plain": [
       "<Figure size 432x288 with 1 Axes>"
      ]
     },
     "metadata": {
      "needs_background": "light"
     },
     "output_type": "display_data"
    }
   ],
   "source": [
    "plt.plot(prev,np.ravel(Y_val) - prev,\"o\")\n",
    "plt.xlabel(u\"prix prédit\")\n",
    "plt.ylabel(u\"résidus\")\n",
    "plt.hlines(0,0,500)\n",
    "plt.show()"
   ]
  },
  {
   "cell_type": "markdown",
   "id": "38fbec67",
   "metadata": {},
   "source": [
    "Indices d'importance - difficile à interpréter ici"
   ]
  },
  {
   "cell_type": "code",
   "execution_count": null,
   "id": "29e748a4",
   "metadata": {},
   "outputs": [],
   "source": [
    "#rf= RandomForestRegressor(n_estimators=100,max_features=2)\n",
    "#rfFit=rf.fit(X_train, Ytrain)\n",
    "# Importance décroissante des variables\n",
    "#importances = rfFit.feature_importances_\n",
    "#indices = np.argsort(importances)[::-1]\n",
    "#for f in range(X_train.shape[1]):\n",
    "#    print(dfC.columns[indices[f]], importances[indices[f]])"
   ]
  },
  {
   "cell_type": "code",
   "execution_count": null,
   "id": "f2c13041",
   "metadata": {},
   "outputs": [],
   "source": [
    "# Graphe des importances\n",
    "#plt.figure()\n",
    "#plt.title(\"Importances des variables\")\n",
    "#plt.bar(range(X_train.shape[1]), importances[indices])\n",
    "#plt.xticks(range(X_train.shape[1]), indices)\n",
    "#plt.xlim([-1, X_train.shape[1]])\n",
    "#plt.show()"
   ]
  },
  {
   "cell_type": "markdown",
   "id": "6b9ac8ee",
   "metadata": {},
   "source": [
    "Optimisation par validation croisée du nombre d'arbres dans la forêts et du nombre de variables tirées aléatoirement lors de la construction de chaque noeud. RESULTAT MOINS BON ?!\n",
    "\n",
    "UTILISER DE LA VALIDATION CROISEE MC !!!"
   ]
  },
  {
   "cell_type": "code",
   "execution_count": null,
   "id": "9a5cf1c0",
   "metadata": {},
   "outputs": [],
   "source": [
    "from sklearn.ensemble import RandomForestRegressor\n",
    "from sklearn.model_selection import GridSearchCV\n",
    "param=[{\"n_estimators\":list(range(100,300,100)),\"max_features\":list(range(2,4,1))}]\n",
    "forestOpt = GridSearchCV(RandomForestRegressor(),\n",
    "        param,cv=5,n_jobs=-1)\n",
    "rfOpt=forestOpt.fit(Xr_train, Ytrain)\n",
    "print(\"Meilleur score = %f, Meilleur paramètre = %s\" % (rfOpt.best_score_,rfOpt.best_params_))"
   ]
  },
  {
   "cell_type": "code",
   "execution_count": null,
   "id": "f8e16ae8",
   "metadata": {},
   "outputs": [],
   "source": [
    "forestOpt.score(Xr_train,Ytrain)"
   ]
  },
  {
   "cell_type": "code",
   "execution_count": null,
   "id": "b61a215d",
   "metadata": {},
   "outputs": [],
   "source": [
    "forestOpt.score(Xr_val,Y_val)"
   ]
  },
  {
   "cell_type": "code",
   "execution_count": null,
   "id": "33e6dbdd",
   "metadata": {},
   "outputs": [],
   "source": [
    "#from sklearn.metrics import mean_squared_error\n",
    "#from sklearn.metrics import r2_score\n",
    "#prev2=rfOpt.predict(X_val)\n",
    "#print(\"MSE=\",mean_squared_error(Y_val,prev))\n",
    "#print(\"R2=\",r2_score(Y_val,prev))"
   ]
  },
  {
   "cell_type": "code",
   "execution_count": null,
   "id": "c4f7be09",
   "metadata": {},
   "outputs": [],
   "source": [
    "prevOpt=rfOpt.predict(Xr_val)\n",
    "plt.plot(prevOpt,Y_val,\"o\")\n",
    "plt.xlabel(u\"prix prédit\")\n",
    "plt.ylabel(u\"prix exact\")\n",
    "plt.show()"
   ]
  },
  {
   "cell_type": "code",
   "execution_count": null,
   "id": "d4b91e73",
   "metadata": {},
   "outputs": [],
   "source": [
    "plt.plot(prevOpt,np.ravel(Y_val) - prevOpt,\"o\")\n",
    "plt.xlabel(u\"prix prédit\")\n",
    "plt.ylabel(u\"résidus\")\n",
    "plt.hlines(0,0,500)\n",
    "plt.show()"
   ]
  },
  {
   "cell_type": "code",
   "execution_count": null,
   "id": "702eb845",
   "metadata": {},
   "outputs": [],
   "source": []
  },
  {
   "cell_type": "code",
   "execution_count": null,
   "id": "055943b3",
   "metadata": {},
   "outputs": [],
   "source": [
    "#prev0=np.around(prev, decimals=1)\n",
    "#prev0"
   ]
  },
  {
   "cell_type": "code",
   "execution_count": null,
   "id": "12f8768d",
   "metadata": {},
   "outputs": [],
   "source": [
    "#len(prev0)\n",
    "#indice0 = pd.DataFrame(np.arange(0,len(prev0)),columns = ['index'])\n",
    "#indice0"
   ]
  },
  {
   "cell_type": "code",
   "execution_count": null,
   "id": "fbfcd278",
   "metadata": {},
   "outputs": [],
   "source": [
    "#price0=pd.DataFrame(prev0,columns = ['price'])\n",
    "#price0"
   ]
  },
  {
   "cell_type": "code",
   "execution_count": null,
   "id": "96e56090",
   "metadata": {},
   "outputs": [],
   "source": [
    "#sub0=indice0.join(price0, on=None, how='right', lsuffix='', rsuffix='', sort=False)\n",
    "#sub0"
   ]
  },
  {
   "cell_type": "code",
   "execution_count": null,
   "id": "23233f72",
   "metadata": {},
   "outputs": [],
   "source": [
    "#sub0.to_csv('./Y_val.csv', index= False)"
   ]
  },
  {
   "cell_type": "code",
   "execution_count": null,
   "id": "89119f06",
   "metadata": {},
   "outputs": [],
   "source": []
  },
  {
   "cell_type": "markdown",
   "id": "2e10efd6",
   "metadata": {},
   "source": [
    "## Modélisation avec une SVM ???"
   ]
  },
  {
   "cell_type": "code",
   "execution_count": null,
   "id": "938f7fb2",
   "metadata": {},
   "outputs": [],
   "source": [
    "#from sklearn.model_selection import GridSearchCV\n",
    "#from sklearn.svm import SVR"
   ]
  },
  {
   "cell_type": "markdown",
   "id": "03667361",
   "metadata": {},
   "source": [
    "Optimisation par validation croisée -> TROP COUTEUX"
   ]
  },
  {
   "cell_type": "code",
   "execution_count": null,
   "id": "3f1ffee0",
   "metadata": {},
   "outputs": [],
   "source": [
    "#from sklearn.model_selection import GridSearchCV\n",
    "#from sklearn.svm import SVR\n",
    "#param=[{\"C\":[0.4,0.7,1],\"gamma\":[.03,.04,.05]}]\n",
    "#svm= GridSearchCV(SVR(),param,cv=10,n_jobs=-1)\n",
    "#svmOpt=svm.fit(Xr_train,Ytrain)\n",
    "# paramètre optimal\n",
    "#print(\"Meilleur R2 = %f, Meilleur paramètre = %s\" % (svmOpt.best_score_,svmOpt.best_params_))"
   ]
  },
  {
   "cell_type": "code",
   "execution_count": null,
   "id": "14beef9c",
   "metadata": {},
   "outputs": [],
   "source": [
    "#from sklearn.metrics import mean_squared_error\n",
    "#from sklearn.metrics import r2_score\n",
    "#prevSVM=svmOpt.predict(Xr_val)\n",
    "#print(\"MSE=\",mean_squared_error(Y_val,prevSVM))\n",
    "#print(\"R2=\",r2_score(Y_val,prevSVM))"
   ]
  },
  {
   "cell_type": "code",
   "execution_count": null,
   "id": "cc17c6db",
   "metadata": {},
   "outputs": [],
   "source": []
  },
  {
   "cell_type": "markdown",
   "id": "e1f986fe",
   "metadata": {},
   "source": [
    "## Modélisation avec XGBoost\n",
    "\n",
    "### PARAMETRES A OPTIMISER ???"
   ]
  },
  {
   "cell_type": "code",
   "execution_count": null,
   "id": "f0a87882",
   "metadata": {},
   "outputs": [],
   "source": [
    "from sklearn.ensemble import GradientBoostingRegressor\n",
    "Boost = GradientBoostingRegressor()\n",
    "Bfit=Boost.fit(Xr_train, Ytrain)"
   ]
  },
  {
   "cell_type": "code",
   "execution_count": null,
   "id": "b40be644",
   "metadata": {},
   "outputs": [],
   "source": [
    "Bfit.score(Xr_train, Ytrain)"
   ]
  },
  {
   "cell_type": "code",
   "execution_count": null,
   "id": "c8c286ab",
   "metadata": {},
   "outputs": [],
   "source": [
    "Bfit.score(Xr_val, Y_val)"
   ]
  },
  {
   "cell_type": "code",
   "execution_count": null,
   "id": "5457f3ee",
   "metadata": {},
   "outputs": [],
   "source": [
    "prevB=Bfit.predict(Xr_val)\n",
    "plt.plot(prevB,Y_val,\"o\")\n",
    "plt.xlabel(u\"prix prédit\")\n",
    "plt.ylabel(u\"prix exact\")\n",
    "plt.show()"
   ]
  },
  {
   "cell_type": "code",
   "execution_count": null,
   "id": "c9672a5b",
   "metadata": {},
   "outputs": [],
   "source": [
    "plt.plot(prevOpt,np.ravel(Y_val) - prevOpt,\"o\")\n",
    "plt.xlabel(u\"prix prédit\")\n",
    "plt.ylabel(u\"résidus\")\n",
    "plt.hlines(0,0,500)\n",
    "plt.show()"
   ]
  },
  {
   "cell_type": "markdown",
   "id": "5aabf5c4",
   "metadata": {},
   "source": [
    "## Prédiction sur les données test (à mettre dans un autre fichier qd on passera en .py)"
   ]
  },
  {
   "cell_type": "code",
   "execution_count": 17,
   "id": "eaf4ddf3",
   "metadata": {},
   "outputs": [
    {
     "data": {
      "text/html": [
       "<div>\n",
       "<style scoped>\n",
       "    .dataframe tbody tr th:only-of-type {\n",
       "        vertical-align: middle;\n",
       "    }\n",
       "\n",
       "    .dataframe tbody tr th {\n",
       "        vertical-align: top;\n",
       "    }\n",
       "\n",
       "    .dataframe thead th {\n",
       "        text-align: right;\n",
       "    }\n",
       "</style>\n",
       "<table border=\"1\" class=\"dataframe\">\n",
       "  <thead>\n",
       "    <tr style=\"text-align: right;\">\n",
       "      <th></th>\n",
       "      <th>nb_requete</th>\n",
       "      <th>index</th>\n",
       "      <th>order_requests</th>\n",
       "      <th>city</th>\n",
       "      <th>date</th>\n",
       "      <th>language</th>\n",
       "      <th>mobile</th>\n",
       "      <th>avatar_id</th>\n",
       "      <th>hotel_id</th>\n",
       "      <th>stock</th>\n",
       "      <th>group</th>\n",
       "      <th>brand</th>\n",
       "      <th>parking</th>\n",
       "      <th>pool</th>\n",
       "      <th>children_policy</th>\n",
       "    </tr>\n",
       "  </thead>\n",
       "  <tbody>\n",
       "    <tr>\n",
       "      <th>0</th>\n",
       "      <td>1</td>\n",
       "      <td>0</td>\n",
       "      <td>1</td>\n",
       "      <td>vilnius</td>\n",
       "      <td>21</td>\n",
       "      <td>romanian</td>\n",
       "      <td>0</td>\n",
       "      <td>1</td>\n",
       "      <td>161</td>\n",
       "      <td>46</td>\n",
       "      <td>Boss Western</td>\n",
       "      <td>J.Halliday Inn</td>\n",
       "      <td>1</td>\n",
       "      <td>0</td>\n",
       "      <td>0</td>\n",
       "    </tr>\n",
       "    <tr>\n",
       "      <th>1</th>\n",
       "      <td>1</td>\n",
       "      <td>1</td>\n",
       "      <td>1</td>\n",
       "      <td>vilnius</td>\n",
       "      <td>21</td>\n",
       "      <td>romanian</td>\n",
       "      <td>0</td>\n",
       "      <td>1</td>\n",
       "      <td>187</td>\n",
       "      <td>32</td>\n",
       "      <td>Accar Hotels</td>\n",
       "      <td>Marcure</td>\n",
       "      <td>1</td>\n",
       "      <td>1</td>\n",
       "      <td>0</td>\n",
       "    </tr>\n",
       "    <tr>\n",
       "      <th>2</th>\n",
       "      <td>1</td>\n",
       "      <td>2</td>\n",
       "      <td>1</td>\n",
       "      <td>vilnius</td>\n",
       "      <td>21</td>\n",
       "      <td>romanian</td>\n",
       "      <td>0</td>\n",
       "      <td>1</td>\n",
       "      <td>279</td>\n",
       "      <td>12</td>\n",
       "      <td>Independant</td>\n",
       "      <td>Independant</td>\n",
       "      <td>1</td>\n",
       "      <td>0</td>\n",
       "      <td>0</td>\n",
       "    </tr>\n",
       "    <tr>\n",
       "      <th>3</th>\n",
       "      <td>1</td>\n",
       "      <td>3</td>\n",
       "      <td>1</td>\n",
       "      <td>vilnius</td>\n",
       "      <td>21</td>\n",
       "      <td>romanian</td>\n",
       "      <td>0</td>\n",
       "      <td>1</td>\n",
       "      <td>395</td>\n",
       "      <td>10</td>\n",
       "      <td>Accar Hotels</td>\n",
       "      <td>Ibas</td>\n",
       "      <td>0</td>\n",
       "      <td>0</td>\n",
       "      <td>0</td>\n",
       "    </tr>\n",
       "    <tr>\n",
       "      <th>4</th>\n",
       "      <td>1</td>\n",
       "      <td>4</td>\n",
       "      <td>1</td>\n",
       "      <td>vilnius</td>\n",
       "      <td>21</td>\n",
       "      <td>romanian</td>\n",
       "      <td>0</td>\n",
       "      <td>1</td>\n",
       "      <td>488</td>\n",
       "      <td>42</td>\n",
       "      <td>Accar Hotels</td>\n",
       "      <td>Safitel</td>\n",
       "      <td>1</td>\n",
       "      <td>1</td>\n",
       "      <td>1</td>\n",
       "    </tr>\n",
       "  </tbody>\n",
       "</table>\n",
       "</div>"
      ],
      "text/plain": [
       "   nb_requete  index  order_requests     city  date  language  mobile  \\\n",
       "0           1      0               1  vilnius    21  romanian       0   \n",
       "1           1      1               1  vilnius    21  romanian       0   \n",
       "2           1      2               1  vilnius    21  romanian       0   \n",
       "3           1      3               1  vilnius    21  romanian       0   \n",
       "4           1      4               1  vilnius    21  romanian       0   \n",
       "\n",
       "   avatar_id  hotel_id  stock         group           brand  parking  pool  \\\n",
       "0          1       161     46  Boss Western  J.Halliday Inn        1     0   \n",
       "1          1       187     32  Accar Hotels         Marcure        1     1   \n",
       "2          1       279     12   Independant     Independant        1     0   \n",
       "3          1       395     10  Accar Hotels            Ibas        0     0   \n",
       "4          1       488     42  Accar Hotels         Safitel        1     1   \n",
       "\n",
       "   children_policy  \n",
       "0                0  \n",
       "1                0  \n",
       "2                0  \n",
       "3                0  \n",
       "4                1  "
      ]
     },
     "execution_count": 17,
     "metadata": {},
     "output_type": "execute_result"
    }
   ],
   "source": [
    "import pandas as pd\n",
    "import numpy as np\n",
    "import panel as pn\n",
    "\n",
    "%matplotlib inline\n",
    "import matplotlib.pyplot as plt\n",
    "\n",
    "test = pd.read_csv('./defi-ia-2023/test_set3.csv')\n",
    "test.head()"
   ]
  },
  {
   "cell_type": "code",
   "execution_count": null,
   "id": "a286d4ac",
   "metadata": {},
   "outputs": [],
   "source": [
    "#len(test)"
   ]
  },
  {
   "cell_type": "code",
   "execution_count": null,
   "id": "be9ef292",
   "metadata": {},
   "outputs": [],
   "source": [
    "#test.dtypes"
   ]
  },
  {
   "cell_type": "code",
   "execution_count": 18,
   "id": "ed59db4b",
   "metadata": {},
   "outputs": [],
   "source": [
    "#On affecte le bon type aux variables qualitatives\n",
    "test[\"city\"]=pd.Categorical(test[\"city\"],ordered=False)\n",
    "test[\"language\"]=pd.Categorical(test[\"language\"],ordered=False)\n",
    "test[\"group\"]=pd.Categorical(test[\"group\"],ordered=False)\n",
    "test[\"brand\"]=pd.Categorical(test[\"brand\"],ordered=False)\n",
    "\n",
    "test[\"mobile\"]=pd.Categorical(test[\"mobile\"],ordered=False)\n",
    "test[\"parking\"]=pd.Categorical(test[\"parking\"],ordered=False)\n",
    "test[\"pool\"]=pd.Categorical(test[\"pool\"],ordered=False)\n",
    "test[\"children_policy\"]=pd.Categorical(test[\"children_policy\"],ordered=False)\n",
    "\n",
    "test[\"hotel_id\"]=pd.Categorical(test[\"hotel_id\"],ordered=False)\n",
    "test[\"avatar_id\"]=pd.Categorical(test[\"avatar_id\"],ordered=False)\n",
    "\n",
    "#test[\"price\"]=pd.DataFrame(test[\"price\"], dtype=float)\n",
    "\n",
    "#test.dtypes\n",
    "#test.head()"
   ]
  },
  {
   "cell_type": "code",
   "execution_count": 19,
   "id": "bc97700d",
   "metadata": {},
   "outputs": [],
   "source": [
    "#avec l'hotel_id\n",
    "T=test[[\"city\",\"language\",\"mobile\",\"hotel_id\",\"group\",\"brand\",\"parking\",\"pool\",\"children_policy\"]]\n",
    "#sans l'hotel_id\n",
    "#T=test[[\"city\",\"language\",\"mobile\",\"group\",\"brand\",\"parking\",\"pool\",\"children_policy\"]]\n",
    "Tenc=enc.transform(T).toarray()\n",
    "#Tenc"
   ]
  },
  {
   "cell_type": "code",
   "execution_count": 20,
   "id": "3efa5d56",
   "metadata": {},
   "outputs": [],
   "source": [
    "testDum=pd.DataFrame(Tenc)\n",
    "#testDum"
   ]
  },
  {
   "cell_type": "code",
   "execution_count": 21,
   "id": "595e887a",
   "metadata": {},
   "outputs": [],
   "source": [
    "testQuant = test[[\"stock\",\"date\",\"nb_requete\"]]\n",
    "#testDum = pd.get_dummies(test[[\"city\",\"language\",\"mobile\",\"hotel_id\",\"group\",\"brand\",\"parking\",\"pool\",\"children_policy\"]])\n",
    "Xtest = pd.concat([testQuant,testDum],axis=1)\n",
    "#Xtest.head()"
   ]
  },
  {
   "cell_type": "code",
   "execution_count": 22,
   "id": "87359fdb",
   "metadata": {},
   "outputs": [],
   "source": [
    "#Xtest.shape"
   ]
  },
  {
   "cell_type": "code",
   "execution_count": 23,
   "id": "d2bf261f",
   "metadata": {},
   "outputs": [],
   "source": [
    "Xr_test = scaler.transform(Xtest) #APPLIQUER LA NORMALISATION"
   ]
  },
  {
   "cell_type": "code",
   "execution_count": 24,
   "id": "32f88ab4",
   "metadata": {},
   "outputs": [],
   "source": [
    "Yprev=rfFit.predict(Xr_test)\n",
    "#Yprev=rfOpt.predict(Xr_test)\n",
    "#Yprev=Bfit.predict(Xr_test)"
   ]
  },
  {
   "cell_type": "code",
   "execution_count": 25,
   "id": "7c4208f2",
   "metadata": {},
   "outputs": [],
   "source": [
    "Yprev0=np.around(Yprev, decimals=1)\n",
    "#Yprev0"
   ]
  },
  {
   "cell_type": "code",
   "execution_count": 26,
   "id": "4041b00d",
   "metadata": {},
   "outputs": [],
   "source": [
    "len(Yprev0)\n",
    "Yindice = pd.DataFrame(np.arange(0,len(Yprev0)),columns = ['index'])\n",
    "#Yindice"
   ]
  },
  {
   "cell_type": "code",
   "execution_count": 27,
   "id": "8e81841c",
   "metadata": {},
   "outputs": [],
   "source": [
    "Yprice=pd.DataFrame(Yprev0,columns = ['price'])\n",
    "#Yprice"
   ]
  },
  {
   "cell_type": "code",
   "execution_count": 28,
   "id": "97960518",
   "metadata": {},
   "outputs": [],
   "source": [
    "Ysub=Yindice.join(Yprice, on=None, how='right', lsuffix='', rsuffix='', sort=False)\n",
    "#Ysub"
   ]
  },
  {
   "cell_type": "code",
   "execution_count": 29,
   "id": "b93582da",
   "metadata": {},
   "outputs": [],
   "source": [
    "Ysub.to_csv('./sample_submission12.csv', index= False)"
   ]
  },
  {
   "cell_type": "code",
   "execution_count": null,
   "id": "45037d47",
   "metadata": {},
   "outputs": [],
   "source": [
    "#len(Ysub)"
   ]
  },
  {
   "cell_type": "code",
   "execution_count": null,
   "id": "c6e6ca61",
   "metadata": {},
   "outputs": [],
   "source": []
  }
 ],
 "metadata": {
  "kernelspec": {
   "display_name": "Python 3 (ipykernel)",
   "language": "python",
   "name": "python3"
  },
  "language_info": {
   "codemirror_mode": {
    "name": "ipython",
    "version": 3
   },
   "file_extension": ".py",
   "mimetype": "text/x-python",
   "name": "python",
   "nbconvert_exporter": "python",
   "pygments_lexer": "ipython3",
   "version": "3.9.7"
  }
 },
 "nbformat": 4,
 "nbformat_minor": 5
}
